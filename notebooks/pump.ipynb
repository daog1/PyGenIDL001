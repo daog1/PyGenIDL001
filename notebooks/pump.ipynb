{
 "cells": [
  {
   "cell_type": "markdown",
   "id": "3a0bc4d1",
   "metadata": {},
   "source": [
    "Initialize environment and retrieve transaction\n",
    "To run the .ipynb file, create a .env file in the project root directory and configure the rpc_url environment variable."
   ]
  },
  {
   "cell_type": "code",
   "execution_count": 3,
   "id": "1012dfa2",
   "metadata": {},
   "outputs": [
    {
     "name": "stdout",
     "output_type": "stream",
     "text": [
      "{\"transaction\":{\"signatures\":[\"42G77yRGQhe7npTXhhHiEVpNpeHewTDXxYdxsjDjERjbTTDz7YjYdziUws8jTVnt3PzJX2VMdP6AoRK3qnL9he57\"],\"message\":{\"header\":{\"numRequiredSignatures\":1,\"numReadonlySignedAccounts\":0,\"numReadonlyUnsignedAccounts\":9},\"accountKeys\":[\"BDBQxn2VSD91awc7senrc6NPMsYHcbYm7xiVVWsvGGVZ\",\"62qc2CNXwrYqQScmEdiZFFAnJR262PxWEuNQtxfafNgV\",\"EMP57eFCyZGksCjLbHkixfijnKk8xg3bz489CUJXLwEa\",\"ETX2hVT1afw6E8w4DiTp6LZW2GsCSmFggojFsVSeufRG\",\"6z2E8La5Cbu4H1bKVqigVYa2G1kBMBxhGAyWVTRRLPTb\",\"4msnRRD8qvDj7T1sQwmbX395W4E9BcxixvkB7hCrWHGv\",\"9yMwSPk9mrXSN7yDHUuZurAh1sjbJsfpUqjZ7SvVtdco\",\"ComputeBudget111111111111111111111111111111\",\"6EF8rrecthR5Dkzon8Nwu78hRvfCKubJ14M5uBEwF6P\",\"4wTV1YmiEkRvAtNtsSGPtUrqRYQMe5SKy2uB4Jjaxnjf\",\"FfYzzvJZxSCDAxMwJQiuWzdKZgVL6YYJUjzNw5z7pump\",\"11111111111111111111111111111111\",\"TokenkegQfeZyiNwAJbNbGKPFXCWuBvf9Ss623VQ5DA\",\"Ce6TQqeHC9p8KetsN6JsjHK7UTZk7nasjjnr7XxXp9F1\",\"troY36YiPGqMyAYCNbEqYCdN2tb91Zf7bHcQt7KUi61\",\"jitodontfront111111111111111118294841111111\"],\"recentBlockhash\":\"Bwas2UakfQTNdcb5s7GD6RK8ikdoFPdCe4t88Xk4DtKe\",\"instructions\":[{\"programIdIndex\":7,\"accounts\":[],\"data\":\"GVL855\",\"stackHeight\":null},{\"programIdIndex\":7,\"accounts\":[],\"data\":\"3N9qWXdVdbs5\",\"stackHeight\":null},{\"programIdIndex\":8,\"accounts\":[9,1,10,2,3,4,0,11,5,12,13,8],\"data\":\"5jRcjdixRUDbKCP6fxpd5e9AoHGioLF91\",\"stackHeight\":null},{\"programIdIndex\":14,\"accounts\":[0,6,15,11],\"data\":\"TBXxREN7AVf8EuatyEt7r7\",\"stackHeight\":null}],\"addressTableLookups\":[]}},\"meta\":{\"err\":null,\"status\":{\"Ok\":null},\"fee\":1005001,\"preBalances\":[2034045327,75544625297015,29411763216,2039280,2039280,222481597,1363547537952,1,1141440,290898417,1461600,1,934087680,137104014,1141440,0],\"postBalances\":[3162300054,75544636232762,28260631994,2039280,2039280,223057163,1363557898133,1,1141440,290898417,1461600,1,934087680,137104014,1141440,0],\"innerInstructions\":[{\"index\":2,\"instructions\":[{\"programIdIndex\":12,\"accounts\":[4,3,0],\"data\":\"3iEf1NhopwJP\",\"stackHeight\":2},{\"programIdIndex\":8,\"accounts\":[13],\"data\":\"2zjR1PvPvgqdhPdZLxuWCL9fEMLBoyQzb8tn3LBYfYGzyaTGuadeQJkLhRJXfWZacNAWndZXcXcvQeUP1nKeU2vtk9iaG6boNBGTkBq1qUcGoTosZd3CS4zfE5TwdxaLwxuqUTDocPe6WWEB55t4uq3nKggWsXRKGqnaBXagmz2xWG6ZEmNZKfkeg2xuJoEHUNtTHBraaftLNBqebTSyeftemHrmkoHkoQmKFzAmoS2Qa2BuwzfcWFgFEYxnxscneFJNB8MT365Un4gNE7RazAoXUMqRLFsKaDPUkqDGrKyAYWsMDHqvw5Pw8JQSxCF\",\"stackHeight\":2}]},{\"index\":3,\"instructions\":[{\"programIdIndex\":11,\"accounts\":[0,6],\"data\":\"3Bxs4LSXTsgvXVmy\",\"stackHeight\":2}]}],\"logMessages\":[\"Program ComputeBudget111111111111111111111111111111 invoke [1]\",\"Program ComputeBudget111111111111111111111111111111 success\",\"Program ComputeBudget111111111111111111111111111111 invoke [1]\",\"Program ComputeBudget111111111111111111111111111111 success\",\"Program 6EF8rrecthR5Dkzon8Nwu78hRvfCKubJ14M5uBEwF6P invoke [1]\",\"Program log: Instruction: Sell\",\"Program TokenkegQfeZyiNwAJbNbGKPFXCWuBvf9Ss623VQ5DA invoke [2]\",\"Program log: Instruction: Transfer\",\"Program TokenkegQfeZyiNwAJbNbGKPFXCWuBvf9Ss623VQ5DA consumed 4645 of 40271 compute units\",\"Program TokenkegQfeZyiNwAJbNbGKPFXCWuBvf9Ss623VQ5DA success\",\"Program data: vdt/007mYe7Z497FjYLTeLzgzWj+cAnfms+GxaQz2WnnMMCe5XZgz1benEQAAAAArAybrrwJAAAAl7Oc9qNerycwtF3ofw+rEabNxYtlRqQqGUgxermKLrwdxTdoAAAAAJorfZANAAAA6w0oNIf2AQCaf1mUBgAAAOt1Fej19wAASsL40N1cvJfjKJwZfLUGKlTz2Va5zm5RFfllZ6pcs+ZfAAAAAAAAAMPdpgAAAAAAMFeZ8F3+/Sr/3CB8F37IJNQwzLrRxoxHU85sVAt3LKMFAAAAAAAAAE7ICAAAAAAA\",\"Program 6EF8rrecthR5Dkzon8Nwu78hRvfCKubJ14M5uBEwF6P invoke [2]\",\"Program 6EF8rrecthR5Dkzon8Nwu78hRvfCKubJ14M5uBEwF6P consumed 2006 of 30176 compute units\",\"Program 6EF8rrecthR5Dkzon8Nwu78hRvfCKubJ14M5uBEwF6P success\",\"Program 6EF8rrecthR5Dkzon8Nwu78hRvfCKubJ14M5uBEwF6P consumed 33897 of 61233 compute units\",\"Program 6EF8rrecthR5Dkzon8Nwu78hRvfCKubJ14M5uBEwF6P success\",\"Program troY36YiPGqMyAYCNbEqYCdN2tb91Zf7bHcQt7KUi61 invoke [1]\",\"Program log: Instruction: FeeTransfer\",\"Program 11111111111111111111111111111111 invoke [2]\",\"Program 11111111111111111111111111111111 success\",\"Program troY36YiPGqMyAYCNbEqYCdN2tb91Zf7bHcQt7KUi61 consumed 3560 of 27336 compute units\",\"Program troY36YiPGqMyAYCNbEqYCdN2tb91Zf7bHcQt7KUi61 success\"],\"preTokenBalances\":[{\"accountIndex\":3,\"mint\":\"FfYzzvJZxSCDAxMwJQiuWzdKZgVL6YYJUjzNw5z7pump\",\"uiTokenAmount\":{\"uiAmount\":468829544.870208,\"decimals\":6,\"amount\":\"468829544870208\",\"uiAmountString\":\"468829544.870208\"},\"owner\":\"EMP57eFCyZGksCjLbHkixfijnKk8xg3bz489CUJXLwEa\",\"programId\":\"TokenkegQfeZyiNwAJbNbGKPFXCWuBvf9Ss623VQ5DA\"},{\"accountIndex\":4,\"mint\":\"FfYzzvJZxSCDAxMwJQiuWzdKZgVL6YYJUjzNw5z7pump\",\"uiTokenAmount\":{\"uiAmount\":21411975.797081,\"decimals\":6,\"amount\":\"21411975797081\",\"uiAmountString\":\"21411975.797081\"},\"owner\":\"BDBQxn2VSD91awc7senrc6NPMsYHcbYm7xiVVWsvGGVZ\",\"programId\":\"TokenkegQfeZyiNwAJbNbGKPFXCWuBvf9Ss623VQ5DA\"}],\"postTokenBalances\":[{\"accountIndex\":3,\"mint\":\"FfYzzvJZxSCDAxMwJQiuWzdKZgVL6YYJUjzNw5z7pump\",\"uiTokenAmount\":{\"uiAmount\":479535532.768748,\"decimals\":6,\"amount\":\"479535532768748\",\"uiAmountString\":\"479535532.768748\"},\"owner\":\"EMP57eFCyZGksCjLbHkixfijnKk8xg3bz489CUJXLwEa\",\"programId\":\"TokenkegQfeZyiNwAJbNbGKPFXCWuBvf9Ss623VQ5DA\"},{\"accountIndex\":4,\"mint\":\"FfYzzvJZxSCDAxMwJQiuWzdKZgVL6YYJUjzNw5z7pump\",\"uiTokenAmount\":{\"uiAmount\":10705987.898541,\"decimals\":6,\"amount\":\"10705987898541\",\"uiAmountString\":\"10705987.898541\"},\"owner\":\"BDBQxn2VSD91awc7senrc6NPMsYHcbYm7xiVVWsvGGVZ\",\"programId\":\"TokenkegQfeZyiNwAJbNbGKPFXCWuBvf9Ss623VQ5DA\"}],\"rewards\":[],\"loadedAddresses\":{\"writable\":[],\"readonly\":[]},\"computeUnitsConsumed\":37757},\"version\":0}\n"
     ]
    }
   ],
   "source": [
    "import anchorpy\n",
    "import solana\n",
    "from dotenv import load_dotenv\n",
    "import os\n",
    "from solders.pubkey import Pubkey\n",
    "from utils import find_program_index,getTx\n",
    "load_dotenv()\n",
    "tx= getTx(\"42G77yRGQhe7npTXhhHiEVpNpeHewTDXxYdxsjDjERjbTTDz7YjYdziUws8jTVnt3PzJX2VMdP6AoRK3qnL9he57\")\n",
    "print(tx.value.transaction.to_json())"
   ]
  },
  {
   "cell_type": "code",
   "execution_count": 4,
   "id": "b6098325",
   "metadata": {},
   "outputs": [
    {
     "name": "stdout",
     "output_type": "stream",
     "text": [
      "Program index: 8\n"
     ]
    }
   ],
   "source": [
    "\n",
    "index = find_program_index(tx,Pubkey.from_string(\"6EF8rrecthR5Dkzon8Nwu78hRvfCKubJ14M5uBEwF6P\"))\n",
    "print(f\"Program index: {index}\")"
   ]
  },
  {
   "cell_type": "markdown",
   "id": "bdd8aa27",
   "metadata": {},
   "source": [
    "Parse sell instruction parameters"
   ]
  },
  {
   "cell_type": "code",
   "execution_count": 5,
   "id": "e883e42c",
   "metadata": {},
   "outputs": [
    {
     "name": "stdout",
     "output_type": "stream",
     "text": [
      "Program ID: 6EF8rrecthR5Dkzon8Nwu78hRvfCKubJ14M5uBEwF6P\n",
      "Instruction 0 does not match the program ID index.\n",
      "Instruction 1 does not match the program ID index.\n",
      "Instruction 2:\n",
      "  Program ID Index: 8\n",
      "  Data: 5jRcjdixRUDbKCP6fxpd5e9AoHGioLF91\n",
      "Data: Container: \n",
      "    amount = 10705987898540\n",
      "    minSolOutput = 968676924\n",
      "Instruction 3 does not match the program ID index.\n"
     ]
    }
   ],
   "source": [
    "import base64\n",
    "import sys\n",
    "import based58\n",
    "current_dir = os.getcwd()\n",
    "parent_dir = os.path.dirname(current_dir)\n",
    "sys.path.append(parent_dir)\n",
    "from pump.program_id import PROGRAM_ID\n",
    "from pump.instructions import sell\n",
    "print(f\"Program ID: {PROGRAM_ID}\")\n",
    "def DecodeSell(data):\n",
    "    bindata = based58.b58decode(data.encode('utf-8')) #//[:8]\n",
    "    if bindata[0:8] == b\"\\x33\\xe6\\x85\\xa4\\x01\\x7f\\x83\\xad\":\n",
    "        o = sell.layout.parse(bindata[8:])\n",
    "        print(f\"Data: {o}\")\n",
    "    \n",
    "for i, instruction in enumerate(tx.value.transaction.transaction.message.instructions):\n",
    "    if instruction.program_id_index == index:\n",
    "        print(f\"Instruction {i}:\")\n",
    "        print(f\"  Program ID Index: {instruction.program_id_index}\")\n",
    "        print(f\"  Data: {instruction.data}\")\n",
    "        DecodeSell(instruction.data)\n",
    "    else:\n",
    "        print(f\"Instruction {i} does not match the program ID index.\")"
   ]
  },
  {
   "cell_type": "markdown",
   "id": "e0fb1122",
   "metadata": {},
   "source": [
    "Parse sell instruction parameters"
   ]
  },
  {
   "cell_type": "code",
   "execution_count": 6,
   "id": "22b8daf0",
   "metadata": {},
   "outputs": [
    {
     "name": "stdout",
     "output_type": "stream",
     "text": [
      "  Data (Base58 decoded): 33e685a4017f83adac0c9baebc0900003cd6bc3900000000\n",
      "  Data (Base58 decoded): ac0c9baebc0900003cd6bc3900000000\n"
     ]
    },
    {
     "data": {
      "text/plain": [
       "Container(amount=10705987898540, minSolOutput=968676924)"
      ]
     },
     "execution_count": 6,
     "metadata": {},
     "output_type": "execute_result"
    }
   ],
   "source": [
    "import based58\n",
    "decoded_data = based58.b58decode(\"5jRcjdixRUDbKCP6fxpd5e9AoHGioLF91\".encode('utf-8'))\n",
    "print(f\"  Data (Base58 decoded): {decoded_data.hex()}\")\n",
    "print(f\"  Data (Base58 decoded): {decoded_data[8:].hex()}\")\n",
    "sell.layout.parse(decoded_data[8:])"
   ]
  },
  {
   "cell_type": "code",
   "execution_count": 22,
   "id": "86c1ad96",
   "metadata": {},
   "outputs": [
    {
     "data": {
      "text/plain": [
       "Container(amount=10705987898540, minSolOutput=968676924)"
      ]
     },
     "execution_count": 22,
     "metadata": {},
     "output_type": "execute_result"
    }
   ],
   "source": [
    "import borsh_construct as borsh;\n",
    "layout = borsh.CStruct(\n",
    "    \"amount\" /borsh.U64,\n",
    "    \"minSolOutput\" /borsh.U64,\n",
    "    )\n",
    "layout.parse(decoded_data[8:])"
   ]
  },
  {
   "cell_type": "markdown",
   "id": "cd9f294f",
   "metadata": {},
   "source": [
    "Construct a sell instruction"
   ]
  },
  {
   "cell_type": "code",
   "execution_count": 8,
   "id": "e10f3144",
   "metadata": {},
   "outputs": [
    {
     "name": "stdout",
     "output_type": "stream",
     "text": [
      "Instruction: 33e685a4017f83adac0c9baebc0900003cd6bc3900000000\n",
      "Instruction: b'5jRcjdixRUDbKCP6fxpd5e9AoHGioLF91'\n"
     ]
    }
   ],
   "source": [
    "from pump.instructions import sell\n",
    "args :sell.SellArgs={\"amount\":10705987898540,\"minSolOutput\":968676924}\n",
    "accounts:sell.SellAccounts={\n",
    "    \"global_\":Pubkey.from_string(\"6EF8rrecthR5Dkzon8Nwu78hRvfCKubJ14M5uBEwF6P\"),\n",
    "    \"feeRecipient\":Pubkey.from_string(\"6EF8rrecthR5Dkzon8Nwu78hRvfCKubJ14M5uBEwF6P\"),\n",
    "    \"mint\":Pubkey.from_string(\"6EF8rrecthR5Dkzon8Nwu78hRvfCKubJ14M5uBEwF6P\"),\n",
    "    \"bondingCurve\":Pubkey.from_string(\"6EF8rrecthR5Dkzon8Nwu78hRvfCKubJ14M5uBEwF6P\"),\n",
    "    \"associatedBondingCurve\":Pubkey.from_string(\"6EF8rrecthR5Dkzon8Nwu78hRvfCKubJ14M5uBEwF6P\"),\n",
    "    \"associatedUser\":Pubkey.from_string(\"6EF8rrecthR5Dkzon8Nwu78hRvfCKubJ14M5uBEwF6P\"),\n",
    "    \"user\":Pubkey.from_string(\"6EF8rrecthR5Dkzon8Nwu78hRvfCKubJ14M5uBEwF6P\"),\n",
    "    \"systemProgram\":Pubkey.from_string(\"6EF8rrecthR5Dkzon8Nwu78hRvfCKubJ14M5uBEwF6P\"),\n",
    "    \"creatorVault\":Pubkey.from_string(\"6EF8rrecthR5Dkzon8Nwu78hRvfCKubJ14M5uBEwF6P\"),\n",
    "    \"tokenProgram\":Pubkey.from_string(\"6EF8rrecthR5Dkzon8Nwu78hRvfCKubJ14M5uBEwF6P\"),\n",
    "    \"eventAuthority\":Pubkey.from_string(\"6EF8rrecthR5Dkzon8Nwu78hRvfCKubJ14M5uBEwF6P\"),\n",
    "    \"program\":Pubkey.from_string(\"6EF8rrecthR5Dkzon8Nwu78hRvfCKubJ14M5uBEwF6P\"),\n",
    "}\n",
    "inx = sell.Sell(args=args,accounts=accounts)\n",
    "print(f\"Instruction: {inx.data.hex()}\")\n",
    "print(f\"Instruction: {based58.b58encode(inx.data)}\")"
   ]
  },
  {
   "cell_type": "markdown",
   "id": "e5c97d1f",
   "metadata": {},
   "source": [
    "Example of account data(Global)  retrieval."
   ]
  },
  {
   "cell_type": "code",
   "execution_count": 9,
   "id": "c5e08688",
   "metadata": {},
   "outputs": [
    {
     "name": "stdout",
     "output_type": "stream",
     "text": [
      "Global Account: Global(initialized=True, authority=Pubkey(\n",
      "    FFWtrEQ4B4PKQoVuHYzZq8FabGkVatYzDpEVHsK5rrhF,\n",
      "), feeRecipient=Pubkey(\n",
      "    62qc2CNXwrYqQScmEdiZFFAnJR262PxWEuNQtxfafNgV,\n",
      "), initialVirtualTokenReserves=1073000000000000, initialVirtualSolReserves=30000000000, initialRealTokenReserves=793100000000000, tokenTotalSupply=1000000000000000, feeBasisPoints=95, withdrawAuthority=Pubkey(\n",
      "    39azUYFWPz3VHgKCf3VChUwbpURdCHRxjWVowf5jUJjg,\n",
      "), enableMigrate=True, poolMigrationFee=15000001, creatorFeeBasisPoints=5, feeRecipients=ListContainer([Pubkey(\n",
      "    7VtfL8fvgNfhz17qKRMjzQEXgbdpnHHHQRh54R9jP2RJ,\n",
      "), Pubkey(\n",
      "    7hTckgnGnLQR6sdH7YkqFTAA7VwTfYFaZ6EhEsU3saCX,\n",
      "), Pubkey(\n",
      "    9rPYyANsfQZw3DnDmKE3YCQF5E8oD89UXoHn9JFEhJUz,\n",
      "), Pubkey(\n",
      "    AVmoTthdrX6tKt4nDjco2D775W2YK3sDhxPcMmzUAmTY,\n",
      "), Pubkey(\n",
      "    CebN5WGQ4jvEPvsVU4EoHEpgzq1VV7AbicfhtW4xC9iM,\n",
      "), Pubkey(\n",
      "    FWsW1xNtWscwNmKv6wVsU1iTzRN6wmmk3MjxRP5tT7hz,\n",
      "), Pubkey(\n",
      "    G5UZAVbAf46s7cKWoyKu8kYTip9DGTpbLZ2qa9Aq69dP,\n",
      ")]), setCreatorAuthority=Pubkey(\n",
      "    39azUYFWPz3VHgKCf3VChUwbpURdCHRxjWVowf5jUJjg,\n",
      "))\n"
     ]
    }
   ],
   "source": [
    "from pump.accounts import global_\n",
    "from solana.rpc.async_api import AsyncClient\n",
    "client = AsyncClient(os.getenv(\"rpc_url\"))\n",
    "global_account = await global_.Global.fetch(client, Pubkey.from_string(\"4wTV1YmiEkRvAtNtsSGPtUrqRYQMe5SKy2uB4Jjaxnjf\"))\n",
    "print(f\"Global Account: {global_account}\")"
   ]
  },
  {
   "cell_type": "markdown",
   "id": "67e65edb",
   "metadata": {},
   "source": [
    "Example of account data(bondingCurve)  retrieval."
   ]
  },
  {
   "cell_type": "code",
   "execution_count": 10,
   "id": "b7c8feeb",
   "metadata": {},
   "outputs": [
    {
     "name": "stdout",
     "output_type": "stream",
     "text": [
      "bondingCurve Account: BondingCurve(virtualTokenReserves=1028557269744302, virtualSolReserves=31296264753, realTokenReserves=748657269744302, realSolReserves=1296264753, tokenTotalSupply=1000000000000000, complete=False, creator=Pubkey(\n",
      "    4Fi3arm1w5L8bevHyg54cSD4AkavYhwjDumVVGXL3Bvz,\n",
      "))\n"
     ]
    }
   ],
   "source": [
    "from pump.accounts import bondingCurve\n",
    "from solana.rpc.async_api import AsyncClient\n",
    "client = AsyncClient(os.getenv(\"rpc_url\"))\n",
    "bondingCurve_account = await bondingCurve.BondingCurve.fetch(client, Pubkey.from_string(\"EMP57eFCyZGksCjLbHkixfijnKk8xg3bz489CUJXLwEa\"))\n",
    "print(f\"bondingCurve Account: {bondingCurve_account}\")"
   ]
  },
  {
   "cell_type": "markdown",
   "id": "9bc860ed",
   "metadata": {},
   "source": [
    "Add tests for decoding CPI events."
   ]
  },
  {
   "cell_type": "code",
   "execution_count": 11,
   "id": "6d1e2cdc",
   "metadata": {},
   "outputs": [
    {
     "name": "stdout",
     "output_type": "stream",
     "text": [
      "{\"transaction\":{\"signatures\":[\"4pyAxNgauTipZLrSsrHjtzd5QWfUipSvVB5ta3Dhc6P5n9nejSevuVR7tBzB25nbB834e3J2XjENZwLoa95QVgy7\",\"m58KyczUWydZeFh2Wba35TzoM6RvDsZucM9hrsJbPxvvV9nhYvTjRTBFgHmCi7LcBPxNfvXrt5eDzBurdawScjo\"],\"message\":{\"header\":{\"numRequiredSignatures\":2,\"numReadonlySignedAccounts\":0,\"numReadonlyUnsignedAccounts\":10},\"accountKeys\":[\"FzLpPvcp1ATsAk9RXgXEWN4Ms4XkDG5SfqkxFZrvRjKJ\",\"BhweMEG27Va3KcdnEhMZNbKBxv6YQaFaPfbttwpapump\",\"9wyXQHnB8QAtza6Jvu3UcrerWeLqBzzdmbzrYdL9J9pA\",\"Gp6cBwTBp9pMFsEQB6osr3wjP8Yjcpp6aujQqjbeGudu\",\"HkDKQGfQ3rH7AYA6FNSe5Y9DomSRz1iwb8cJLa6ggu2P\",\"C4vimMfar685XvyGj7etW26e6mMhEQQuSPcgu5bhutui\",\"AVmoTthdrX6tKt4nDjco2D775W2YK3sDhxPcMmzUAmTY\",\"ArF4GbEMFBtUaPdb4abXSda5Ky7nuTGhPrnvLf5T8D5L\",\"ComputeBudget111111111111111111111111111111\",\"6EF8rrecthR5Dkzon8Nwu78hRvfCKubJ14M5uBEwF6P\",\"TSLvdd1pWpHVjahSpsvCXUbgwsL3JAcvokwaKt1eokM\",\"4wTV1YmiEkRvAtNtsSGPtUrqRYQMe5SKy2uB4Jjaxnjf\",\"metaqbxxUerdq28cj1RbAWkYQm3ybzjb6a8bt518x1s\",\"11111111111111111111111111111111\",\"TokenkegQfeZyiNwAJbNbGKPFXCWuBvf9Ss623VQ5DA\",\"ATokenGPvbdGVxr1b2hvZbsiqW5xWH25efTNsLJA8knL\",\"SysvarRent111111111111111111111111111111111\",\"Ce6TQqeHC9p8KetsN6JsjHK7UTZk7nasjjnr7XxXp9F1\"],\"recentBlockhash\":\"9nfZb8pFvafsLvXWGHW4va6gMyebXQicT2Qfq89a1QbM\",\"instructions\":[{\"programIdIndex\":8,\"accounts\":[],\"data\":\"GfQaEK\",\"stackHeight\":null},{\"programIdIndex\":8,\"accounts\":[],\"data\":\"3WWeKj8Yd41d\",\"stackHeight\":null},{\"programIdIndex\":9,\"accounts\":[1,10,2,3,11,12,4,0,13,14,15,16,17,9],\"data\":\"2M2Vd3HyAgEojRJw8bCorHEvxvTiPxjyPJLPDqd1mXE4HoxqyVsvXyY3eyuDXZC5kT6WiKSsJA7Au7uAe89jRY3mneVViRUh11Pf2ZbmVfV4j6uyrutHKZX4tybhc9AWFE46eVHzKjBhhuJqZnmeTDsG2iMbe8MP9iJJQR9VmtB36JzBpYz1MGirYx2eUjW5p2noe\",\"stackHeight\":null},{\"programIdIndex\":9,\"accounts\":[2,0,13,17,9],\"data\":\"gCzGGoTR6NG\",\"stackHeight\":null},{\"programIdIndex\":15,\"accounts\":[0,5,0,1,13,14],\"data\":\"2\",\"stackHeight\":null},{\"programIdIndex\":9,\"accounts\":[11,6,1,2,3,5,0,13,14,7,17,9],\"data\":\"AJTQ2h9DXrBg8Ek7qMpBSyuvxDGedk4fZ\",\"stackHeight\":null}],\"addressTableLookups\":[]}},\"meta\":{\"err\":null,\"status\":{\"Ok\":null},\"fee\":939916,\"preBalances\":[3893630432,0,0,0,0,0,17549426924916,1913300,1,1141440,475958917,290898467,1141440,1,934087680,731913600,1009200,137104064],\"postBalances\":[3860099875,1461600,11835870,2039280,15115600,2039280,17549427018976,1918251,1,1141440,475958917,290898467,1141440,1,934087680,731913600,1009200,137104064],\"innerInstructions\":[{\"index\":2,\"instructions\":[{\"programIdIndex\":13,\"accounts\":[0,1],\"data\":\"11114XtYk9gGfZoo968fyjNUYQJKf9gdmkGoaoBpzFv4vyaSMBn3VKxZdv7mZLzoyX5YNC\",\"stackHeight\":2},{\"programIdIndex\":14,\"accounts\":[1],\"data\":\"2zt6UCCHp66bJGRS4G7bTsjdxFh6FQ9sBEyRfGyPQKxYisAw\",\"stackHeight\":2},{\"programIdIndex\":13,\"accounts\":[0,2],\"data\":\"11112mYLb6XX5JjhGPQ928aiUUgKPPQJdKFo8iUKmcZVu7oHtKNCuVNUqcYvc2eaLimS5u\",\"stackHeight\":2},{\"programIdIndex\":15,\"accounts\":[0,3,2,1,13,14],\"data\":\"1\",\"stackHeight\":2},{\"programIdIndex\":14,\"accounts\":[1],\"data\":\"84eT\",\"stackHeight\":3},{\"programIdIndex\":13,\"accounts\":[0,3],\"data\":\"11119os1e9qSs2u7TsThXqkBSRVFxhmYaFKFZ1waB2X7armDmvK3p5GmLdUxYdg3h7QSrL\",\"stackHeight\":3},{\"programIdIndex\":14,\"accounts\":[3],\"data\":\"P\",\"stackHeight\":3},{\"programIdIndex\":14,\"accounts\":[3,1],\"data\":\"6W5gCLVJyRFSjG4Bq24Ep6q6F1XvebkGLUXAi3D1xbJF8\",\"stackHeight\":3},{\"programIdIndex\":12,\"accounts\":[4,1,10,0,10,13],\"data\":\"53oHWp324A4uEtg9NLwdB8nc85Z7CGrXhoPss2hktbapYpzCAbFdsn6o6MEkMhyMbRujMgtpKQD9X7YfUnXuj8sBaDrzphh31AzX39gMTfTWEyLyy42cQaS9avhGArJydzmy8qSQi4dQHrKj5kJVhyruSLJvP6Ro91KoCRS3iStddjeFV4X4fZ3kV1HAfCDHF8A51JLQP63No\",\"stackHeight\":2},{\"programIdIndex\":13,\"accounts\":[0,4],\"data\":\"3Bxs4EM3hQgDpNyd\",\"stackHeight\":3},{\"programIdIndex\":13,\"accounts\":[4],\"data\":\"9krTDGKLJBg7SB59\",\"stackHeight\":3},{\"programIdIndex\":13,\"accounts\":[4],\"data\":\"SYXsBkG6yKW2wWDcW8EDHR6D3P82bKxJGPpM65DD8nHqBfMP\",\"stackHeight\":3},{\"programIdIndex\":14,\"accounts\":[1,3,10],\"data\":\"6ApXSNCamGdm\",\"stackHeight\":2},{\"programIdIndex\":14,\"accounts\":[1,10],\"data\":\"31tb\",\"stackHeight\":2},{\"programIdIndex\":9,\"accounts\":[17],\"data\":\"48nKSbWi5gZrspKEbS4g5EQD3qsfBLqw7X4dSf3tMX9bUf7s3w1ajJ9BYQkusD5BAZgotQWnkUkwRwwC115UvntkQ2JcZWsWGvH91zv73vj4qskiDtwWbF55E5qPDZUfCCzjwArqFVHtJ73ibPtzyQwHg62JwmMBvWMA3EvcQPBoJKVcY1vG5RVrKfcFgmLXLsd1J1aaeWKxW2VEJ9g2dzipREeFG79BgVbwPRAop46MG1pYwG7wuUCoZstZnxdJjc51mAYoF53ftv5XHoWvFdnhL8MpYynh1s8yMxMvuaWWqGKMvy4xPJtSxQTsjTrD5UTGbUtz4ErchdEUj4BaXmtYdxpny66VYP4M937MXqJmWHS1LWKpKqAwif7szJkTTY4aPfaNEK\",\"stackHeight\":2}]},{\"index\":3,\"instructions\":[{\"programIdIndex\":13,\"accounts\":[0,2],\"data\":\"3Bxs4h47BBi9iqUT\",\"stackHeight\":2},{\"programIdIndex\":9,\"accounts\":[17],\"data\":\"21448NTnPMYUBkX8r9jEFxTSTN4fRs3CJed71XwbmoEN3rJEW2jQG5meTTQyMQnenoiCrkpmNmLA35gQ7K1AcwfQBZXiUaAKEzSnUoCAimjahzgfUWZiQhSSN1YDvP6mGNSKnJZyGAVFDuy\",\"stackHeight\":2}]},{\"index\":4,\"instructions\":[{\"programIdIndex\":14,\"accounts\":[1],\"data\":\"84eT\",\"stackHeight\":2},{\"programIdIndex\":13,\"accounts\":[0,5],\"data\":\"11119os1e9qSs2u7TsThXqkBSRVFxhmYaFKFZ1waB2X7armDmvK3p5GmLdUxYdg3h7QSrL\",\"stackHeight\":2},{\"programIdIndex\":14,\"accounts\":[5],\"data\":\"P\",\"stackHeight\":2},{\"programIdIndex\":14,\"accounts\":[5,1],\"data\":\"6c83VL89cJ1jhSEEwcqiZzLVkMx7Zd1M9Nkvok9YjiskG\",\"stackHeight\":2}]},{\"index\":5,\"instructions\":[{\"programIdIndex\":14,\"accounts\":[3,5,2],\"data\":\"3HW1H8PAKYpX\",\"stackHeight\":2},{\"programIdIndex\":13,\"accounts\":[0,7],\"data\":\"3Bxs4FRPXpKwqi2b\",\"stackHeight\":2},{\"programIdIndex\":13,\"accounts\":[0,2],\"data\":\"3Bxs4Yee7ShXLcJb\",\"stackHeight\":2},{\"programIdIndex\":13,\"accounts\":[0,6],\"data\":\"3Bxs4JzbspETHHHZ\",\"stackHeight\":2},{\"programIdIndex\":9,\"accounts\":[17],\"data\":\"2zjR1PvPvgqdhPdZLxuWCL8iWvGKiapfKNbWrHtATk1UUP5KtWmco4Lp2v8SpEryqMzwPN9vxL11AJmusjic4dt77HwaDV91AykNB74YCayaFWzsXWrKJXsqT3q3qZ3JvD67gD7pZhb3VuC2iSdqh9Lrw1Q59fftLaPmx4t1oMuFG3Kio5qeYUrsTo9xefSmS5fM2mZq2iZu69xNocdEvsHtVPHg5qoVCJ1pcwXfgNxJ6pJqUKoi46wEKiehpnve4Z8JyuGhCWjTmC3c7bviJUQTyN2ptDxZt8gBzxGL6wndE7sZLteoK3g2nusUogT\",\"stackHeight\":2}]}],\"logMessages\":[\"Program ComputeBudget111111111111111111111111111111 invoke [1]\",\"Program ComputeBudget111111111111111111111111111111 success\",\"Program ComputeBudget111111111111111111111111111111 invoke [1]\",\"Program ComputeBudget111111111111111111111111111111 success\",\"Program 6EF8rrecthR5Dkzon8Nwu78hRvfCKubJ14M5uBEwF6P invoke [1]\",\"Program log: Instruction: Create\",\"Program 11111111111111111111111111111111 invoke [2]\",\"Program 11111111111111111111111111111111 success\",\"Program TokenkegQfeZyiNwAJbNbGKPFXCWuBvf9Ss623VQ5DA invoke [2]\",\"Program log: Instruction: InitializeMint2\",\"Program TokenkegQfeZyiNwAJbNbGKPFXCWuBvf9Ss623VQ5DA consumed 2780 of 233253 compute units\",\"Program TokenkegQfeZyiNwAJbNbGKPFXCWuBvf9Ss623VQ5DA success\",\"Program 11111111111111111111111111111111 invoke [2]\",\"Program 11111111111111111111111111111111 success\",\"Program ATokenGPvbdGVxr1b2hvZbsiqW5xWH25efTNsLJA8knL invoke [2]\",\"Program log: Create\",\"Program TokenkegQfeZyiNwAJbNbGKPFXCWuBvf9Ss623VQ5DA invoke [3]\",\"Program log: Instruction: GetAccountDataSize\",\"Program TokenkegQfeZyiNwAJbNbGKPFXCWuBvf9Ss623VQ5DA consumed 1595 of 191681 compute units\",\"Program return: TokenkegQfeZyiNwAJbNbGKPFXCWuBvf9Ss623VQ5DA pQAAAAAAAAA=\",\"Program TokenkegQfeZyiNwAJbNbGKPFXCWuBvf9Ss623VQ5DA success\",\"Program 11111111111111111111111111111111 invoke [3]\",\"Program 11111111111111111111111111111111 success\",\"Program log: Initialize the associated token account\",\"Program TokenkegQfeZyiNwAJbNbGKPFXCWuBvf9Ss623VQ5DA invoke [3]\",\"Program log: Instruction: InitializeImmutableOwner\",\"Program log: Please upgrade to SPL Token 2022 for immutable owner support\",\"Program TokenkegQfeZyiNwAJbNbGKPFXCWuBvf9Ss623VQ5DA consumed 1405 of 185068 compute units\",\"Program TokenkegQfeZyiNwAJbNbGKPFXCWuBvf9Ss623VQ5DA success\",\"Program TokenkegQfeZyiNwAJbNbGKPFXCWuBvf9Ss623VQ5DA invoke [3]\",\"Program log: Instruction: InitializeAccount3\",\"Program TokenkegQfeZyiNwAJbNbGKPFXCWuBvf9Ss623VQ5DA consumed 4214 of 181184 compute units\",\"Program TokenkegQfeZyiNwAJbNbGKPFXCWuBvf9Ss623VQ5DA success\",\"Program ATokenGPvbdGVxr1b2hvZbsiqW5xWH25efTNsLJA8knL consumed 29490 of 206156 compute units\",\"Program ATokenGPvbdGVxr1b2hvZbsiqW5xWH25efTNsLJA8knL success\",\"Program metaqbxxUerdq28cj1RbAWkYQm3ybzjb6a8bt518x1s invoke [2]\",\"Program log: IX: Create Metadata Accounts v3\",\"Program 11111111111111111111111111111111 invoke [3]\",\"Program 11111111111111111111111111111111 success\",\"Program log: Allocate space for the account\",\"Program 11111111111111111111111111111111 invoke [3]\",\"Program 11111111111111111111111111111111 success\",\"Program log: Assign the account to the owning program\",\"Program 11111111111111111111111111111111 invoke [3]\",\"Program 11111111111111111111111111111111 success\",\"Program metaqbxxUerdq28cj1RbAWkYQm3ybzjb6a8bt518x1s consumed 44457 of 159062 compute units\",\"Program metaqbxxUerdq28cj1RbAWkYQm3ybzjb6a8bt518x1s success\",\"Program TokenkegQfeZyiNwAJbNbGKPFXCWuBvf9Ss623VQ5DA invoke [2]\",\"Program log: Instruction: MintTo\",\"Program TokenkegQfeZyiNwAJbNbGKPFXCWuBvf9Ss623VQ5DA consumed 4492 of 111987 compute units\",\"Program TokenkegQfeZyiNwAJbNbGKPFXCWuBvf9Ss623VQ5DA success\",\"Program TokenkegQfeZyiNwAJbNbGKPFXCWuBvf9Ss623VQ5DA invoke [2]\",\"Program log: Instruction: SetAuthority\",\"Program TokenkegQfeZyiNwAJbNbGKPFXCWuBvf9Ss623VQ5DA consumed 2911 of 105264 compute units\",\"Program TokenkegQfeZyiNwAJbNbGKPFXCWuBvf9Ss623VQ5DA success\",\"Program data: G3KpTd7rY3YGAAAATk9PRExFBgAAAE5PT0RMRVAAAABodHRwczovL2lwZnMuaW8vaXBmcy9iYWZrcmVpZHgzY3MyY3l3NWJsM3Y0ZHJmNml0bGF4Ym8zd2l0ZTVpaGJrc2V6ajI3bGE3YWUyZ253ZZ8R40JcBikxq3c9Dsr57/6rAKO0UsEgJbcT8OCFpHI/hPLFa+HEF1/hQyso5kPBPTNq+q+1uH885jpx+8ngPVfetCFjMgpZEtyiUcVnQlmVTJQ2WkcZ+hg23BlTHgZnvd60IWMyClkS3KJRxWdCWZVMlDZaRxn6GDbcGVMeBme9pic4aAAAAAAAENhH488DAACsI/wGAAAAAHjF+1HRAgAAgMakfo0DAA==\",\"Program 6EF8rrecthR5Dkzon8Nwu78hRvfCKubJ14M5uBEwF6P invoke [2]\",\"Program 6EF8rrecthR5Dkzon8Nwu78hRvfCKubJ14M5uBEwF6P consumed 2006 of 96257 compute units\",\"Program 6EF8rrecthR5Dkzon8Nwu78hRvfCKubJ14M5uBEwF6P success\",\"Program 6EF8rrecthR5Dkzon8Nwu78hRvfCKubJ14M5uBEwF6P consumed 151148 of 244536 compute units\",\"Program 6EF8rrecthR5Dkzon8Nwu78hRvfCKubJ14M5uBEwF6P success\",\"Program 6EF8rrecthR5Dkzon8Nwu78hRvfCKubJ14M5uBEwF6P invoke [1]\",\"Program log: Instruction: ExtendAccount\",\"Program 11111111111111111111111111111111 invoke [2]\",\"Program 11111111111111111111111111111111 success\",\"Program data: YWHXkF2SFnyE8sVr4cQXX+FDKyjmQ8E9M2r6r7W4fzzmOnH7yeA9V960IWMyClkS3KJRxWdCWZVMlDZaRxn6GDbcGVMeBme9UQAAAAAAAACWAAAAAAAAAKYnOGgAAAAA\",\"Program 6EF8rrecthR5Dkzon8Nwu78hRvfCKubJ14M5uBEwF6P invoke [2]\",\"Program 6EF8rrecthR5Dkzon8Nwu78hRvfCKubJ14M5uBEwF6P consumed 2006 of 83578 compute units\",\"Program 6EF8rrecthR5Dkzon8Nwu78hRvfCKubJ14M5uBEwF6P success\",\"Program 6EF8rrecthR5Dkzon8Nwu78hRvfCKubJ14M5uBEwF6P consumed 12008 of 93388 compute units\",\"Program 6EF8rrecthR5Dkzon8Nwu78hRvfCKubJ14M5uBEwF6P success\",\"Program ATokenGPvbdGVxr1b2hvZbsiqW5xWH25efTNsLJA8knL invoke [1]\",\"Program log: CreateIdempotent\",\"Program TokenkegQfeZyiNwAJbNbGKPFXCWuBvf9Ss623VQ5DA invoke [2]\",\"Program log: Instruction: GetAccountDataSize\",\"Program TokenkegQfeZyiNwAJbNbGKPFXCWuBvf9Ss623VQ5DA consumed 1569 of 69979 compute units\",\"Program return: TokenkegQfeZyiNwAJbNbGKPFXCWuBvf9Ss623VQ5DA pQAAAAAAAAA=\",\"Program TokenkegQfeZyiNwAJbNbGKPFXCWuBvf9Ss623VQ5DA success\",\"Program 11111111111111111111111111111111 invoke [2]\",\"Program 11111111111111111111111111111111 success\",\"Program log: Initialize the associated token account\",\"Program TokenkegQfeZyiNwAJbNbGKPFXCWuBvf9Ss623VQ5DA invoke [2]\",\"Program log: Instruction: InitializeImmutableOwner\",\"Program log: Please upgrade to SPL Token 2022 for immutable owner support\",\"Program TokenkegQfeZyiNwAJbNbGKPFXCWuBvf9Ss623VQ5DA consumed 1405 of 63392 compute units\",\"Program TokenkegQfeZyiNwAJbNbGKPFXCWuBvf9Ss623VQ5DA success\",\"Program TokenkegQfeZyiNwAJbNbGKPFXCWuBvf9Ss623VQ5DA invoke [2]\",\"Program log: Instruction: InitializeAccount3\",\"Program TokenkegQfeZyiNwAJbNbGKPFXCWuBvf9Ss623VQ5DA consumed 4188 of 59512 compute units\",\"Program TokenkegQfeZyiNwAJbNbGKPFXCWuBvf9Ss623VQ5DA success\",\"Program ATokenGPvbdGVxr1b2hvZbsiqW5xWH25efTNsLJA8knL consumed 26339 of 81380 compute units\",\"Program ATokenGPvbdGVxr1b2hvZbsiqW5xWH25efTNsLJA8knL success\",\"Program 6EF8rrecthR5Dkzon8Nwu78hRvfCKubJ14M5uBEwF6P invoke [1]\",\"Program log: Instruction: Buy\",\"Program TokenkegQfeZyiNwAJbNbGKPFXCWuBvf9Ss623VQ5DA invoke [2]\",\"Program log: Instruction: Transfer\",\"Program TokenkegQfeZyiNwAJbNbGKPFXCWuBvf9Ss623VQ5DA consumed 4645 of 18996 compute units\",\"Program TokenkegQfeZyiNwAJbNbGKPFXCWuBvf9Ss623VQ5DA success\",\"Program 11111111111111111111111111111111 invoke [2]\",\"Program 11111111111111111111111111111111 success\",\"Program 11111111111111111111111111111111 invoke [2]\",\"Program 11111111111111111111111111111111 success\",\"Program 11111111111111111111111111111111 invoke [2]\",\"Program 11111111111111111111111111111111 success\",\"Program data: vdt/007mYe6fEeNCXAYpMat3PQ7K+e/+qwCjtFLBICW3E/DghaRyP74TlwAAAAAAGCqObFIAAAAB3rQhYzIKWRLcolHFZ0JZlUyUNlpHGfoYNtwZUx4GZ72mJzhoAAAAAL6/uvwGAAAA6OVJ25DPAwC+E5cAAAAAAOhNN4//0AIAjRgaDISfqTem80re0wge+VcAqssMm7PZCaS5FHUnpOtfAAAAAAAAAGxvAQAAAAAA3rQhYzIKWRLcolHFZ0JZlUyUNlpHGfoYNtwZUx4GZ70FAAAAAAAAAFcTAAAAAAAA\",\"Program 6EF8rrecthR5Dkzon8Nwu78hRvfCKubJ14M5uBEwF6P invoke [2]\",\"Program 6EF8rrecthR5Dkzon8Nwu78hRvfCKubJ14M5uBEwF6P consumed 2006 of 2842 compute units\",\"Program 6EF8rrecthR5Dkzon8Nwu78hRvfCKubJ14M5uBEwF6P success\",\"Program 6EF8rrecthR5Dkzon8Nwu78hRvfCKubJ14M5uBEwF6P consumed 55041 of 55041 compute units\",\"Program 6EF8rrecthR5Dkzon8Nwu78hRvfCKubJ14M5uBEwF6P success\"],\"preTokenBalances\":[],\"postTokenBalances\":[{\"accountIndex\":3,\"mint\":\"BhweMEG27Va3KcdnEhMZNbKBxv6YQaFaPfbttwpapump\",\"uiTokenAmount\":{\"uiAmount\":999645991.425512,\"decimals\":6,\"amount\":\"999645991425512\",\"uiAmountString\":\"999645991.425512\"},\"owner\":\"9wyXQHnB8QAtza6Jvu3UcrerWeLqBzzdmbzrYdL9J9pA\",\"programId\":\"TokenkegQfeZyiNwAJbNbGKPFXCWuBvf9Ss623VQ5DA\"},{\"accountIndex\":5,\"mint\":\"BhweMEG27Va3KcdnEhMZNbKBxv6YQaFaPfbttwpapump\",\"uiTokenAmount\":{\"uiAmount\":354008.574488,\"decimals\":6,\"amount\":\"354008574488\",\"uiAmountString\":\"354008.574488\"},\"owner\":\"FzLpPvcp1ATsAk9RXgXEWN4Ms4XkDG5SfqkxFZrvRjKJ\",\"programId\":\"TokenkegQfeZyiNwAJbNbGKPFXCWuBvf9Ss623VQ5DA\"}],\"rewards\":[],\"loadedAddresses\":{\"writable\":[],\"readonly\":[]},\"computeUnitsConsumed\":244836},\"version\":0}\n",
      "Program index: 9\n",
      "Instruction 0 does not match the program ID index.\n",
      "Instruction 0 does not match the program ID index.\n",
      "Instruction 0 does not match the program ID index.\n",
      "Instruction 0 does not match the program ID index.\n",
      "Instruction 0 does not match the program ID index.\n",
      "Instruction 0 does not match the program ID index.\n",
      "Instruction 0 does not match the program ID index.\n",
      "Instruction 0 does not match the program ID index.\n",
      "Instruction 0 does not match the program ID index.\n",
      "Instruction 0 does not match the program ID index.\n",
      "Instruction 0 does not match the program ID index.\n",
      "Instruction 0 does not match the program ID index.\n",
      "Instruction 0 does not match the program ID index.\n",
      "Instruction 0 does not match the program ID index.\n",
      "Instruction 0:\n",
      "  Program ID Index: 9\n",
      "  Data: 48nKSbWi5gZrspKEbS4g5EQD3qsfBLqw7X4dSf3tMX9bUf7s3w1ajJ9BYQkusD5BAZgotQWnkUkwRwwC115UvntkQ2JcZWsWGvH91zv73vj4qskiDtwWbF55E5qPDZUfCCzjwArqFVHtJ73ibPtzyQwHg62JwmMBvWMA3EvcQPBoJKVcY1vG5RVrKfcFgmLXLsd1J1aaeWKxW2VEJ9g2dzipREeFG79BgVbwPRAop46MG1pYwG7wuUCoZstZnxdJjc51mAYoF53ftv5XHoWvFdnhL8MpYynh1s8yMxMvuaWWqGKMvy4xPJtSxQTsjTrD5UTGbUtz4ErchdEUj4BaXmtYdxpny66VYP4M937MXqJmWHS1LWKpKqAwif7szJkTTY4aPfaNEK\n",
      "  Data (Base58 decoded): e445a52e51cb9a1d1b72a94ddeeb6376060000004e4f4f444c45060000004e4f4f444c455000000068747470733a2f2f697066732e696f2f697066732f6261666b72656964783363733263797735626c3376346472663669746c6178626f3377697465356968626b73657a6a32376c6137616532676e77659f11e3425c062931ab773d0ecaf9effeab00a3b452c12025b713f0e085a4723f84f2c56be1c4175fe1432b28e643c13d336afaafb5b87f3ce63a71fbc9e03d57deb42163320a5912dca251c5674259954c94365a4719fa1836dc19531e0667bddeb42163320a5912dca251c5674259954c94365a4719fa1836dc19531e0667bda6273868000000000010d847e3cf030000ac23fc060000000078c5fb51d102000080c6a47e8d0300\n",
      "cpi event\n",
      "Event Data: BhweMEG27Va3KcdnEhMZNbKBxv6YQaFaPfbttwpapump\n",
      "Event Data: CreateEvent(name='NOODLE', symbol='NOODLE', uri='https://ipfs.io/ipfs/bafkreidx3cs2cyw5bl3v4drf6itlaxbo3wite5ihbksezj27la7ae2gnwe', mint=Pubkey(\n",
      "    BhweMEG27Va3KcdnEhMZNbKBxv6YQaFaPfbttwpapump,\n",
      "), bondingCurve=Pubkey(\n",
      "    9wyXQHnB8QAtza6Jvu3UcrerWeLqBzzdmbzrYdL9J9pA,\n",
      "), user=Pubkey(\n",
      "    FzLpPvcp1ATsAk9RXgXEWN4Ms4XkDG5SfqkxFZrvRjKJ,\n",
      "), creator=Pubkey(\n",
      "    FzLpPvcp1ATsAk9RXgXEWN4Ms4XkDG5SfqkxFZrvRjKJ,\n",
      "), timestamp=1748510630, virtualTokenReserves=1073000000000000, virtualSolReserves=30000000000, realTokenReserves=793100000000000, tokenTotalSupply=1000000000000000)\n",
      "Instruction 1 does not match the program ID index.\n",
      "Instruction 1:\n",
      "  Program ID Index: 9\n",
      "  Data: 21448NTnPMYUBkX8r9jEFxTSTN4fRs3CJed71XwbmoEN3rJEW2jQG5meTTQyMQnenoiCrkpmNmLA35gQ7K1AcwfQBZXiUaAKEzSnUoCAimjahzgfUWZiQhSSN1YDvP6mGNSKnJZyGAVFDuy\n",
      "  Data (Base58 decoded): e445a52e51cb9a1d6161d7905d92167c84f2c56be1c4175fe1432b28e643c13d336afaafb5b87f3ce63a71fbc9e03d57deb42163320a5912dca251c5674259954c94365a4719fa1836dc19531e0667bd51000000000000009600000000000000a627386800000000\n",
      "cpi event\n",
      "Instruction 2 does not match the program ID index.\n",
      "Instruction 2 does not match the program ID index.\n",
      "Instruction 2 does not match the program ID index.\n",
      "Instruction 2 does not match the program ID index.\n",
      "Instruction 3 does not match the program ID index.\n",
      "Instruction 3 does not match the program ID index.\n",
      "Instruction 3 does not match the program ID index.\n",
      "Instruction 3 does not match the program ID index.\n",
      "Instruction 3:\n",
      "  Program ID Index: 9\n",
      "  Data: 2zjR1PvPvgqdhPdZLxuWCL8iWvGKiapfKNbWrHtATk1UUP5KtWmco4Lp2v8SpEryqMzwPN9vxL11AJmusjic4dt77HwaDV91AykNB74YCayaFWzsXWrKJXsqT3q3qZ3JvD67gD7pZhb3VuC2iSdqh9Lrw1Q59fftLaPmx4t1oMuFG3Kio5qeYUrsTo9xefSmS5fM2mZq2iZu69xNocdEvsHtVPHg5qoVCJ1pcwXfgNxJ6pJqUKoi46wEKiehpnve4Z8JyuGhCWjTmC3c7bviJUQTyN2ptDxZt8gBzxGL6wndE7sZLteoK3g2nusUogT\n",
      "  Data (Base58 decoded): e445a52e51cb9a1dbddb7fd34ee661ee9f11e3425c062931ab773d0ecaf9effeab00a3b452c12025b713f0e085a4723fbe13970000000000182a8e6c5200000001deb42163320a5912dca251c5674259954c94365a4719fa1836dc19531e0667bda627386800000000bebfbafc06000000e8e549db90cf0300be13970000000000e84d378fffd002008d181a0c849fa937a6f34aded3081ef95700aacb0c9bb3d909a4b9147527a4eb5f000000000000006c6f010000000000deb42163320a5912dca251c5674259954c94365a4719fa1836dc19531e0667bd05000000000000005713000000000000\n",
      "cpi event\n"
     ]
    }
   ],
   "source": [
    "import based58\n",
    "import sys\n",
    "import based58\n",
    "current_dir = os.getcwd()\n",
    "parent_dir = os.path.dirname(current_dir)\n",
    "sys.path.append(parent_dir)\n",
    "from pump.types import createEvent \n",
    "tx= getTx(\"4pyAxNgauTipZLrSsrHjtzd5QWfUipSvVB5ta3Dhc6P5n9nejSevuVR7tBzB25nbB834e3J2XjENZwLoa95QVgy7\")\n",
    "print(tx.value.transaction.to_json())\n",
    "index = find_program_index(tx,Pubkey.from_string(\"6EF8rrecthR5Dkzon8Nwu78hRvfCKubJ14M5uBEwF6P\"))\n",
    "print(f\"Program index: {index}\")\n",
    "\n",
    "for i, instructions in enumerate(tx.value.transaction.meta.inner_instructions):\n",
    "    for j, instruction in enumerate(instructions.instructions):\n",
    "        if instruction.program_id_index == index:\n",
    "            print(f\"Instruction {i}:\")\n",
    "            print(f\"  Program ID Index: {instruction.program_id_index}\")\n",
    "            print(f\"  Data: {instruction.data}\")\n",
    "            #print(f\"  Data (Base58 decoded): {based58.b58decode(instruction.data.encode('utf-8')).hex()}\")\n",
    "            decoded_data = based58.b58decode(instruction.data.encode('utf-8'))\n",
    "            print(f\"  Data (Base58 decoded): {decoded_data.hex()}\")\n",
    "            cpi =decoded_data[:8]\n",
    "            if cpi == b\"\\xe4\\x45\\xa5\\x2e\\x51\\xcb\\x9a\\x1d\": #e445a52e51cb9a1d\n",
    "                print(\"cpi event\")\n",
    "                eventid = decoded_data[8:16]\n",
    "                if eventid ==b\"\\x1b\\x72\\xa9\\x4d\\xde\\xeb\\x63\\x76\":\n",
    "                    ev = createEvent.CreateEvent.layout.parse(decoded_data[16:])\n",
    "                    print(f\"Event Data: {ev.mint}\") \n",
    "                    evObj = createEvent.CreateEvent.from_decoded(ev)\n",
    "                    print(f\"Event Data: {evObj}\")\n",
    "                    \n",
    "\n",
    "        else:\n",
    "            print(f\"Instruction {i} does not match the program ID index.\")"
   ]
  },
  {
   "cell_type": "code",
   "execution_count": null,
   "id": "3a15cc66",
   "metadata": {},
   "outputs": [],
   "source": []
  }
 ],
 "metadata": {
  "kernelspec": {
   "display_name": ".venv",
   "language": "python",
   "name": "python3"
  },
  "language_info": {
   "codemirror_mode": {
    "name": "ipython",
    "version": 3
   },
   "file_extension": ".py",
   "mimetype": "text/x-python",
   "name": "python",
   "nbconvert_exporter": "python",
   "pygments_lexer": "ipython3",
   "version": "3.13.1"
  }
 },
 "nbformat": 4,
 "nbformat_minor": 5
}
