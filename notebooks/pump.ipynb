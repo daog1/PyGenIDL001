{
 "cells": [
  {
   "cell_type": "code",
   "execution_count": 3,
   "id": "1012dfa2",
   "metadata": {},
   "outputs": [
    {
     "data": {
      "text/plain": [
       "True"
      ]
     },
     "execution_count": 3,
     "metadata": {},
     "output_type": "execute_result"
    }
   ],
   "source": [
    "import anchorpy\n",
    "import solana\n",
    "from dotenv import load_dotenv\n",
    "import os\n",
    "from solders.pubkey import Pubkey\n",
    "from utils import find_program_index,getTx\n",
    "load_dotenv()"
   ]
  },
  {
   "cell_type": "code",
   "execution_count": 6,
   "id": "1db03591",
   "metadata": {},
   "outputs": [
    {
     "name": "stdout",
     "output_type": "stream",
     "text": [
      "{\"transaction\":{\"signatures\":[\"42G77yRGQhe7npTXhhHiEVpNpeHewTDXxYdxsjDjERjbTTDz7YjYdziUws8jTVnt3PzJX2VMdP6AoRK3qnL9he57\"],\"message\":{\"header\":{\"numRequiredSignatures\":1,\"numReadonlySignedAccounts\":0,\"numReadonlyUnsignedAccounts\":9},\"accountKeys\":[\"BDBQxn2VSD91awc7senrc6NPMsYHcbYm7xiVVWsvGGVZ\",\"62qc2CNXwrYqQScmEdiZFFAnJR262PxWEuNQtxfafNgV\",\"EMP57eFCyZGksCjLbHkixfijnKk8xg3bz489CUJXLwEa\",\"ETX2hVT1afw6E8w4DiTp6LZW2GsCSmFggojFsVSeufRG\",\"6z2E8La5Cbu4H1bKVqigVYa2G1kBMBxhGAyWVTRRLPTb\",\"4msnRRD8qvDj7T1sQwmbX395W4E9BcxixvkB7hCrWHGv\",\"9yMwSPk9mrXSN7yDHUuZurAh1sjbJsfpUqjZ7SvVtdco\",\"ComputeBudget111111111111111111111111111111\",\"6EF8rrecthR5Dkzon8Nwu78hRvfCKubJ14M5uBEwF6P\",\"4wTV1YmiEkRvAtNtsSGPtUrqRYQMe5SKy2uB4Jjaxnjf\",\"FfYzzvJZxSCDAxMwJQiuWzdKZgVL6YYJUjzNw5z7pump\",\"11111111111111111111111111111111\",\"TokenkegQfeZyiNwAJbNbGKPFXCWuBvf9Ss623VQ5DA\",\"Ce6TQqeHC9p8KetsN6JsjHK7UTZk7nasjjnr7XxXp9F1\",\"troY36YiPGqMyAYCNbEqYCdN2tb91Zf7bHcQt7KUi61\",\"jitodontfront111111111111111118294841111111\"],\"recentBlockhash\":\"Bwas2UakfQTNdcb5s7GD6RK8ikdoFPdCe4t88Xk4DtKe\",\"instructions\":[{\"programIdIndex\":7,\"accounts\":[],\"data\":\"GVL855\",\"stackHeight\":null},{\"programIdIndex\":7,\"accounts\":[],\"data\":\"3N9qWXdVdbs5\",\"stackHeight\":null},{\"programIdIndex\":8,\"accounts\":[9,1,10,2,3,4,0,11,5,12,13,8],\"data\":\"5jRcjdixRUDbKCP6fxpd5e9AoHGioLF91\",\"stackHeight\":null},{\"programIdIndex\":14,\"accounts\":[0,6,15,11],\"data\":\"TBXxREN7AVf8EuatyEt7r7\",\"stackHeight\":null}],\"addressTableLookups\":[]}},\"meta\":{\"err\":null,\"status\":{\"Ok\":null},\"fee\":1005001,\"preBalances\":[2034045327,75544625297015,29411763216,2039280,2039280,222481597,1363547537952,1,1141440,290898417,1461600,1,934087680,137104014,1141440,0],\"postBalances\":[3162300054,75544636232762,28260631994,2039280,2039280,223057163,1363557898133,1,1141440,290898417,1461600,1,934087680,137104014,1141440,0],\"innerInstructions\":[{\"index\":2,\"instructions\":[{\"programIdIndex\":12,\"accounts\":[4,3,0],\"data\":\"3iEf1NhopwJP\",\"stackHeight\":2},{\"programIdIndex\":8,\"accounts\":[13],\"data\":\"2zjR1PvPvgqdhPdZLxuWCL9fEMLBoyQzb8tn3LBYfYGzyaTGuadeQJkLhRJXfWZacNAWndZXcXcvQeUP1nKeU2vtk9iaG6boNBGTkBq1qUcGoTosZd3CS4zfE5TwdxaLwxuqUTDocPe6WWEB55t4uq3nKggWsXRKGqnaBXagmz2xWG6ZEmNZKfkeg2xuJoEHUNtTHBraaftLNBqebTSyeftemHrmkoHkoQmKFzAmoS2Qa2BuwzfcWFgFEYxnxscneFJNB8MT365Un4gNE7RazAoXUMqRLFsKaDPUkqDGrKyAYWsMDHqvw5Pw8JQSxCF\",\"stackHeight\":2}]},{\"index\":3,\"instructions\":[{\"programIdIndex\":11,\"accounts\":[0,6],\"data\":\"3Bxs4LSXTsgvXVmy\",\"stackHeight\":2}]}],\"logMessages\":[\"Program ComputeBudget111111111111111111111111111111 invoke [1]\",\"Program ComputeBudget111111111111111111111111111111 success\",\"Program ComputeBudget111111111111111111111111111111 invoke [1]\",\"Program ComputeBudget111111111111111111111111111111 success\",\"Program 6EF8rrecthR5Dkzon8Nwu78hRvfCKubJ14M5uBEwF6P invoke [1]\",\"Program log: Instruction: Sell\",\"Program TokenkegQfeZyiNwAJbNbGKPFXCWuBvf9Ss623VQ5DA invoke [2]\",\"Program log: Instruction: Transfer\",\"Program TokenkegQfeZyiNwAJbNbGKPFXCWuBvf9Ss623VQ5DA consumed 4645 of 40271 compute units\",\"Program TokenkegQfeZyiNwAJbNbGKPFXCWuBvf9Ss623VQ5DA success\",\"Program data: vdt/007mYe7Z497FjYLTeLzgzWj+cAnfms+GxaQz2WnnMMCe5XZgz1benEQAAAAArAybrrwJAAAAl7Oc9qNerycwtF3ofw+rEabNxYtlRqQqGUgxermKLrwdxTdoAAAAAJorfZANAAAA6w0oNIf2AQCaf1mUBgAAAOt1Fej19wAASsL40N1cvJfjKJwZfLUGKlTz2Va5zm5RFfllZ6pcs+ZfAAAAAAAAAMPdpgAAAAAAMFeZ8F3+/Sr/3CB8F37IJNQwzLrRxoxHU85sVAt3LKMFAAAAAAAAAE7ICAAAAAAA\",\"Program 6EF8rrecthR5Dkzon8Nwu78hRvfCKubJ14M5uBEwF6P invoke [2]\",\"Program 6EF8rrecthR5Dkzon8Nwu78hRvfCKubJ14M5uBEwF6P consumed 2006 of 30176 compute units\",\"Program 6EF8rrecthR5Dkzon8Nwu78hRvfCKubJ14M5uBEwF6P success\",\"Program 6EF8rrecthR5Dkzon8Nwu78hRvfCKubJ14M5uBEwF6P consumed 33897 of 61233 compute units\",\"Program 6EF8rrecthR5Dkzon8Nwu78hRvfCKubJ14M5uBEwF6P success\",\"Program troY36YiPGqMyAYCNbEqYCdN2tb91Zf7bHcQt7KUi61 invoke [1]\",\"Program log: Instruction: FeeTransfer\",\"Program 11111111111111111111111111111111 invoke [2]\",\"Program 11111111111111111111111111111111 success\",\"Program troY36YiPGqMyAYCNbEqYCdN2tb91Zf7bHcQt7KUi61 consumed 3560 of 27336 compute units\",\"Program troY36YiPGqMyAYCNbEqYCdN2tb91Zf7bHcQt7KUi61 success\"],\"preTokenBalances\":[{\"accountIndex\":3,\"mint\":\"FfYzzvJZxSCDAxMwJQiuWzdKZgVL6YYJUjzNw5z7pump\",\"uiTokenAmount\":{\"uiAmount\":468829544.870208,\"decimals\":6,\"amount\":\"468829544870208\",\"uiAmountString\":\"468829544.870208\"},\"owner\":\"EMP57eFCyZGksCjLbHkixfijnKk8xg3bz489CUJXLwEa\",\"programId\":\"TokenkegQfeZyiNwAJbNbGKPFXCWuBvf9Ss623VQ5DA\"},{\"accountIndex\":4,\"mint\":\"FfYzzvJZxSCDAxMwJQiuWzdKZgVL6YYJUjzNw5z7pump\",\"uiTokenAmount\":{\"uiAmount\":21411975.797081,\"decimals\":6,\"amount\":\"21411975797081\",\"uiAmountString\":\"21411975.797081\"},\"owner\":\"BDBQxn2VSD91awc7senrc6NPMsYHcbYm7xiVVWsvGGVZ\",\"programId\":\"TokenkegQfeZyiNwAJbNbGKPFXCWuBvf9Ss623VQ5DA\"}],\"postTokenBalances\":[{\"accountIndex\":3,\"mint\":\"FfYzzvJZxSCDAxMwJQiuWzdKZgVL6YYJUjzNw5z7pump\",\"uiTokenAmount\":{\"uiAmount\":479535532.768748,\"decimals\":6,\"amount\":\"479535532768748\",\"uiAmountString\":\"479535532.768748\"},\"owner\":\"EMP57eFCyZGksCjLbHkixfijnKk8xg3bz489CUJXLwEa\",\"programId\":\"TokenkegQfeZyiNwAJbNbGKPFXCWuBvf9Ss623VQ5DA\"},{\"accountIndex\":4,\"mint\":\"FfYzzvJZxSCDAxMwJQiuWzdKZgVL6YYJUjzNw5z7pump\",\"uiTokenAmount\":{\"uiAmount\":10705987.898541,\"decimals\":6,\"amount\":\"10705987898541\",\"uiAmountString\":\"10705987.898541\"},\"owner\":\"BDBQxn2VSD91awc7senrc6NPMsYHcbYm7xiVVWsvGGVZ\",\"programId\":\"TokenkegQfeZyiNwAJbNbGKPFXCWuBvf9Ss623VQ5DA\"}],\"rewards\":[],\"loadedAddresses\":{\"writable\":[],\"readonly\":[]},\"computeUnitsConsumed\":37757},\"version\":0}\n"
     ]
    }
   ],
   "source": [
    "tx= getTx(\"42G77yRGQhe7npTXhhHiEVpNpeHewTDXxYdxsjDjERjbTTDz7YjYdziUws8jTVnt3PzJX2VMdP6AoRK3qnL9he57\")\n",
    "print(tx.value.transaction.to_json())"
   ]
  },
  {
   "cell_type": "code",
   "execution_count": 7,
   "id": "b6098325",
   "metadata": {},
   "outputs": [
    {
     "name": "stdout",
     "output_type": "stream",
     "text": [
      "Program index: 8\n"
     ]
    }
   ],
   "source": [
    "\n",
    "index = find_program_index(tx,Pubkey.from_string(\"6EF8rrecthR5Dkzon8Nwu78hRvfCKubJ14M5uBEwF6P\"))\n",
    "print(f\"Program index: {index}\")"
   ]
  },
  {
   "cell_type": "code",
   "execution_count": 8,
   "id": "e883e42c",
   "metadata": {},
   "outputs": [
    {
     "name": "stdout",
     "output_type": "stream",
     "text": [
      "Program ID: 6EF8rrecthR5Dkzon8Nwu78hRvfCKubJ14M5uBEwF6P\n",
      "Instruction 0 does not match the program ID index.\n",
      "Instruction 1 does not match the program ID index.\n",
      "Instruction 2:\n",
      "  Program ID Index: 8\n",
      "  Data: 5jRcjdixRUDbKCP6fxpd5e9AoHGioLF91\n",
      "Data: Container: \n",
      "    amount = 10705987898540\n",
      "    minSolOutput = 968676924\n",
      "Instruction 3 does not match the program ID index.\n"
     ]
    }
   ],
   "source": [
    "import base64\n",
    "import sys\n",
    "import based58\n",
    "current_dir = os.getcwd()\n",
    "parent_dir = os.path.dirname(current_dir)\n",
    "sys.path.append(parent_dir)\n",
    "from pump.program_id import PROGRAM_ID\n",
    "from pump.instructions import sell\n",
    "print(f\"Program ID: {PROGRAM_ID}\")\n",
    "def DecodeSell(data):\n",
    "    bindata = based58.b58decode(data.encode('utf-8')) #//[:8]\n",
    "    if bindata[0:8] == b\"\\x33\\xe6\\x85\\xa4\\x01\\x7f\\x83\\xad\":\n",
    "        o = sell.layout.parse(bindata[8:])\n",
    "        print(f\"Data: {o}\")\n",
    "    \n",
    "for i, instruction in enumerate(tx.value.transaction.transaction.message.instructions):\n",
    "    if instruction.program_id_index == index:\n",
    "        print(f\"Instruction {i}:\")\n",
    "        print(f\"  Program ID Index: {instruction.program_id_index}\")\n",
    "        print(f\"  Data: {instruction.data}\")\n",
    "        DecodeSell(instruction.data)\n",
    "    else:\n",
    "        print(f\"Instruction {i} does not match the program ID index.\")"
   ]
  },
  {
   "cell_type": "code",
   "execution_count": 5,
   "id": "22b8daf0",
   "metadata": {},
   "outputs": [
    {
     "name": "stdout",
     "output_type": "stream",
     "text": [
      "  Data (Base58 decoded): 33e685a4017f83adac0c9baebc0900003cd6bc3900000000\n",
      "  Data (Base58 decoded): ac0c9baebc0900003cd6bc3900000000\n"
     ]
    },
    {
     "data": {
      "text/plain": [
       "Container(amount=10705987898540, minSolOutput=968676924)"
      ]
     },
     "execution_count": 5,
     "metadata": {},
     "output_type": "execute_result"
    }
   ],
   "source": [
    "import based58\n",
    "decoded_data = based58.b58decode(\"5jRcjdixRUDbKCP6fxpd5e9AoHGioLF91\".encode('utf-8'))\n",
    "print(f\"  Data (Base58 decoded): {decoded_data.hex()}\")\n",
    "print(f\"  Data (Base58 decoded): {decoded_data[8:].hex()}\")\n",
    "sell.layout.parse(decoded_data[8:])"
   ]
  },
  {
   "cell_type": "code",
   "execution_count": 22,
   "id": "86c1ad96",
   "metadata": {},
   "outputs": [
    {
     "data": {
      "text/plain": [
       "Container(amount=10705987898540, minSolOutput=968676924)"
      ]
     },
     "execution_count": 22,
     "metadata": {},
     "output_type": "execute_result"
    }
   ],
   "source": [
    "import borsh_construct as borsh;\n",
    "layout = borsh.CStruct(\n",
    "    \"amount\" /borsh.U64,\n",
    "    \"minSolOutput\" /borsh.U64,\n",
    "    )\n",
    "layout.parse(decoded_data[8:])"
   ]
  },
  {
   "cell_type": "code",
   "execution_count": 6,
   "id": "e10f3144",
   "metadata": {},
   "outputs": [
    {
     "name": "stdout",
     "output_type": "stream",
     "text": [
      "Instruction: 33e685a4017f83adac0c9baebc0900003cd6bc3900000000\n",
      "Instruction: b'5jRcjdixRUDbKCP6fxpd5e9AoHGioLF91'\n"
     ]
    }
   ],
   "source": [
    "from pump.instructions import sell\n",
    "args :sell.SellArgs={\"amount\":10705987898540,\"minSolOutput\":968676924}\n",
    "accounts:sell.SellAccounts={\n",
    "    \"global_\":Pubkey.from_string(\"6EF8rrecthR5Dkzon8Nwu78hRvfCKubJ14M5uBEwF6P\"),\n",
    "    \"feeRecipient\":Pubkey.from_string(\"6EF8rrecthR5Dkzon8Nwu78hRvfCKubJ14M5uBEwF6P\"),\n",
    "    \"mint\":Pubkey.from_string(\"6EF8rrecthR5Dkzon8Nwu78hRvfCKubJ14M5uBEwF6P\"),\n",
    "    \"bondingCurve\":Pubkey.from_string(\"6EF8rrecthR5Dkzon8Nwu78hRvfCKubJ14M5uBEwF6P\"),\n",
    "    \"associatedBondingCurve\":Pubkey.from_string(\"6EF8rrecthR5Dkzon8Nwu78hRvfCKubJ14M5uBEwF6P\"),\n",
    "    \"associatedUser\":Pubkey.from_string(\"6EF8rrecthR5Dkzon8Nwu78hRvfCKubJ14M5uBEwF6P\"),\n",
    "    \"user\":Pubkey.from_string(\"6EF8rrecthR5Dkzon8Nwu78hRvfCKubJ14M5uBEwF6P\"),\n",
    "    \"systemProgram\":Pubkey.from_string(\"6EF8rrecthR5Dkzon8Nwu78hRvfCKubJ14M5uBEwF6P\"),\n",
    "    \"associatedTokenProgram\":Pubkey.from_string(\"6EF8rrecthR5Dkzon8Nwu78hRvfCKubJ14M5uBEwF6P\"),\n",
    "    \"tokenProgram\":Pubkey.from_string(\"6EF8rrecthR5Dkzon8Nwu78hRvfCKubJ14M5uBEwF6P\"),\n",
    "    \"eventAuthority\":Pubkey.from_string(\"6EF8rrecthR5Dkzon8Nwu78hRvfCKubJ14M5uBEwF6P\"),\n",
    "    \"program\":Pubkey.from_string(\"6EF8rrecthR5Dkzon8Nwu78hRvfCKubJ14M5uBEwF6P\"),\n",
    "}\n",
    "inx = sell.Sell(args=args,accounts=accounts)\n",
    "print(f\"Instruction: {inx.data.hex()}\")\n",
    "print(f\"Instruction: {based58.b58encode(inx.data)}\")"
   ]
  },
  {
   "cell_type": "code",
   "execution_count": 9,
   "id": "c5e08688",
   "metadata": {},
   "outputs": [
    {
     "name": "stdout",
     "output_type": "stream",
     "text": [
      "Global Account: Global(initialized=True, authority=Pubkey(\n",
      "    FFWtrEQ4B4PKQoVuHYzZq8FabGkVatYzDpEVHsK5rrhF,\n",
      "), feeRecipient=Pubkey(\n",
      "    62qc2CNXwrYqQScmEdiZFFAnJR262PxWEuNQtxfafNgV,\n",
      "), initialVirtualTokenReserves=1073000000000000, initialVirtualSolReserves=30000000000, initialRealTokenReserves=793100000000000, tokenTotalSupply=1000000000000000, feeBasisPoints=95)\n"
     ]
    }
   ],
   "source": [
    "from pump.accounts import global_\n",
    "from solana.rpc.async_api import AsyncClient\n",
    "client = AsyncClient(os.getenv(\"rpc_url\"))\n",
    "global_account = await global_.Global.fetch(client, Pubkey.from_string(\"4wTV1YmiEkRvAtNtsSGPtUrqRYQMe5SKy2uB4Jjaxnjf\"))\n",
    "print(f\"Global Account: {global_account}\")"
   ]
  },
  {
   "cell_type": "code",
   "execution_count": null,
   "id": "b7c8feeb",
   "metadata": {},
   "outputs": [],
   "source": [
    "from pump.accounts import bondingCurve\n",
    "from solana.rpc.async_api import AsyncClient\n",
    "client = AsyncClient(os.getenv(\"rpc_url\"))\n",
    "bondingCurve_account = await bondingCurve.BondingCurve.fetch(client, Pubkey.from_string(\"EMP57eFCyZGksCjLbHkixfijnKk8xg3bz489CUJXLwEa\"))\n",
    "print(f\"bondingCurve Account: {bondingCurve_account}\")"
   ]
  }
 ],
 "metadata": {
  "kernelspec": {
   "display_name": ".venv",
   "language": "python",
   "name": "python3"
  },
  "language_info": {
   "codemirror_mode": {
    "name": "ipython",
    "version": 3
   },
   "file_extension": ".py",
   "mimetype": "text/x-python",
   "name": "python",
   "nbconvert_exporter": "python",
   "pygments_lexer": "ipython3",
   "version": "3.13.1"
  }
 },
 "nbformat": 4,
 "nbformat_minor": 5
}
