{
 "cells": [
  {
   "cell_type": "code",
   "execution_count": 2,
   "id": "8955c461",
   "metadata": {},
   "outputs": [],
   "source": [
    "#TokenzQdBNbLqP5VEhdkAS6EPFLC1PHnBqCXEpPxuEb\n",
    "from solana.rpc.api import Client\n",
    "from solana.rpc.types import TxOpts\n",
    "import json\n",
    "from solders.signature import Signature\n",
    "from solders.pubkey import Pubkey\n",
    "import os\n",
    "import sys\n",
    "current_dir = os.getcwd()\n",
    "parent_dir = os.path.dirname(current_dir)\n",
    "sys.path.append(parent_dir)\n",
    "client = Client(os.getenv(\"dev_rpc\"))"
   ]
  },
  {
   "cell_type": "code",
   "execution_count": 5,
   "id": "c55bcf70",
   "metadata": {},
   "outputs": [
    {
     "name": "stdout",
     "output_type": "stream",
     "text": [
      "{\"jsonrpc\":\"2.0\",\"result\":[{\"signature\":\"3eziHkLbhwxcv9UYV2Dsq3x7nbU5QrPDkrQGcQbDXNp26NPabNqZpHmCqefcoXYZWc1Ydig7qyMX3i3uGLbTa3Zy\",\"slot\":387706850,\"err\":null,\"memo\":null,\"blockTime\":1749943571,\"confirmationStatus\":\"finalized\"},{\"signature\":\"4HNTEmVo4qF2PoTCXRvgxqqd6dUc8yRLHcJGkScNcVfwUNEx9D65CMRdNHEqea58CxYHhgFZMRCAH2qL8iu3V3Xw\",\"slot\":387706848,\"err\":null,\"memo\":null,\"blockTime\":1749943570,\"confirmationStatus\":\"finalized\"},{\"signature\":\"5dpCxYqZLcjD9rec8MQFPcBpbo94x1WVRDVNupzkb4oUTKYqSUM5THe7EmHb8EHH352nnUoWFEMYWN1yRLFx8qdJ\",\"slot\":387706846,\"err\":null,\"memo\":null,\"blockTime\":1749943569,\"confirmationStatus\":\"finalized\"},{\"signature\":\"5DW4AmmzVZzb7ehKXUxuDkM5nBx65dkWyNCmNjojwK8pP7kCFsumwbjYGDkc3D4bP1XkPQYeyca5sRzjqCe8rsJg\",\"slot\":387706846,\"err\":null,\"memo\":null,\"blockTime\":1749943569,\"confirmationStatus\":\"finalized\"},{\"signature\":\"5rYy4i32yg6T8kA26RrtXtmezoMkzxdiSMnSADK4tzv2erndhjMxkqKnZx3gKYTf4WZu9ZSdPqqmnyx7Mm3pCdK3\",\"slot\":387706684,\"err\":null,\"memo\":null,\"blockTime\":1749943507,\"confirmationStatus\":\"finalized\"},{\"signature\":\"3YGCFnZW4rnRHL8SrGyNRx1TG3zxfWdsvEmTjSU9bLH4kmpkP4tciqQkDEsmoMXxeSvzv1iKqWP5fyBfKKUho5Bh\",\"slot\":387706682,\"err\":null,\"memo\":null,\"blockTime\":1749943506,\"confirmationStatus\":\"finalized\"},{\"signature\":\"4AJaDWhDPFmWYGgvzA3bnW3Y4QWa75fiGYiSFBUZojYLj3fxwdksqtGfHDmRFPuevaDMFWe5AmhnMmpUam9yzaa8\",\"slot\":387706680,\"err\":null,\"memo\":null,\"blockTime\":1749943505,\"confirmationStatus\":\"finalized\"},{\"signature\":\"2JUxwtutZEgSx546p6yqPaLnAR7tquPqZqzH6fcyYjTHHeNAacfhqCXqfa3Ka5QJ38SvksnqUfWzt9NEuqX5Z8PL\",\"slot\":387706524,\"err\":null,\"memo\":null,\"blockTime\":1749943445,\"confirmationStatus\":\"finalized\"},{\"signature\":\"oDPDJ78GQLeXhbjcunTTvCX991gXBmPRiuvvGHzi9EZjnVnQxF32mwwXtxaErYKqLD33vai89PDw5hJmyJKBrDN\",\"slot\":387706523,\"err\":null,\"memo\":null,\"blockTime\":1749943444,\"confirmationStatus\":\"finalized\"},{\"signature\":\"3GT8gUm5yMHsVXG77K5GW9xeDiNRbKgw31zppHumkAwxdBnWi3UGbLqeSNTGjaH6wM21jzYBMXi9gsHrNwVfY39s\",\"slot\":387706521,\"err\":null,\"memo\":null,\"blockTime\":1749943443,\"confirmationStatus\":\"finalized\"},{\"signature\":\"2h9kJHkCS8a9hn9vowqrcdf4gJnGrpqqseTUaezvsRCoJgpzsB4nnWgJwQfhJBAUfs5gscD2rDMRd6Lt9Thkbct9\",\"slot\":387706519,\"err\":null,\"memo\":null,\"blockTime\":1749943443,\"confirmationStatus\":\"finalized\"},{\"signature\":\"4ZuH4ubrjXs88xDGJMEFrj8scYjvFk3gMPZdbBBfBCWLfyqMmGjd8P91w7NtjA1754mMYpsnudgtmL5A1sHzHU8R\",\"slot\":387706476,\"err\":null,\"memo\":null,\"blockTime\":1749943426,\"confirmationStatus\":\"finalized\"},{\"signature\":\"XHCVvq632432D5cbP1rT4MrXXS97Yw8PufxsEHDY5VQDNAQwffjhgSreXRxEN159azPnTq6TFg77fiNGEgoW4AD\",\"slot\":387706363,\"err\":null,\"memo\":null,\"blockTime\":1749943382,\"confirmationStatus\":\"finalized\"},{\"signature\":\"5bBCc1Gicd8yLfnzDVfabSPnfWCJ2aMStdoPnDxY5PAFcvcEV3b6X1nXppDkjZrTqNQDn17RuyRRXFMrWqU8dFxm\",\"slot\":387706358,\"err\":null,\"memo\":null,\"blockTime\":1749943380,\"confirmationStatus\":\"finalized\"},{\"signature\":\"4NYDR2GZ54SLfxvHd1v1FoENKUWqYrK4zU3iipXd3sC49rqQ6eHymF3AfXY5qz8N6RFoF481VqBhnqEe7BXaqRuM\",\"slot\":387706356,\"err\":null,\"memo\":null,\"blockTime\":1749943379,\"confirmationStatus\":\"finalized\"},{\"signature\":\"5WEuSLHkH7yVYbzJtFvpQtnJB5bYdqoVEU2fCEkkg8i8Cafa1n2FPYxznjimbXAugYs9cU1tUtthNkDQu9Feb2it\",\"slot\":387706354,\"err\":null,\"memo\":null,\"blockTime\":1749943379,\"confirmationStatus\":\"finalized\"},{\"signature\":\"5rcmHescmkf4QDe2xGSKtsuRVxFfTeTDTg52N68738rrLuvphHMtSTJua3gjP6urTiYEiAaFfE6kWhNGyPNcrSze\",\"slot\":387706298,\"err\":null,\"memo\":null,\"blockTime\":1749943357,\"confirmationStatus\":\"finalized\"},{\"signature\":\"qn7gxq2sqdXTyKt6RTQjUW5pNuUAmupso5dezcbQHH2KrFsCLFa7LC7ZPXCYRb1K8hp693PLzQCj4UnMePXfrdf\",\"slot\":387706296,\"err\":null,\"memo\":null,\"blockTime\":1749943356,\"confirmationStatus\":\"finalized\"},{\"signature\":\"2fVFuz62Xgao2WDa7WRBhqDs78qFirXHc4x9csYd33s58BDDFYpzqA5qWxBd1adNAU7PADHpZfwaMTbBb4Bz5uaJ\",\"slot\":387706209,\"err\":null,\"memo\":null,\"blockTime\":1749943323,\"confirmationStatus\":\"finalized\"},{\"signature\":\"4eWcTKCsVXwZL5MLGpfj7TDUvsYFG9fmjQ8WdCk66c3wTJL2PrPNjA1FV2iGZqcVjoZGKy6XJUcUXiLPjs8c332X\",\"slot\":387706197,\"err\":null,\"memo\":null,\"blockTime\":1749943319,\"confirmationStatus\":\"finalized\"}],\"id\":0}\n",
      "3eziHkLbhwxcv9UYV2Dsq3x7nbU5QrPDkrQGcQbDXNp26NPabNqZpHmCqefcoXYZWc1Ydig7qyMX3i3uGLbTa3Zy\n",
      "4HNTEmVo4qF2PoTCXRvgxqqd6dUc8yRLHcJGkScNcVfwUNEx9D65CMRdNHEqea58CxYHhgFZMRCAH2qL8iu3V3Xw\n"
     ]
    }
   ],
   "source": [
    "client.is_connected()\n",
    "result = client.get_signatures_for_address(\n",
    "    Pubkey.from_string(\"TokenzQdBNbLqP5VEhdkAS6EPFLC1PHnBqCXEpPxuEb\"),\n",
    "    #before=Signature.from_string(\"5f1b7c3d8e2f0a4b6c8d9e0f1a2b3c4d5e6f7g8h9i0j1k2l3m4n5o6p7q8r9s0t\"),\n",
    "    limit=20)\n",
    "print(result.to_json())\n",
    "print(result.value[0].signature)\n",
    "print(result.value[1].signature)"
   ]
  },
  {
   "cell_type": "code",
   "execution_count": 6,
   "id": "f0ab8a93",
   "metadata": {},
   "outputs": [],
   "source": [
    "from utils import find_program_index,getTx,PrintTxByProgramId\n",
    "tx = getTx(\"dev_rpc\",\"4iBUGQD4vUJzzY5sxfPnSaeUZMyV2RExn8qRFgmXDsuQVRArJvu8tWbJoLZ7VMixPUnJAMqbwqvaTvAqqp6NjDoe\")\n",
    "find_program_index(tx, \"TokenzQdBNbLqP5VEhdkAS6EPFLC1PHnBqCXEpPxuEb\")\n",
    "if isinstance(result.value[1].signature, Signature): \n",
    "    tx = getTx(\"dev_rpc\", result.value[1].signature)"
   ]
  },
  {
   "cell_type": "code",
   "execution_count": 5,
   "id": "ed84cbc9",
   "metadata": {},
   "outputs": [
    {
     "name": "stdout",
     "output_type": "stream",
     "text": [
      "YKxo4oyGVF6w5gxSRNgLbiThFfBkfRALth4Pj3K5zDXLkPnyZuvg2dpywZm37nvndBTArgAqi6EwF6NqGq1GbEu ix 1: 0700e1f50500000000\n",
      "4mLVzBy4m1FVP4kT1Ga5FduQ8fZwFXHy8mW9CTRyoqiSKd8fh5U93vy7GTJhwB4icBbitQGpNbm7MNK5ez7rmedw ix 3: 0c00e40b540200000006\n",
      "3M4GbkTb9wfcKojpWPi3AfXpezYLaS3CxrUAsbV4CLVkKvQt3X7a9qFoctPQ7RW6DUmXa4cZiswNmQ4vGrgnNG8b\n"
     ]
    }
   ],
   "source": [
    "\n",
    "\n",
    "for txhash in result.value:\n",
    "    tx = getTx(\"dev_rpc\", txhash.signature)\n",
    "    index = find_program_index(tx, \"TokenzQdBNbLqP5VEhdkAS6EPFLC1PHnBqCXEpPxuEb\")\n",
    "    if index != -1:\n",
    "       #print(f\"Transaction: {txhash.signature}\")\n",
    "       PrintTxByProgramId(index, tx) \n",
    "print(result.value[-1].signature)"
   ]
  },
  {
   "cell_type": "code",
   "execution_count": 6,
   "id": "6e62029b",
   "metadata": {},
   "outputs": [
    {
     "name": "stdout",
     "output_type": "stream",
     "text": [
      "{\"slot\":386902337,\"transaction\":{\"signatures\":[\"27Kj3Umhezpqg7BLa5SXPqX74GDRCuzURFKc3n5aUSXzddBDwivs5WHkd8ULepzTMTxtiPKcVQY693RueKoYbGJD\"],\"message\":{\"header\":{\"numRequiredSignatures\":1,\"numReadonlySignedAccounts\":0,\"numReadonlyUnsignedAccounts\":4},\"accountKeys\":[\"EdxVhSNGyGRc1ceE3XbFsD8YnHkactJcCKPkJvQ23yLP\",\"8ZW57bjYGAc5XHwJzsb26fk8z8bPBnLenPJsucbwsr64\",\"9g2hKSbirKHAuWQ9bA3HvG7JnmarKVRn7AsnHRSYqPGX\",\"11111111111111111111111111111111\",\"ATokenGPvbdGVxr1b2hvZbsiqW5xWH25efTNsLJA8knL\",\"ComputeBudget111111111111111111111111111111\",\"TokenzQdBNbLqP5VEhdkAS6EPFLC1PHnBqCXEpPxuEb\"],\"recentBlockhash\":\"J6XFY2e2BfdhJ9oGmcQo5igFEpLCyybjNkvt5aV6exy8\",\"instructions\":[{\"programIdIndex\":5,\"accounts\":[],\"data\":\"3qi1MbrtkR83\",\"stackHeight\":1},{\"programIdIndex\":5,\"accounts\":[],\"data\":\"Fj2Eoy\",\"stackHeight\":1},{\"programIdIndex\":4,\"accounts\":[0,1,0,2,3,6],\"data\":\"\",\"stackHeight\":1},{\"programIdIndex\":6,\"accounts\":[2,1,0],\"data\":\"6ApXSNCamGdm\",\"stackHeight\":1}]}},\"meta\":{\"err\":null,\"status\":{\"Ok\":null},\"fee\":80000,\"preBalances\":[3838840813,0,3779280,1,731913600,1,1141440],\"postBalances\":[3836686733,2074080,3779280,1,731913600,1,1141440],\"innerInstructions\":[{\"index\":2,\"instructions\":[{\"programIdIndex\":6,\"accounts\":[2],\"data\":\"84eT\",\"stackHeight\":2},{\"programIdIndex\":3,\"accounts\":[0,1],\"data\":\"11119ExAoTptm6xKUTUcw2V69MKmyEdDmRins3j3bK43o9nHeiYUtSiaT9pc292PhNQvxj\",\"stackHeight\":2},{\"programIdIndex\":6,\"accounts\":[1],\"data\":\"P\",\"stackHeight\":2},{\"programIdIndex\":6,\"accounts\":[1,2],\"data\":\"6amfAddu5G7hSH6jk8gnbMBZwHBLQ2daJuEZboW5qM7mM\",\"stackHeight\":2}]}],\"logMessages\":[\"Program ComputeBudget111111111111111111111111111111 invoke [1]\",\"Program ComputeBudget111111111111111111111111111111 success\",\"Program ComputeBudget111111111111111111111111111111 invoke [1]\",\"Program ComputeBudget111111111111111111111111111111 success\",\"Program ATokenGPvbdGVxr1b2hvZbsiqW5xWH25efTNsLJA8knL invoke [1]\",\"Program log: Create\",\"Program TokenzQdBNbLqP5VEhdkAS6EPFLC1PHnBqCXEpPxuEb invoke [2]\",\"Program log: Instruction: GetAccountDataSize\",\"Program TokenzQdBNbLqP5VEhdkAS6EPFLC1PHnBqCXEpPxuEb consumed 1436 of 189922 compute units\",\"Program return: TokenzQdBNbLqP5VEhdkAS6EPFLC1PHnBqCXEpPxuEb qgAAAAAAAAA=\",\"Program TokenzQdBNbLqP5VEhdkAS6EPFLC1PHnBqCXEpPxuEb success\",\"Program 11111111111111111111111111111111 invoke [2]\",\"Program 11111111111111111111111111111111 success\",\"Program log: Initialize the associated token account\",\"Program TokenzQdBNbLqP5VEhdkAS6EPFLC1PHnBqCXEpPxuEb invoke [2]\",\"Program log: Instruction: InitializeImmutableOwner\",\"Program TokenzQdBNbLqP5VEhdkAS6EPFLC1PHnBqCXEpPxuEb consumed 527 of 183556 compute units\",\"Program TokenzQdBNbLqP5VEhdkAS6EPFLC1PHnBqCXEpPxuEb success\",\"Program TokenzQdBNbLqP5VEhdkAS6EPFLC1PHnBqCXEpPxuEb invoke [2]\",\"Program log: Instruction: InitializeAccount3\",\"Program TokenzQdBNbLqP5VEhdkAS6EPFLC1PHnBqCXEpPxuEb consumed 2163 of 180642 compute units\",\"Program TokenzQdBNbLqP5VEhdkAS6EPFLC1PHnBqCXEpPxuEb success\",\"Program ATokenGPvbdGVxr1b2hvZbsiqW5xWH25efTNsLJA8knL consumed 21504 of 199700 compute units\",\"Program ATokenGPvbdGVxr1b2hvZbsiqW5xWH25efTNsLJA8knL success\",\"Program TokenzQdBNbLqP5VEhdkAS6EPFLC1PHnBqCXEpPxuEb invoke [1]\",\"Program log: Instruction: MintTo\",\"Program TokenzQdBNbLqP5VEhdkAS6EPFLC1PHnBqCXEpPxuEb consumed 1654 of 178196 compute units\",\"Program TokenzQdBNbLqP5VEhdkAS6EPFLC1PHnBqCXEpPxuEb success\"],\"preTokenBalances\":[],\"postTokenBalances\":[{\"accountIndex\":1,\"mint\":\"9g2hKSbirKHAuWQ9bA3HvG7JnmarKVRn7AsnHRSYqPGX\",\"uiTokenAmount\":{\"uiAmount\":1000000.0,\"decimals\":9,\"amount\":\"1000000000000000\",\"uiAmountString\":\"1000000\"},\"owner\":\"EdxVhSNGyGRc1ceE3XbFsD8YnHkactJcCKPkJvQ23yLP\",\"programId\":\"TokenzQdBNbLqP5VEhdkAS6EPFLC1PHnBqCXEpPxuEb\"}],\"rewards\":[],\"loadedAddresses\":{\"writable\":[],\"readonly\":[]},\"computeUnitsConsumed\":23458},\"version\":\"legacy\",\"blockTime\":1749629695}\n",
      "Transaction: 27Kj3Umhezpqg7BLa5SXPqX74GDRCuzURFKc3n5aUSXzddBDwivs5WHkd8ULepzTMTxtiPKcVQY693RueKoYbGJD\n",
      "27Kj3Umhezpqg7BLa5SXPqX74GDRCuzURFKc3n5aUSXzddBDwivs5WHkd8ULepzTMTxtiPKcVQY693RueKoYbGJD ix 3: 070080c6a47e8d0300\n"
     ]
    }
   ],
   "source": [
    "tx = getTx(\"dev_rpc\", \"27Kj3Umhezpqg7BLa5SXPqX74GDRCuzURFKc3n5aUSXzddBDwivs5WHkd8ULepzTMTxtiPKcVQY693RueKoYbGJD\")\n",
    "print(tx.value.to_json())\n",
    "index = find_program_index(tx, \"TokenzQdBNbLqP5VEhdkAS6EPFLC1PHnBqCXEpPxuEb\")\n",
    "if index != -1:\n",
    "    print(f\"Transaction: 27Kj3Umhezpqg7BLa5SXPqX74GDRCuzURFKc3n5aUSXzddBDwivs5WHkd8ULepzTMTxtiPKcVQY693RueKoYbGJD\")\n",
    "    PrintTxByProgramId(index, tx)"
   ]
  },
  {
   "cell_type": "code",
   "execution_count": 7,
   "id": "00f6e15a",
   "metadata": {},
   "outputs": [
    {
     "name": "stdout",
     "output_type": "stream",
     "text": [
      "Container: \n",
      "    decimals = 9\n",
      "    mintAuthority = EdxVhSNGyGRc1ceE3XbFsD8YnHkactJcCKPkJvQ23yLP\n",
      "    freezeAuthority = None\n"
     ]
    }
   ],
   "source": [
    "bs = bytes.fromhex(\"0009ca9f965a5af282efe1eea7e104c50da886109214b21edc42b2c201da22186bc4000000000000000000000000000000000000000000000000000000000000000000\")\n",
    "from token2022.instructions import initializeMint\n",
    "obj = initializeMint.layout.parse(bs[1:])\n",
    "print(obj)"
   ]
  },
  {
   "cell_type": "code",
   "execution_count": 8,
   "id": "fc532681",
   "metadata": {},
   "outputs": [
    {
     "name": "stdout",
     "output_type": "stream",
     "text": [
      "2rLvdMi9MJLZ4FbrkGunRjtnfFDStp91Cv99PNb8A6Seev6dcbqJ6Jv7tZ8MTJYoafYbm9jgdVPDtLCf6R5EMuSZ ix 1: 000681272e65eb2e1536df0294d2ff7c5d365e2b2907a98fe915febe1b6af5ea2eca0181272e65eb2e1536df0294d2ff7c5d365e2b2907a98fe915febe1b6af5ea2eca\n"
     ]
    }
   ],
   "source": [
    "tx=getTx(\"dev_rpc\", \"2rLvdMi9MJLZ4FbrkGunRjtnfFDStp91Cv99PNb8A6Seev6dcbqJ6Jv7tZ8MTJYoafYbm9jgdVPDtLCf6R5EMuSZ\")\n",
    "index = find_program_index(tx, \"TokenzQdBNbLqP5VEhdkAS6EPFLC1PHnBqCXEpPxuEb\")\n",
    "if index != -1:\n",
    "    PrintTxByProgramId(index, tx)"
   ]
  },
  {
   "cell_type": "code",
   "execution_count": 9,
   "id": "6e0eb435",
   "metadata": {},
   "outputs": [
    {
     "name": "stdout",
     "output_type": "stream",
     "text": [
      "Container: \n",
      "    decimals = 6\n",
      "    mintAuthority = 9hAFDX7ZinYwftpHvTWQVLJ4usAUdmExVZFVmeJCQj4D\n",
      "    freezeAuthority = 9hAFDX7ZinYwftpHvTWQVLJ4usAUdmExVZFVmeJCQj4D\n"
     ]
    }
   ],
   "source": [
    "bs = bytes.fromhex(\"000681272e65eb2e1536df0294d2ff7c5d365e2b2907a98fe915febe1b6af5ea2eca0181272e65eb2e1536df0294d2ff7c5d365e2b2907a98fe915febe1b6af5ea2eca\")\n",
    "from token2022.instructions import initializeMint\n",
    "obj = initializeMint.layout.parse(bs[1:])\n",
    "print(obj)"
   ]
  },
  {
   "cell_type": "code",
   "execution_count": 2,
   "id": "296575d0",
   "metadata": {},
   "outputs": [
    {
     "name": "stdout",
     "output_type": "stream",
     "text": [
      "mint Account: Mint(mintAuthority=Pubkey(\n",
      "    9hAFDX7ZinYwftpHvTWQVLJ4usAUdmExVZFVmeJCQj4D,\n",
      "), supply=0, decimals=6, isInitialized=True, freezeAuthority=Pubkey(\n",
      "    9hAFDX7ZinYwftpHvTWQVLJ4usAUdmExVZFVmeJCQj4D,\n",
      "), extensions=None)\n",
      "{'mintAuthority': '9hAFDX7ZinYwftpHvTWQVLJ4usAUdmExVZFVmeJCQj4D', 'supply': 0, 'decimals': 6, 'isInitialized': True, 'freezeAuthority': '9hAFDX7ZinYwftpHvTWQVLJ4usAUdmExVZFVmeJCQj4D', 'extensions': 'None'}\n"
     ]
    }
   ],
   "source": [
    "from token2022.accounts import mint\n",
    "from solana.rpc.async_api import AsyncClient\n",
    "client = AsyncClient(os.getenv(\"dev_rpc\"))\n",
    "mint_account = await mint.Mint.fetch(client, Pubkey.from_string(\"7kGVtsYNbzNDodW5ecLTBFKfMbGaKFq4RiQQ8sDRkix7\"))\n",
    "print(f\"mint Account: {mint_account}\")\n",
    "print(mint_account.to_json())"
   ]
  },
  {
   "cell_type": "code",
   "execution_count": null,
   "id": "ba18cb33",
   "metadata": {},
   "outputs": [
    {
     "ename": "ModuleNotFoundError",
     "evalue": "No module named 'token2022'",
     "output_type": "error",
     "traceback": [
      "\u001b[31m---------------------------------------------------------------------------\u001b[39m",
      "\u001b[31mModuleNotFoundError\u001b[39m                       Traceback (most recent call last)",
      "\u001b[36mCell\u001b[39m\u001b[36m \u001b[39m\u001b[32mIn[1]\u001b[39m\u001b[32m, line 1\u001b[39m\n\u001b[32m----> \u001b[39m\u001b[32m1\u001b[39m \u001b[38;5;28;01mfrom\u001b[39;00m\u001b[38;5;250m \u001b[39m\u001b[34;01mtoken2022\u001b[39;00m\u001b[34;01m.\u001b[39;00m\u001b[34;01maccounts\u001b[39;00m\u001b[38;5;250m \u001b[39m\u001b[38;5;28;01mimport\u001b[39;00m mint\n\u001b[32m      2\u001b[39m \u001b[38;5;28;01mfrom\u001b[39;00m\u001b[38;5;250m \u001b[39m\u001b[34;01msolana\u001b[39;00m\u001b[34;01m.\u001b[39;00m\u001b[34;01mrpc\u001b[39;00m\u001b[34;01m.\u001b[39;00m\u001b[34;01masync_api\u001b[39;00m\u001b[38;5;250m \u001b[39m\u001b[38;5;28;01mimport\u001b[39;00m AsyncClient\n\u001b[32m      3\u001b[39m client = AsyncClient(os.getenv(\u001b[33m\"\u001b[39m\u001b[33mdev_rpc\u001b[39m\u001b[33m\"\u001b[39m))\n",
      "\u001b[31mModuleNotFoundError\u001b[39m: No module named 'token2022'"
     ]
    }
   ],
   "source": [
    "from token2022.accounts import mint\n",
    "from solana.rpc.async_api import AsyncClient\n",
    "import os\n",
    "import sys\n",
    "current_dir = os.getcwd()\n",
    "parent_dir = os.path.dirname(current_dir)\n",
    "sys.path.append(parent_dir)\n",
    "client = AsyncClient(os.getenv(\"dev_rpc\"))\n",
    "mint_account = await mint.Mint.fetch(client, Pubkey.from_string(\"3QvdZgaBcoqeDrPWVGFaHmo2KCyQfKVQc5J3ygnt3C9M\"))\n",
    "print(f\"mint Account: {mint_account}\")\n",
    "print(mint_account.to_json())\n",
    "mint.Mint.layout.build(mint_account.to_encodable()).hex()"
   ]
  },
  {
   "cell_type": "code",
   "execution_count": 4,
   "id": "38e0a2f9",
   "metadata": {},
   "outputs": [
    {
     "name": "stdout",
     "output_type": "stream",
     "text": [
      "[MetadataPointer(value={'authority': Pubkey(\n",
      "    6MZDRo5v8K2NfdohdD76QNpSgk3GH3Aup53BeMaRAEpd,\n",
      "), 'metadataAddress': Pubkey(\n",
      "    3QvdZgaBcoqeDrPWVGFaHmo2KCyQfKVQc5J3ygnt3C9M,\n",
      ")}), TokenMetadata(value={'updateAuthority': Pubkey(\n",
      "    6MZDRo5v8K2NfdohdD76QNpSgk3GH3Aup53BeMaRAEpd,\n",
      "), 'mint': Pubkey(\n",
      "    3QvdZgaBcoqeDrPWVGFaHmo2KCyQfKVQc5J3ygnt3C9M,\n",
      "), 'name': 'PaxonToken', 'symbol': 'PTK', 'uri': 'https://gist.github.com/qiaopengjun5162/07ca0fa324697e0bdf5b21dd21d43101', 'additionalMetadata': {}})]\n"
     ]
    }
   ],
   "source": [
    "print(mint_account.extensions)"
   ]
  },
  {
   "cell_type": "code",
   "execution_count": 3,
   "id": "e6ae1c2f",
   "metadata": {},
   "outputs": [],
   "source": [
    "client = Client(os.getenv('dev_rpc'))\n",
    "resp = client.get_account_info(Pubkey.from_string(\"3QvdZgaBcoqeDrPWVGFaHmo2KCyQfKVQc5J3ygnt3C9M\"), commitment=None)"
   ]
  },
  {
   "cell_type": "code",
   "execution_count": 7,
   "id": "2ea334e7",
   "metadata": {},
   "outputs": [
    {
     "data": {
      "text/plain": [
       "'010000004f8e79c1003c7aa7f93a5cf37105d0c9cd65d9f50b561eb445e66e337f08cba600ca9a3b000000000901000000000000000000000000000000000000000000000000000000000000000000000000000000000000000000000000000000000000000000000000000000000000000000000000000000000000000000000000000000000000000000000000000000000000000000000000000000000000000000000001120040004f8e79c1003c7aa7f93a5cf37105d0c9cd65d9f50b561eb445e66e337f08cba623d85f5face4caebf2c74fd9eaf0f463c2c869f2c8a470c188c7ebab392761d01300a5004f8e79c1003c7aa7f93a5cf37105d0c9cd65d9f50b561eb445e66e337f08cba623d85f5face4caebf2c74fd9eaf0f463c2c869f2c8a470c188c7ebab392761d00a0000005061786f6e546f6b656e0300000050544b4800000068747470733a2f2f676973742e6769746875622e636f6d2f7169616f70656e676a756e353136322f303763613066613332343639376530626466356232316464323164343331303100000000'"
      ]
     },
     "execution_count": 7,
     "metadata": {},
     "output_type": "execute_result"
    }
   ],
   "source": [
    "resp.value.data.hex()"
   ]
  },
  {
   "cell_type": "code",
   "execution_count": 8,
   "id": "9b2637bd",
   "metadata": {},
   "outputs": [
    {
     "data": {
      "text/plain": [
       "ListContainer([{'MetadataPointer': Container(authority=Pubkey(\n",
       "    6MZDRo5v8K2NfdohdD76QNpSgk3GH3Aup53BeMaRAEpd,\n",
       "), metadataAddress=Pubkey(\n",
       "    3QvdZgaBcoqeDrPWVGFaHmo2KCyQfKVQc5J3ygnt3C9M,\n",
       "))}, {'TokenMetadata': Container(updateAuthority=Pubkey(\n",
       "    6MZDRo5v8K2NfdohdD76QNpSgk3GH3Aup53BeMaRAEpd,\n",
       "), mint=Pubkey(\n",
       "    3QvdZgaBcoqeDrPWVGFaHmo2KCyQfKVQc5J3ygnt3C9M,\n",
       "), name=u'PaxonToken', symbol=u'PTK', uri=u'https://gist.github.com/qiaopengjun5162/07ca0fa324697e0bdf5b21dd21d43101', additionalMetadata={})}])"
      ]
     },
     "execution_count": 8,
     "metadata": {},
     "output_type": "execute_result"
    }
   ],
   "source": [
    "bs = bytes.fromhex(\"120040004f8e79c1003c7aa7f93a5cf37105d0c9cd65d9f50b561eb445e66e337f08cba623d85f5face4caebf2c74fd9eaf0f463c2c869f2c8a470c188c7ebab392761d01300a5004f8e79c1003c7aa7f93a5cf37105d0c9cd65d9f50b561eb445e66e337f08cba623d85f5face4caebf2c74fd9eaf0f463c2c869f2c8a470c188c7ebab392761d00a0000005061786f6e546f6b656e0300000050544b4800000068747470733a2f2f676973742e6769746875622e636f6d2f7169616f70656e676a756e353136322f303763613066613332343639376530626466356232316464323164343331303100000000\")\n",
    "from construct import Const, Construct,GreedyRange\n",
    "import typing\n",
    "from token2022 import types\n",
    "ly = GreedyRange(typing.cast(Construct, types.extension.layout))\n",
    "ly.parse(bs)"
   ]
  },
  {
   "cell_type": "code",
   "execution_count": 9,
   "id": "eb77ebf1",
   "metadata": {},
   "outputs": [
    {
     "name": "stdout",
     "output_type": "stream",
     "text": [
      "ListContainer: \n",
      "    {'MetadataPointer': Container(authority=Pubkey(\n",
      "        6MZDRo5v8K2NfdohdD76QNpSgk3GH3Aup53BeMaRAEpd,\n",
      "    ), metadataAddress=Pubkey(\n",
      "        3QvdZgaBcoqeDrPWVGFaHmo2KCyQfKVQc5J3ygnt3C9M,\n",
      "    ))}\n",
      "    {'TokenMetadata': Container(updateAuthority=Pubkey(\n",
      "        6MZDRo5v8K2NfdohdD76QNpSgk3GH3Aup53BeMaRAEpd,\n",
      "    ), mint=Pubkey(\n",
      "        3QvdZgaBcoqeDrPWVGFaHmo2KCyQfKVQc5J3ygnt3C9M,\n",
      "    ), name=u'PaxonToken', symbol=u'PTK', uri=u'https://gist.github.com/qiaopengjun5162/07ca0fa324697e0bdf5b21dd21d43101', additionalMetadata={})}\n"
     ]
    },
    {
     "data": {
      "text/plain": [
       "'000000000000000000000000000000000000000000000000000000000000000000000000000000000000000000000000000000000000000000000000000000000000000000000000000000000000000000000001120040004f8e79c1003c7aa7f93a5cf37105d0c9cd65d9f50b561eb445e66e337f08cba623d85f5face4caebf2c74fd9eaf0f463c2c869f2c8a470c188c7ebab392761d01300a5004f8e79c1003c7aa7f93a5cf37105d0c9cd65d9f50b561eb445e66e337f08cba623d85f5face4caebf2c74fd9eaf0f463c2c869f2c8a470c188c7ebab392761d00a0000005061786f6e546f6b656e0300000050544b4800000068747470733a2f2f676973742e6769746875622e636f6d2f7169616f70656e676a756e353136322f303763613066613332343639376530626466356232316464323164343331303100000000'"
      ]
     },
     "execution_count": 9,
     "metadata": {},
     "output_type": "execute_result"
    }
   ],
   "source": [
    "bs = bytes.fromhex('000000000000000000000000000000000000000000000000000000000000000000000000000000000000000000000000000000000000000000000000000000000000000000000000000000000000000000000001120040004f8e79c1003c7aa7f93a5cf37105d0c9cd65d9f50b561eb445e66e337f08cba623d85f5face4caebf2c74fd9eaf0f463c2c869f2c8a470c188c7ebab392761d01300a5004f8e79c1003c7aa7f93a5cf37105d0c9cd65d9f50b561eb445e66e337f08cba623d85f5face4caebf2c74fd9eaf0f463c2c869f2c8a470c188c7ebab392761d00a0000005061786f6e546f6b656e0300000050544b4800000068747470733a2f2f676973742e6769746875622e636f6d2f7169616f70656e676a756e353136322f303763613066613332343639376530626466356232316464323164343331303100000000')\n",
    "from construct import Const, Construct,GreedyRange\n",
    "import borsh_construct as borsh\n",
    "import typing\n",
    "from token2022 import types\n",
    "from token2022.shared import HiddenPrefixAdapter, OptionU32, PreOffset, RemainderOption\n",
    "rm = RemainderOption(HiddenPrefixAdapter(borsh.TupleStruct(Const(1,PreOffset(borsh.U8,83))),GreedyRange(typing.cast(Construct, types.extension.layout))))\n",
    "dec = rm.parse(bs)\n",
    "print(dec)\n",
    "rm.build(dec).hex()"
   ]
  },
  {
   "cell_type": "code",
   "execution_count": null,
   "id": "263294da",
   "metadata": {},
   "outputs": [],
   "source": []
  }
 ],
 "metadata": {
  "kernelspec": {
   "display_name": ".venv",
   "language": "python",
   "name": "python3"
  },
  "language_info": {
   "codemirror_mode": {
    "name": "ipython",
    "version": 3
   },
   "file_extension": ".py",
   "mimetype": "text/x-python",
   "name": "python",
   "nbconvert_exporter": "python",
   "pygments_lexer": "ipython3",
   "version": "3.13.2"
  }
 },
 "nbformat": 4,
 "nbformat_minor": 5
}
