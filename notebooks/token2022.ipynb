{
 "cells": [
  {
   "cell_type": "code",
   "execution_count": 1,
   "id": "8955c461",
   "metadata": {},
   "outputs": [],
   "source": [
    "#TokenzQdBNbLqP5VEhdkAS6EPFLC1PHnBqCXEpPxuEb\n",
    "from solana.rpc.api import Client\n",
    "from solana.rpc.types import TxOpts\n",
    "import json\n",
    "from solders.signature import Signature\n",
    "from solders.pubkey import Pubkey\n",
    "import os\n",
    "import sys\n",
    "current_dir = os.getcwd()\n",
    "parent_dir = os.path.dirname(current_dir)\n",
    "sys.path.append(parent_dir)\n",
    "client = Client(os.getenv(\"dev_rpc\"))"
   ]
  },
  {
   "cell_type": "code",
   "execution_count": 2,
   "id": "c55bcf70",
   "metadata": {},
   "outputs": [
    {
     "name": "stdout",
     "output_type": "stream",
     "text": [
      "{\"jsonrpc\":\"2.0\",\"result\":[{\"signature\":\"38LHN3RHnsQkF643GULf623rzwiN2j4rnPoeLtS2GGQiPMmWzj58dCPRe3HGZBgzhrv6WvytXqqwyNsb2e1JxLug\",\"slot\":387174596,\"err\":null,\"memo\":null,\"blockTime\":1749736435,\"confirmationStatus\":\"finalized\"},{\"signature\":\"2pNygozpFNNGEZbW1oygyafyrrnYDbRiWFbsZPphjbNbzLeiWcnCgV6hSzD5DVmb11areuyYxFBic4yAK5wfmGT7\",\"slot\":387174551,\"err\":null,\"memo\":null,\"blockTime\":1749736418,\"confirmationStatus\":\"finalized\"},{\"signature\":\"66AcNnQECznzznqk3oqYSFM6hg9smXntMq58n4P3wQ2ogNNVui9DGVAhdzopo7mn6RDjdZoKDX7CKEVNmKq4G769\",\"slot\":387174549,\"err\":null,\"memo\":null,\"blockTime\":1749736417,\"confirmationStatus\":\"finalized\"},{\"signature\":\"5vJ5ychRRv2mQPDrogk9EhEDme16wsQJVLHhdSa9GCcSnvP6dCb4HH6XLw6mcMmZZJuwiwubqGbvUMzRMLsZoMJf\",\"slot\":387174547,\"err\":null,\"memo\":null,\"blockTime\":1749736416,\"confirmationStatus\":\"finalized\"},{\"signature\":\"2r4Kb53yLQMBhzcD3FALxgztwoadLVjMnseXzPx9kqFZBTyZguKNfAbp6hHUWw1bLAPhgHrSYmfy2uG4cNGukZo3\",\"slot\":387174539,\"err\":null,\"memo\":null,\"blockTime\":1749736413,\"confirmationStatus\":\"finalized\"},{\"signature\":\"GfTwFbP5o6H3Gf4hvgVAEsxbxtq98PgRWgE13nHdPxVvMXhX1mb5hEWHQUxgC6EEd5prcuVGTfZDocPNUQ47Yud\",\"slot\":387174469,\"err\":null,\"memo\":null,\"blockTime\":1749736386,\"confirmationStatus\":\"finalized\"},{\"signature\":\"Lc1keJSKS8vaZC7ae4JXSMumvhBEKseoYTg1o42jTNFSNJ6nRYbySiL7t7hh8K5g1nCQiCMg7vkzEx4nfa11Cyj\",\"slot\":387174427,\"err\":null,\"memo\":null,\"blockTime\":1749736370,\"confirmationStatus\":\"finalized\"},{\"signature\":\"5zvs1NZUHqfxoKuNKxRyauSf1B5gxoE9RsJvFiLdZ6r2BGH2gTdSZRoNzPJceaSQp9iP6bKZj3NnzR2WzvCAHTHA\",\"slot\":387174414,\"err\":null,\"memo\":null,\"blockTime\":1749736365,\"confirmationStatus\":\"finalized\"},{\"signature\":\"7LvXHTN26tC614VmtjQjQAE7sFxYupWdMeNMrRn61QJj1XRgnCD9YCgmw6pcJZwnoefnsespSFWovS14oE2L6UM\",\"slot\":387174388,\"err\":null,\"memo\":null,\"blockTime\":1749736355,\"confirmationStatus\":\"finalized\"},{\"signature\":\"54Ba2bhbDLnfBjFNeZ9KA22PUienwXpGimCJBipk2BpSNvouHcZJ24Jk9UqzdxATVQ3izv7zwHtSHy2W21d3gAj5\",\"slot\":387174387,\"err\":null,\"memo\":null,\"blockTime\":1749736354,\"confirmationStatus\":\"finalized\"},{\"signature\":\"4Mr7RowDJvoum36vRpuoGJju9AmJwkqFA5HhVMhpas2GZ6sxsgyQvFzj5UMzWxJyzzr54P4vfeCx4a8um1JGDcxv\",\"slot\":387174382,\"err\":null,\"memo\":null,\"blockTime\":1749736352,\"confirmationStatus\":\"finalized\"},{\"signature\":\"3Bw4Wdiu3iHkCTFouvteTFAxdx6VmRpkGPcYpWike4MtF1VRvzwWFgyT9fM55QJnLdfgD5gwQxdPcy5hzC3nsnoc\",\"slot\":387174380,\"err\":null,\"memo\":null,\"blockTime\":1749736351,\"confirmationStatus\":\"finalized\"},{\"signature\":\"4nPtW37YDaDDrao9uKi4XwmJxpa9qHV6PpKYYesxBkdmwXwzk2UWXBBVXPHJUf9a7r8jq5ncsMwKG1BJQCNE4GdP\",\"slot\":387174372,\"err\":null,\"memo\":null,\"blockTime\":1749736348,\"confirmationStatus\":\"finalized\"},{\"signature\":\"4cXV48wj2sEZkHkibsqbL7PVXyJ3qzrswa6Pywgd6b2oqfhDTbHNDPbrftX9TQTt4bQreVn3ve5e2fCUr7DfUU1i\",\"slot\":387174370,\"err\":null,\"memo\":null,\"blockTime\":1749736347,\"confirmationStatus\":\"finalized\"},{\"signature\":\"2Aew5egJDKNeHP3wcRHGx1UJ7ym7zzn9LhZ8iA21YNZb71uaJ4ZeXgN25QdeEXqK79Xghyn7YrQVAiZr4PYeev5p\",\"slot\":387174369,\"err\":null,\"memo\":null,\"blockTime\":1749736347,\"confirmationStatus\":\"finalized\"},{\"signature\":\"5BYtCAbkfsckCYR2uhzZDXY21dkwnH1S14eA7v6G3hNSiW1jJCxE3tJxtN1bMsFbJQBfyk2BDZQ5TbWb1iLFg47f\",\"slot\":387174368,\"err\":null,\"memo\":null,\"blockTime\":1749736346,\"confirmationStatus\":\"finalized\"},{\"signature\":\"NghJvueBmPUMABJVo2azSsaTdQyHzqo2oByvBvE5WAwAsEjghUaDRBMLzA4QnGGvu7VvG8tZphDe4TpMAjwfXP8\",\"slot\":387174355,\"err\":null,\"memo\":null,\"blockTime\":1749736341,\"confirmationStatus\":\"finalized\"},{\"signature\":\"64jTSjePUsoTnmRQvtaMXHkiKmQRy8VoxnfgJvcpekpApSD9Y3C8s7CrBbcc8wFGpnaC1B6zAKaDxmBfVcVCqXW\",\"slot\":387174349,\"err\":null,\"memo\":null,\"blockTime\":1749736339,\"confirmationStatus\":\"finalized\"},{\"signature\":\"49fPfzRyh7kuokie7KhZFWtK5HG1GqCEmsPbu54G2c1joiQ2wGqiRiMFVgpLdUT5STdDHNbkGCrAtD3wqjAm5nAn\",\"slot\":387174347,\"err\":null,\"memo\":null,\"blockTime\":1749736338,\"confirmationStatus\":\"finalized\"},{\"signature\":\"3kbhSgK6BXgws3Detzr7SHrP6HvUEu9xetm5p3XQDjYwu7JMCJFNjL3rkXWLPDJmwcpkiFp5eshheE156BxLDpgn\",\"slot\":387174315,\"err\":null,\"memo\":null,\"blockTime\":1749736326,\"confirmationStatus\":\"finalized\"}],\"id\":0}\n",
      "38LHN3RHnsQkF643GULf623rzwiN2j4rnPoeLtS2GGQiPMmWzj58dCPRe3HGZBgzhrv6WvytXqqwyNsb2e1JxLug\n",
      "2pNygozpFNNGEZbW1oygyafyrrnYDbRiWFbsZPphjbNbzLeiWcnCgV6hSzD5DVmb11areuyYxFBic4yAK5wfmGT7\n"
     ]
    }
   ],
   "source": [
    "client.is_connected()\n",
    "result = client.get_signatures_for_address(\n",
    "    Pubkey.from_string(\"TokenzQdBNbLqP5VEhdkAS6EPFLC1PHnBqCXEpPxuEb\"),\n",
    "    #before=Signature.from_string(\"5f1b7c3d8e2f0a4b6c8d9e0f1a2b3c4d5e6f7g8h9i0j1k2l3m4n5o6p7q8r9s0t\"),\n",
    "    limit=20)\n",
    "print(result.to_json())\n",
    "print(result.value[0].signature)\n",
    "print(result.value[1].signature)"
   ]
  },
  {
   "cell_type": "code",
   "execution_count": 5,
   "id": "f0ab8a93",
   "metadata": {},
   "outputs": [],
   "source": [
    "from utils import find_program_index,getTx,PrintTxByProgramId\n",
    "tx = getTx(\"dev_rpc\",\"4iBUGQD4vUJzzY5sxfPnSaeUZMyV2RExn8qRFgmXDsuQVRArJvu8tWbJoLZ7VMixPUnJAMqbwqvaTvAqqp6NjDoe\")\n",
    "find_program_index(tx, \"TokenzQdBNbLqP5VEhdkAS6EPFLC1PHnBqCXEpPxuEb\")\n",
    "if isinstance(result.value[1].signature, Signature): \n",
    "    tx = getTx(\"dev_rpc\", result.value[1].signature)"
   ]
  },
  {
   "cell_type": "code",
   "execution_count": 6,
   "id": "ed84cbc9",
   "metadata": {},
   "outputs": [
    {
     "name": "stdout",
     "output_type": "stream",
     "text": [
      "61yEyYuKb8xBBhXvV6zopevbPEaEqvMUJZ9pczEHcRvkCT58nAauNC9uQ6hYHxWVRV4vzHXG2UKVCvKTx2rLwWJY ix 0: 0c010000000000000009\n",
      "2QJxCU38gywLfDWMHVhbrc4ZeTXu2C1ztuLWP3mgtsu2Bdd3rGGH8jRsHSHKvVz18Di5pETvKKSJwHL9HQjWBXVY ix 0: 1a0301\n",
      "3bQ6h4FMreCKEWkMqufcKbFafCHGZ8d7xjhQPukDGmcynR6mzeRs6yAqZ86VNZUjcdpVGp6EbfgwgXbgAy7arscP ix 3: 070080c6a47e8d0300\n",
      "2R9km7Sp6ubSh41sKW3qkEBuupqSqqKRRTCSrNRpzxCrDHwBxiu4AP4aQxiFUmJ72tRaMQzTJh5XpzGHPMuvmHzr ix 1: 0009ca9f965a5af282efe1eea7e104c50da886109214b21edc42b2c201da22186bc4000000000000000000000000000000000000000000000000000000000000000000\n",
      "5gU7R6srdFmg6zR4ESZ9yU7EdoYN6MzFhugb7Rc2qSQXiQSPFUQppPRHkgmaJsptQndBKdipoEoo4APqFg8XZuHT ix 2: 0c000000000000000006\n",
      "5gU7R6srdFmg6zR4ESZ9yU7EdoYN6MzFhugb7Rc2qSQXiQSPFUQppPRHkgmaJsptQndBKdipoEoo4APqFg8XZuHT ix 3: 0c204e00000000000006\n",
      "4GnAd99NSpZf9S5s2TTF1fnA9Ps8Vpmgi3nWAq6rpzBge8GUv7qTHLSrNEMT9RRBBgxVvBjKR4G4BC8EMVJhnA3b\n"
     ]
    }
   ],
   "source": [
    "\n",
    "\n",
    "for txhash in result.value:\n",
    "    tx = getTx(\"dev_rpc\", txhash.signature)\n",
    "    index = find_program_index(tx, \"TokenzQdBNbLqP5VEhdkAS6EPFLC1PHnBqCXEpPxuEb\")\n",
    "    if index != -1:\n",
    "       #print(f\"Transaction: {txhash.signature}\")\n",
    "       PrintTxByProgramId(index, tx) \n",
    "print(result.value[-1].signature)"
   ]
  },
  {
   "cell_type": "code",
   "execution_count": 12,
   "id": "6e62029b",
   "metadata": {},
   "outputs": [
    {
     "name": "stdout",
     "output_type": "stream",
     "text": [
      "{\"slot\":386902337,\"transaction\":{\"signatures\":[\"27Kj3Umhezpqg7BLa5SXPqX74GDRCuzURFKc3n5aUSXzddBDwivs5WHkd8ULepzTMTxtiPKcVQY693RueKoYbGJD\"],\"message\":{\"header\":{\"numRequiredSignatures\":1,\"numReadonlySignedAccounts\":0,\"numReadonlyUnsignedAccounts\":4},\"accountKeys\":[\"EdxVhSNGyGRc1ceE3XbFsD8YnHkactJcCKPkJvQ23yLP\",\"8ZW57bjYGAc5XHwJzsb26fk8z8bPBnLenPJsucbwsr64\",\"9g2hKSbirKHAuWQ9bA3HvG7JnmarKVRn7AsnHRSYqPGX\",\"11111111111111111111111111111111\",\"ATokenGPvbdGVxr1b2hvZbsiqW5xWH25efTNsLJA8knL\",\"ComputeBudget111111111111111111111111111111\",\"TokenzQdBNbLqP5VEhdkAS6EPFLC1PHnBqCXEpPxuEb\"],\"recentBlockhash\":\"J6XFY2e2BfdhJ9oGmcQo5igFEpLCyybjNkvt5aV6exy8\",\"instructions\":[{\"programIdIndex\":5,\"accounts\":[],\"data\":\"3qi1MbrtkR83\",\"stackHeight\":1},{\"programIdIndex\":5,\"accounts\":[],\"data\":\"Fj2Eoy\",\"stackHeight\":1},{\"programIdIndex\":4,\"accounts\":[0,1,0,2,3,6],\"data\":\"\",\"stackHeight\":1},{\"programIdIndex\":6,\"accounts\":[2,1,0],\"data\":\"6ApXSNCamGdm\",\"stackHeight\":1}]}},\"meta\":{\"err\":null,\"status\":{\"Ok\":null},\"fee\":80000,\"preBalances\":[3838840813,0,3779280,1,731913600,1,1141440],\"postBalances\":[3836686733,2074080,3779280,1,731913600,1,1141440],\"innerInstructions\":[{\"index\":2,\"instructions\":[{\"programIdIndex\":6,\"accounts\":[2],\"data\":\"84eT\",\"stackHeight\":2},{\"programIdIndex\":3,\"accounts\":[0,1],\"data\":\"11119ExAoTptm6xKUTUcw2V69MKmyEdDmRins3j3bK43o9nHeiYUtSiaT9pc292PhNQvxj\",\"stackHeight\":2},{\"programIdIndex\":6,\"accounts\":[1],\"data\":\"P\",\"stackHeight\":2},{\"programIdIndex\":6,\"accounts\":[1,2],\"data\":\"6amfAddu5G7hSH6jk8gnbMBZwHBLQ2daJuEZboW5qM7mM\",\"stackHeight\":2}]}],\"logMessages\":[\"Program ComputeBudget111111111111111111111111111111 invoke [1]\",\"Program ComputeBudget111111111111111111111111111111 success\",\"Program ComputeBudget111111111111111111111111111111 invoke [1]\",\"Program ComputeBudget111111111111111111111111111111 success\",\"Program ATokenGPvbdGVxr1b2hvZbsiqW5xWH25efTNsLJA8knL invoke [1]\",\"Program log: Create\",\"Program TokenzQdBNbLqP5VEhdkAS6EPFLC1PHnBqCXEpPxuEb invoke [2]\",\"Program log: Instruction: GetAccountDataSize\",\"Program TokenzQdBNbLqP5VEhdkAS6EPFLC1PHnBqCXEpPxuEb consumed 1436 of 189922 compute units\",\"Program return: TokenzQdBNbLqP5VEhdkAS6EPFLC1PHnBqCXEpPxuEb qgAAAAAAAAA=\",\"Program TokenzQdBNbLqP5VEhdkAS6EPFLC1PHnBqCXEpPxuEb success\",\"Program 11111111111111111111111111111111 invoke [2]\",\"Program 11111111111111111111111111111111 success\",\"Program log: Initialize the associated token account\",\"Program TokenzQdBNbLqP5VEhdkAS6EPFLC1PHnBqCXEpPxuEb invoke [2]\",\"Program log: Instruction: InitializeImmutableOwner\",\"Program TokenzQdBNbLqP5VEhdkAS6EPFLC1PHnBqCXEpPxuEb consumed 527 of 183556 compute units\",\"Program TokenzQdBNbLqP5VEhdkAS6EPFLC1PHnBqCXEpPxuEb success\",\"Program TokenzQdBNbLqP5VEhdkAS6EPFLC1PHnBqCXEpPxuEb invoke [2]\",\"Program log: Instruction: InitializeAccount3\",\"Program TokenzQdBNbLqP5VEhdkAS6EPFLC1PHnBqCXEpPxuEb consumed 2163 of 180642 compute units\",\"Program TokenzQdBNbLqP5VEhdkAS6EPFLC1PHnBqCXEpPxuEb success\",\"Program ATokenGPvbdGVxr1b2hvZbsiqW5xWH25efTNsLJA8knL consumed 21504 of 199700 compute units\",\"Program ATokenGPvbdGVxr1b2hvZbsiqW5xWH25efTNsLJA8knL success\",\"Program TokenzQdBNbLqP5VEhdkAS6EPFLC1PHnBqCXEpPxuEb invoke [1]\",\"Program log: Instruction: MintTo\",\"Program TokenzQdBNbLqP5VEhdkAS6EPFLC1PHnBqCXEpPxuEb consumed 1654 of 178196 compute units\",\"Program TokenzQdBNbLqP5VEhdkAS6EPFLC1PHnBqCXEpPxuEb success\"],\"preTokenBalances\":[],\"postTokenBalances\":[{\"accountIndex\":1,\"mint\":\"9g2hKSbirKHAuWQ9bA3HvG7JnmarKVRn7AsnHRSYqPGX\",\"uiTokenAmount\":{\"uiAmount\":1000000.0,\"decimals\":9,\"amount\":\"1000000000000000\",\"uiAmountString\":\"1000000\"},\"owner\":\"EdxVhSNGyGRc1ceE3XbFsD8YnHkactJcCKPkJvQ23yLP\",\"programId\":\"TokenzQdBNbLqP5VEhdkAS6EPFLC1PHnBqCXEpPxuEb\"}],\"rewards\":[],\"loadedAddresses\":{\"writable\":[],\"readonly\":[]},\"computeUnitsConsumed\":23458},\"version\":\"legacy\",\"blockTime\":1749629695}\n",
      "Transaction: 27Kj3Umhezpqg7BLa5SXPqX74GDRCuzURFKc3n5aUSXzddBDwivs5WHkd8ULepzTMTxtiPKcVQY693RueKoYbGJD\n",
      "27Kj3Umhezpqg7BLa5SXPqX74GDRCuzURFKc3n5aUSXzddBDwivs5WHkd8ULepzTMTxtiPKcVQY693RueKoYbGJD ix 3: 070080c6a47e8d0300\n"
     ]
    }
   ],
   "source": [
    "tx = getTx(\"dev_rpc\", \"27Kj3Umhezpqg7BLa5SXPqX74GDRCuzURFKc3n5aUSXzddBDwivs5WHkd8ULepzTMTxtiPKcVQY693RueKoYbGJD\")\n",
    "print(tx.value.to_json())\n",
    "index = find_program_index(tx, \"TokenzQdBNbLqP5VEhdkAS6EPFLC1PHnBqCXEpPxuEb\")\n",
    "if index != -1:\n",
    "    print(f\"Transaction: 27Kj3Umhezpqg7BLa5SXPqX74GDRCuzURFKc3n5aUSXzddBDwivs5WHkd8ULepzTMTxtiPKcVQY693RueKoYbGJD\")\n",
    "    PrintTxByProgramId(index, tx)"
   ]
  },
  {
   "cell_type": "code",
   "execution_count": 11,
   "id": "00f6e15a",
   "metadata": {},
   "outputs": [
    {
     "name": "stdout",
     "output_type": "stream",
     "text": [
      "Container: \n",
      "    decimals = 9\n",
      "    mintAuthority = EdxVhSNGyGRc1ceE3XbFsD8YnHkactJcCKPkJvQ23yLP\n",
      "    freezeAuthority = None\n"
     ]
    }
   ],
   "source": [
    "bs = bytes.fromhex(\"0009ca9f965a5af282efe1eea7e104c50da886109214b21edc42b2c201da22186bc4000000000000000000000000000000000000000000000000000000000000000000\")\n",
    "from token2022.instructions import initializeMint\n",
    "obj = initializeMint.layout.parse(bs[1:])\n",
    "print(obj)"
   ]
  },
  {
   "cell_type": "code",
   "execution_count": 13,
   "id": "fc532681",
   "metadata": {},
   "outputs": [
    {
     "name": "stdout",
     "output_type": "stream",
     "text": [
      "2rLvdMi9MJLZ4FbrkGunRjtnfFDStp91Cv99PNb8A6Seev6dcbqJ6Jv7tZ8MTJYoafYbm9jgdVPDtLCf6R5EMuSZ ix 1: 000681272e65eb2e1536df0294d2ff7c5d365e2b2907a98fe915febe1b6af5ea2eca0181272e65eb2e1536df0294d2ff7c5d365e2b2907a98fe915febe1b6af5ea2eca\n"
     ]
    }
   ],
   "source": [
    "tx=getTx(\"dev_rpc\", \"2rLvdMi9MJLZ4FbrkGunRjtnfFDStp91Cv99PNb8A6Seev6dcbqJ6Jv7tZ8MTJYoafYbm9jgdVPDtLCf6R5EMuSZ\")\n",
    "index = find_program_index(tx, \"TokenzQdBNbLqP5VEhdkAS6EPFLC1PHnBqCXEpPxuEb\")\n",
    "if index != -1:\n",
    "    PrintTxByProgramId(index, tx)"
   ]
  },
  {
   "cell_type": "code",
   "execution_count": 2,
   "id": "6e0eb435",
   "metadata": {},
   "outputs": [
    {
     "name": "stdout",
     "output_type": "stream",
     "text": [
      "Container: \n",
      "    decimals = 6\n",
      "    mintAuthority = 9hAFDX7ZinYwftpHvTWQVLJ4usAUdmExVZFVmeJCQj4D\n",
      "    freezeAuthority = 9hAFDX7ZinYwftpHvTWQVLJ4usAUdmExVZFVmeJCQj4D\n"
     ]
    }
   ],
   "source": [
    "bs = bytes.fromhex(\"000681272e65eb2e1536df0294d2ff7c5d365e2b2907a98fe915febe1b6af5ea2eca0181272e65eb2e1536df0294d2ff7c5d365e2b2907a98fe915febe1b6af5ea2eca\")\n",
    "from token2022.instructions import initializeMint\n",
    "obj = initializeMint.layout.parse(bs[1:])\n",
    "print(obj)"
   ]
  },
  {
   "cell_type": "code",
   "execution_count": 3,
   "id": "296575d0",
   "metadata": {},
   "outputs": [
    {
     "name": "stdout",
     "output_type": "stream",
     "text": [
      "Global Account: Mint(mintAuthority=Pubkey(\n",
      "    9hAFDX7ZinYwftpHvTWQVLJ4usAUdmExVZFVmeJCQj4D,\n",
      "), supply=0, decimals=6, isInitialized=True, freezeAuthority=Pubkey(\n",
      "    9hAFDX7ZinYwftpHvTWQVLJ4usAUdmExVZFVmeJCQj4D,\n",
      "), extensions=None)\n"
     ]
    }
   ],
   "source": [
    "from token2022.accounts import mint\n",
    "from solana.rpc.async_api import AsyncClient\n",
    "client = AsyncClient(os.getenv(\"dev_rpc\"))\n",
    "mint_account = await mint.Mint.fetch(client, Pubkey.from_string(\"7kGVtsYNbzNDodW5ecLTBFKfMbGaKFq4RiQQ8sDRkix7\"))\n",
    "print(f\"Global Account: {mint_account}\")"
   ]
  }
 ],
 "metadata": {
  "kernelspec": {
   "display_name": ".venv",
   "language": "python",
   "name": "python3"
  },
  "language_info": {
   "codemirror_mode": {
    "name": "ipython",
    "version": 3
   },
   "file_extension": ".py",
   "mimetype": "text/x-python",
   "name": "python",
   "nbconvert_exporter": "python",
   "pygments_lexer": "ipython3",
   "version": "3.13.2"
  }
 },
 "nbformat": 4,
 "nbformat_minor": 5
}
