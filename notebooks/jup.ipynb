{
 "cells": [
  {
   "cell_type": "code",
   "execution_count": 1,
   "id": "24440e34",
   "metadata": {},
   "outputs": [
    {
     "name": "stdout",
     "output_type": "stream",
     "text": [
      "{\"transaction\":{\"signatures\":[\"2vzpAeWwQSZoV216EHyQaA6dP1j2MKxBSR8KpErZT1jDhWHEZP1Hwp6syRwTMvuX2Lk5bMNXETPE3DfFBtmJdQXP\"],\"message\":{\"header\":{\"numRequiredSignatures\":1,\"numReadonlySignedAccounts\":0,\"numReadonlyUnsignedAccounts\":4},\"accountKeys\":[\"BoDh1EkD3xTTEP4Dasav4MoX1WrKVbKF8HSa1n2Jf9ix\",\"GGFkAa3fsSRcJiGgRYLwgj7GxcYS155ZBfPtPADdh4q\",\"2UVKTWscyoiFcS3i4APyiP8W4R1rGbxwkv2ZAm5q8CRg\",\"63PUeLjJjBCX1nvkruhPJygm7oSJyRgEdrtyhmvJ122H\",\"77Z3MdsM2qBpeuvgRXY8XRjjX1C3HFNULv57vR36b9tx\",\"AoJhhwTvjpvhAJpu3e5DsxBywuLy3Ag6a9LCmp7eV9Et\",\"BrSh7hTiyTG59eNuQiXR1WuDrVTJWJzPWC9o3kVqGxap\",\"ComputeBudget111111111111111111111111111111\",\"JUP6LkbZbjS1jKKwapdHNy74zcZ3tLUZoi5QNyVTaV4\",\"JUPyiwrYJFskUPiHa7hkeR8VUtAeFoSYbKedZNsDvCN\",\"D8cy77BBepLMngZx6ZukaTff5hCt1HrWyKk3Hnd9oitf\"],\"recentBlockhash\":\"4EtByBY6GQZrdjLFVgH171FNSG1TMnUV53qm2JqYBPgb\",\"instructions\":[{\"programIdIndex\":7,\"accounts\":[],\"data\":\"JT6L6j\",\"stackHeight\":null},{\"programIdIndex\":7,\"accounts\":[],\"data\":\"3TSyueSsPjtT\",\"stackHeight\":null},{\"programIdIndex\":8,\"accounts\":[16,0,1,4,8,9,2,10,8,17,0,18,15,1,4,13,12,14,16,3,11,6,5,8],\"data\":\"PrpFmsY4d26dKbdKMZJ1NLDGKuM1SmpFmiRMcH1UVtJTTLFS\",\"stackHeight\":null}],\"addressTableLookups\":[{\"accountKey\":\"BuWMX1xnRX6hQBLPJkEjTikNQbjqtoYQu2udEe2TTtLm\",\"writableIndexes\":[227,231,230,232,235],\"readonlyIndexes\":[1,234,225]}]}},\"meta\":{\"err\":null,\"status\":{\"Ok\":null},\"fee\":24000,\"preBalances\":[380315312,7231720253,2039280,72161280,2039280,72161280,72161280,1,1141440,71111633970,1017968,13641600,12039280,309242090965,32092560,22055652,934087680,1141440,1705200],\"postBalances\":[380291312,7163156376,2039280,72161280,2039280,72161280,72161280,1,1141440,71111633970,1017968,13641600,12039280,309310654842,32092560,22055652,934087680,1141440,1705200],\"innerInstructions\":[{\"index\":2,\"instructions\":[{\"programIdIndex\":17,\"accounts\":[0,18,15,1,4,13,12,14,16,3,11,6,5],\"data\":\"wZRp7wZ3cztKx9M2kLxSLbSeijkbZqg5tLcWNNcmVAFaKDoNW4E92pV6\",\"stackHeight\":2},{\"programIdIndex\":16,\"accounts\":[1,13,0],\"data\":\"3h6CsTPTACd5\",\"stackHeight\":3},{\"programIdIndex\":16,\"accounts\":[12,4,15],\"data\":\"3Tn3sFvj3AUF\",\"stackHeight\":3},{\"programIdIndex\":8,\"accounts\":[10],\"data\":\"QMqFu4fYGGeUEysFnenhAvi1xPm726vLbPnsuyPY5Jr6BfJygEDcWLKrWxu3qzgfNRAXU7RAbzNafJ4bdNR8s1YUrGsTWq5ebGCaGW31qDjnqGuuvs79rBX5Y5P6JEfg9Z6HMSifhC1GqD3JW5D222wQ4LFwtRJ6R5sxa8FFGxSedBu\",\"stackHeight\":2},{\"programIdIndex\":16,\"accounts\":[4,2,0],\"data\":\"3oatCtiHDT83\",\"stackHeight\":2},{\"programIdIndex\":8,\"accounts\":[10],\"data\":\"2qWhKzSZDTHhTkHUC1NYnTgFzcB7DPYTKTMVTJkMaC3t4cKSg3TQ5MpxJgADCwrpUBQcQgh5qgAkGgBDdaLiLuZp6uLRPJUtBXfgaobUafSqXd9Z6vn7AjnJs\",\"stackHeight\":2}]}],\"logMessages\":[\"Program ComputeBudget111111111111111111111111111111 invoke [1]\",\"Program ComputeBudget111111111111111111111111111111 success\",\"Program ComputeBudget111111111111111111111111111111 invoke [1]\",\"Program ComputeBudget111111111111111111111111111111 success\",\"Program JUP6LkbZbjS1jKKwapdHNy74zcZ3tLUZoi5QNyVTaV4 invoke [1]\",\"Program log: Instruction: Route\",\"Program CAMMCzo5YL8w4VFF8KVHrK22GGUsp5VTaW7grrKgrWqK invoke [2]\",\"Program log: Instruction: Swap\",\"Program TokenkegQfeZyiNwAJbNbGKPFXCWuBvf9Ss623VQ5DA invoke [3]\",\"Program log: Instruction: Transfer\",\"Program TokenkegQfeZyiNwAJbNbGKPFXCWuBvf9Ss623VQ5DA consumed 4736 of 49746 compute units\",\"Program TokenkegQfeZyiNwAJbNbGKPFXCWuBvf9Ss623VQ5DA success\",\"Program TokenkegQfeZyiNwAJbNbGKPFXCWuBvf9Ss623VQ5DA invoke [3]\",\"Program log: Instruction: Transfer\",\"Program TokenkegQfeZyiNwAJbNbGKPFXCWuBvf9Ss623VQ5DA consumed 4645 of 42350 compute units\",\"Program TokenkegQfeZyiNwAJbNbGKPFXCWuBvf9Ss623VQ5DA success\",\"Program data: QMbN6CYIceLJewbMINqhRrp6vEdRynPRjTk69IA099m17zfr1ZBnHKBr708Eum5+adtUcdxQfPrzT0NIDFlRnOIfh16d0qSBWtPVuPlPmR5UkD2bTQuTMgRmKE/+W3oQyxzGjZ19R0UD6PXK5b5cgfpaZIi6NQmFDvM0WfnPs1xuL8T09GsWflWbMAEAAAAAAAAAAAAAAAClMxYEAAAAAAAAAAAAAAAAAJsc0PynclLaAQAAAAAAAABh3SfC0AEAAAAAAAAAAAAALjAAAA==\",\"Program CAMMCzo5YL8w4VFF8KVHrK22GGUsp5VTaW7grrKgrWqK consumed 71009 of 103493 compute units\",\"Program CAMMCzo5YL8w4VFF8KVHrK22GGUsp5VTaW7grrKgrWqK success\",\"Program JUP6LkbZbjS1jKKwapdHNy74zcZ3tLUZoi5QNyVTaV4 invoke [2]\",\"Program JUP6LkbZbjS1jKKwapdHNy74zcZ3tLUZoi5QNyVTaV4 consumed 184 of 30752 compute units\",\"Program JUP6LkbZbjS1jKKwapdHNy74zcZ3tLUZoi5QNyVTaV4 success\",\"Program TokenkegQfeZyiNwAJbNbGKPFXCWuBvf9Ss623VQ5DA invoke [2]\",\"Program log: Instruction: Transfer\",\"Program TokenkegQfeZyiNwAJbNbGKPFXCWuBvf9Ss623VQ5DA consumed 4644 of 28275 compute units\",\"Program TokenkegQfeZyiNwAJbNbGKPFXCWuBvf9Ss623VQ5DA success\",\"Program JUP6LkbZbjS1jKKwapdHNy74zcZ3tLUZoi5QNyVTaV4 invoke [2]\",\"Program JUP6LkbZbjS1jKKwapdHNy74zcZ3tLUZoi5QNyVTaV4 consumed 184 of 22130 compute units\",\"Program JUP6LkbZbjS1jKKwapdHNy74zcZ3tLUZoi5QNyVTaV4 success\",\"Program JUP6LkbZbjS1jKKwapdHNy74zcZ3tLUZoi5QNyVTaV4 consumed 88289 of 109438 compute units\",\"Program return: JUP6LkbZbjS1jKKwapdHNy74zcZ3tLUZoi5QNyVTaV4 iZMwAQAAAAA=\",\"Program JUP6LkbZbjS1jKKwapdHNy74zcZ3tLUZoi5QNyVTaV4 success\"],\"preTokenBalances\":[{\"accountIndex\":1,\"mint\":\"So11111111111111111111111111111111111111112\",\"uiTokenAmount\":{\"uiAmount\":7.229679973,\"decimals\":9,\"amount\":\"7229679973\",\"uiAmountString\":\"7.229679973\"},\"owner\":\"BoDh1EkD3xTTEP4Dasav4MoX1WrKVbKF8HSa1n2Jf9ix\",\"programId\":\"TokenkegQfeZyiNwAJbNbGKPFXCWuBvf9Ss623VQ5DA\"},{\"accountIndex\":2,\"mint\":\"JUPyiwrYJFskUPiHa7hkeR8VUtAeFoSYbKedZNsDvCN\",\"uiTokenAmount\":{\"uiAmount\":13.263188,\"decimals\":6,\"amount\":\"13263188\",\"uiAmountString\":\"13.263188\"},\"owner\":\"45ruCyfdRkWpRNGEqWzjCiXRHkZs8WXCLQ67Pnpye7Hp\",\"programId\":\"TokenkegQfeZyiNwAJbNbGKPFXCWuBvf9Ss623VQ5DA\"},{\"accountIndex\":4,\"mint\":\"JUPyiwrYJFskUPiHa7hkeR8VUtAeFoSYbKedZNsDvCN\",\"uiTokenAmount\":{\"uiAmount\":1602.605328,\"decimals\":6,\"amount\":\"1602605328\",\"uiAmountString\":\"1602.605328\"},\"owner\":\"BoDh1EkD3xTTEP4Dasav4MoX1WrKVbKF8HSa1n2Jf9ix\",\"programId\":\"TokenkegQfeZyiNwAJbNbGKPFXCWuBvf9Ss623VQ5DA\"},{\"accountIndex\":12,\"mint\":\"JUPyiwrYJFskUPiHa7hkeR8VUtAeFoSYbKedZNsDvCN\",\"uiTokenAmount\":{\"uiAmount\":685107.322539,\"decimals\":6,\"amount\":\"685107322539\",\"uiAmountString\":\"685107.322539\"},\"owner\":\"EZVkeboWeXygtq8LMyENHyXdF5wpYrtExRNH9UwB1qYw\",\"programId\":\"TokenkegQfeZyiNwAJbNbGKPFXCWuBvf9Ss623VQ5DA\"},{\"accountIndex\":13,\"mint\":\"So11111111111111111111111111111111111111112\",\"uiTokenAmount\":{\"uiAmount\":309.239951684,\"decimals\":9,\"amount\":\"309239951684\",\"uiAmountString\":\"309.239951684\"},\"owner\":\"EZVkeboWeXygtq8LMyENHyXdF5wpYrtExRNH9UwB1qYw\",\"programId\":\"TokenkegQfeZyiNwAJbNbGKPFXCWuBvf9Ss623VQ5DA\"}],\"postTokenBalances\":[{\"accountIndex\":1,\"mint\":\"So11111111111111111111111111111111111111112\",\"uiTokenAmount\":{\"uiAmount\":7.161116096,\"decimals\":9,\"amount\":\"7161116096\",\"uiAmountString\":\"7.161116096\"},\"owner\":\"BoDh1EkD3xTTEP4Dasav4MoX1WrKVbKF8HSa1n2Jf9ix\",\"programId\":\"TokenkegQfeZyiNwAJbNbGKPFXCWuBvf9Ss623VQ5DA\"},{\"accountIndex\":2,\"mint\":\"JUPyiwrYJFskUPiHa7hkeR8VUtAeFoSYbKedZNsDvCN\",\"uiTokenAmount\":{\"uiAmount\":13.265184,\"decimals\":6,\"amount\":\"13265184\",\"uiAmountString\":\"13.265184\"},\"owner\":\"45ruCyfdRkWpRNGEqWzjCiXRHkZs8WXCLQ67Pnpye7Hp\",\"programId\":\"TokenkegQfeZyiNwAJbNbGKPFXCWuBvf9Ss623VQ5DA\"},{\"accountIndex\":4,\"mint\":\"JUPyiwrYJFskUPiHa7hkeR8VUtAeFoSYbKedZNsDvCN\",\"uiTokenAmount\":{\"uiAmount\":1622.566041,\"decimals\":6,\"amount\":\"1622566041\",\"uiAmountString\":\"1622.566041\"},\"owner\":\"BoDh1EkD3xTTEP4Dasav4MoX1WrKVbKF8HSa1n2Jf9ix\",\"programId\":\"TokenkegQfeZyiNwAJbNbGKPFXCWuBvf9Ss623VQ5DA\"},{\"accountIndex\":12,\"mint\":\"JUPyiwrYJFskUPiHa7hkeR8VUtAeFoSYbKedZNsDvCN\",\"uiTokenAmount\":{\"uiAmount\":685087.35983,\"decimals\":6,\"amount\":\"685087359830\",\"uiAmountString\":\"685087.35983\"},\"owner\":\"EZVkeboWeXygtq8LMyENHyXdF5wpYrtExRNH9UwB1qYw\",\"programId\":\"TokenkegQfeZyiNwAJbNbGKPFXCWuBvf9Ss623VQ5DA\"},{\"accountIndex\":13,\"mint\":\"So11111111111111111111111111111111111111112\",\"uiTokenAmount\":{\"uiAmount\":309.308515561,\"decimals\":9,\"amount\":\"309308515561\",\"uiAmountString\":\"309.308515561\"},\"owner\":\"EZVkeboWeXygtq8LMyENHyXdF5wpYrtExRNH9UwB1qYw\",\"programId\":\"TokenkegQfeZyiNwAJbNbGKPFXCWuBvf9Ss623VQ5DA\"}],\"rewards\":[],\"loadedAddresses\":{\"writable\":[\"39pntUnrCpTD1guELfACDR22NMTLDohV3Z3oePAqBDH2\",\"4wVRntu3HmKkRkRfYvLrovv41Tpm6yt66uNWB9TWgZjj\",\"6pkA4kTvKqgiWDrcTVVcJ3N6GszDdK6QC1fxT6GcmEvc\",\"72uc9nXozQS2SKXzdbT115mMxjNeWwUjMoJgwbkN7VMU\",\"EZVkeboWeXygtq8LMyENHyXdF5wpYrtExRNH9UwB1qYw\"],\"readonly\":[\"TokenkegQfeZyiNwAJbNbGKPFXCWuBvf9Ss623VQ5DA\",\"CAMMCzo5YL8w4VFF8KVHrK22GGUsp5VTaW7grrKgrWqK\",\"HfERMT5DRA6C1TAqecrJQFpmkf3wsWTMncqnj3RDg5aw\"]},\"returnData\":{\"programId\":\"JUP6LkbZbjS1jKKwapdHNy74zcZ3tLUZoi5QNyVTaV4\",\"data\":[\"iZMwAQAAAAA=\",\"base64\"]},\"computeUnitsConsumed\":88589},\"version\":0}\n"
     ]
    }
   ],
   "source": [
    "import anchorpy\n",
    "import solana\n",
    "from dotenv import load_dotenv\n",
    "import os\n",
    "from solders.pubkey import Pubkey\n",
    "from utils import find_program_index,getTx\n",
    "import based58\n",
    "import sys\n",
    "current_dir = os.getcwd()\n",
    "parent_dir = os.path.dirname(current_dir)\n",
    "sys.path.append(parent_dir)\n",
    "load_dotenv()\n",
    "tx= getTx(\"2vzpAeWwQSZoV216EHyQaA6dP1j2MKxBSR8KpErZT1jDhWHEZP1Hwp6syRwTMvuX2Lk5bMNXETPE3DfFBtmJdQXP\")\n",
    "print(tx.value.transaction.to_json())"
   ]
  },
  {
   "cell_type": "code",
   "execution_count": 2,
   "id": "07e77ef8",
   "metadata": {},
   "outputs": [
    {
     "name": "stdout",
     "output_type": "stream",
     "text": [
      "Program index: 8\n"
     ]
    }
   ],
   "source": [
    "\n",
    "index = find_program_index(tx,Pubkey.from_string(\"JUP6LkbZbjS1jKKwapdHNy74zcZ3tLUZoi5QNyVTaV4\"))\n",
    "print(f\"Program index: {index}\")"
   ]
  },
  {
   "cell_type": "code",
   "execution_count": 3,
   "id": "9e1783d7",
   "metadata": {},
   "outputs": [
    {
     "name": "stdout",
     "output_type": "stream",
     "text": [
      "Decoded data for instruction 2: e517cb977ae3ad2a010000001a640001a5331604000000008993300100000000050001\n",
      "Parsed instruction 2: Container: \n",
      "    routePlan = ListContainer: \n",
      "        Container: \n",
      "            swap = {'RaydiumClmm': Container()}\n",
      "            percent = 100\n",
      "            inputIndex = 0\n",
      "            outputIndex = 1\n",
      "    inAmount = 68563877\n",
      "    quotedOutAmount = 19960713\n",
      "    slippageBps = 5\n",
      "    platformFeeBps = 1\n",
      "  Step: (0, Container(swap={'RaydiumClmm': Container()}, percent=100, inputIndex=0, outputIndex=1))\n"
     ]
    }
   ],
   "source": [
    "import base64\n",
    "import sys\n",
    "\n",
    "from jup.instructions import route\n",
    "for i, instruction in enumerate(tx.value.transaction.transaction.message.instructions):\n",
    "    if instruction.program_id_index == index:\n",
    "        bindata = based58.b58decode(instruction.data.encode('utf-8')) #//[:8]\n",
    "        print(f\"Decoded data for instruction {i}: {bindata.hex()}\")\n",
    "        o = route.layout.parse(bindata[8:])\n",
    "        print(f\"Parsed instruction {i}: {o}\")\n",
    "        for step in enumerate(o.routePlan):\n",
    "            print(f\"  Step: {step}\")\n",
    "        #evObj = route.layout.from_decoded(ev)\n",
    "\n",
    "        #route_instruction = route.RouteInstruction.from_bytes(decoded_data)\n",
    "        #print(f\"Route instruction: {route_instruction}\")\n",
    "        #print(f\"Route instruction as JSON: {route_instruction.to_json()}\")\n",
    "        #print(f\"Route instruction as base58: {based58.b58encode(route_instruction.to_bytes()).decode('utf-8')}\")"
   ]
  },
  {
   "cell_type": "code",
   "execution_count": 4,
   "id": "4de6d898",
   "metadata": {},
   "outputs": [
    {
     "name": "stdout",
     "output_type": "stream",
     "text": [
      "Decoded data for instruction 2: e517cb977ae3ad2a010000001a640001a5331604000000008993300100000000050001\n",
      "Parsed instruction 2: Container: \n",
      "    routePlan = ListContainer: \n",
      "        Container: \n",
      "            swap = {'RaydiumClmm': Container()}\n",
      "            percent = 100\n",
      "            inputIndex = 0\n",
      "            outputIndex = 1\n",
      "    inAmount = 68563877\n",
      "    quotedOutAmount = 19960713\n",
      "    slippageBps = 5\n",
      "    platformFeeBps = 1\n",
      "  Step: (0, Container(swap={'RaydiumClmm': Container()}, percent=100, inputIndex=0, outputIndex=1))\n"
     ]
    }
   ],
   "source": [
    "bindata = based58.b58decode(\"PrpFmsY4d26dKbdKMZJ1NLDGKuM1SmpFmiRMcH1UVtJTTLFS\".encode('utf-8'))\n",
    "print(f\"Decoded data for instruction {i}: {bindata.hex()}\")\n",
    "o = route.layout.parse(bindata[8:])\n",
    "print(f\"Parsed instruction {i}: {o}\")\n",
    "for step in enumerate(o.routePlan):\n",
    "    print(f\"  Step: {step}\")"
   ]
  },
  {
   "cell_type": "code",
   "execution_count": null,
   "id": "53b1473d",
   "metadata": {},
   "outputs": [
    {
     "ename": "TypeError",
     "evalue": "'RoutePlanStep' object is not iterable",
     "output_type": "error",
     "traceback": [
      "\u001b[31m---------------------------------------------------------------------------\u001b[39m",
      "\u001b[31mTypeError\u001b[39m                                 Traceback (most recent call last)",
      "\u001b[36mCell\u001b[39m\u001b[36m \u001b[39m\u001b[32mIn[6]\u001b[39m\u001b[32m, line 25\u001b[39m\n\u001b[32m      4\u001b[39m args :route.RouteArgs={\n\u001b[32m      5\u001b[39m     \u001b[33m\"\u001b[39m\u001b[33mroutePlan\u001b[39m\u001b[33m\"\u001b[39m: [\n\u001b[32m      6\u001b[39m             RoutePlanStep(RaydiumClmm(),\u001b[32m100\u001b[39m,\u001b[32m0\u001b[39m,\u001b[32m1\u001b[39m),\n\u001b[32m   (...)\u001b[39m\u001b[32m     12\u001b[39m     \u001b[33m\"\u001b[39m\u001b[33mplatformFeeBps\u001b[39m\u001b[33m\"\u001b[39m:\u001b[32m1\u001b[39m,\n\u001b[32m     13\u001b[39m }\n\u001b[32m     14\u001b[39m accounts:route.RouteAccounts={\n\u001b[32m     15\u001b[39m     \u001b[33m\"\u001b[39m\u001b[33mtokenProgram\u001b[39m\u001b[33m\"\u001b[39m:Pubkey.from_string(\u001b[33m\"\u001b[39m\u001b[33m6EF8rrecthR5Dkzon8Nwu78hRvfCKubJ14M5uBEwF6P\u001b[39m\u001b[33m\"\u001b[39m),\n\u001b[32m     16\u001b[39m     \u001b[33m\"\u001b[39m\u001b[33muserTransferAuthority\u001b[39m\u001b[33m\"\u001b[39m:Pubkey.from_string(\u001b[33m\"\u001b[39m\u001b[33m6EF8rrecthR5Dkzon8Nwu78hRvfCKubJ14M5uBEwF6P\u001b[39m\u001b[33m\"\u001b[39m),\n\u001b[32m   (...)\u001b[39m\u001b[32m     23\u001b[39m     \u001b[33m\"\u001b[39m\u001b[33mprogram\u001b[39m\u001b[33m\"\u001b[39m:Pubkey.from_string(\u001b[33m\"\u001b[39m\u001b[33m6EF8rrecthR5Dkzon8Nwu78hRvfCKubJ14M5uBEwF6P\u001b[39m\u001b[33m\"\u001b[39m)\n\u001b[32m     24\u001b[39m }\n\u001b[32m---> \u001b[39m\u001b[32m25\u001b[39m inx = \u001b[43mroute\u001b[49m\u001b[43m.\u001b[49m\u001b[43mRoute\u001b[49m\u001b[43m(\u001b[49m\u001b[43margs\u001b[49m\u001b[43m=\u001b[49m\u001b[43margs\u001b[49m\u001b[43m,\u001b[49m\u001b[43maccounts\u001b[49m\u001b[43m=\u001b[49m\u001b[43maccounts\u001b[49m\u001b[43m)\u001b[49m\n\u001b[32m     26\u001b[39m \u001b[38;5;28mprint\u001b[39m(\u001b[33mf\u001b[39m\u001b[33m\"\u001b[39m\u001b[33mInstruction: \u001b[39m\u001b[38;5;132;01m{\u001b[39;00minx.data.hex()\u001b[38;5;132;01m}\u001b[39;00m\u001b[33m\"\u001b[39m)\n\u001b[32m     27\u001b[39m \u001b[38;5;28mprint\u001b[39m(\u001b[33mf\u001b[39m\u001b[33m\"\u001b[39m\u001b[33mInstruction: \u001b[39m\u001b[38;5;132;01m{\u001b[39;00mbased58.b58encode(inx.data)\u001b[38;5;132;01m}\u001b[39;00m\u001b[33m\"\u001b[39m)\n",
      "\u001b[36mFile \u001b[39m\u001b[32m~/code/pysrc/PyGenIDL001/jup/instructions/route.py:66\u001b[39m, in \u001b[36mRoute\u001b[39m\u001b[34m(args, accounts, program_id, remaining_accounts)\u001b[39m\n\u001b[32m     64\u001b[39m     keys += remaining_accounts\n\u001b[32m     65\u001b[39m identifier = \u001b[33mb\u001b[39m\u001b[33m\"\u001b[39m\u001b[38;5;130;01m\\xe5\u001b[39;00m\u001b[38;5;130;01m\\x17\u001b[39;00m\u001b[38;5;130;01m\\xcb\u001b[39;00m\u001b[38;5;130;01m\\x97\u001b[39;00m\u001b[38;5;130;01m\\x7a\u001b[39;00m\u001b[38;5;130;01m\\xe3\u001b[39;00m\u001b[38;5;130;01m\\xad\u001b[39;00m\u001b[38;5;130;01m\\x2a\u001b[39;00m\u001b[33m\"\u001b[39m\n\u001b[32m---> \u001b[39m\u001b[32m66\u001b[39m encoded_args = \u001b[43mlayout\u001b[49m\u001b[43m.\u001b[49m\u001b[43mbuild\u001b[49m\u001b[43m(\u001b[49m\u001b[43m{\u001b[49m\n\u001b[32m     67\u001b[39m \u001b[43m\u001b[49m\u001b[33;43m\"\u001b[39;49m\u001b[33;43mroutePlan\u001b[39;49m\u001b[33;43m\"\u001b[39;49m\u001b[43m:\u001b[49m\u001b[43margs\u001b[49m\u001b[43m[\u001b[49m\u001b[33;43m\"\u001b[39;49m\u001b[33;43mroutePlan\u001b[39;49m\u001b[33;43m\"\u001b[39;49m\u001b[43m]\u001b[49m\u001b[43m,\u001b[49m\n\u001b[32m     68\u001b[39m \u001b[43m\u001b[49m\u001b[33;43m\"\u001b[39;49m\u001b[33;43minAmount\u001b[39;49m\u001b[33;43m\"\u001b[39;49m\u001b[43m:\u001b[49m\u001b[43margs\u001b[49m\u001b[43m[\u001b[49m\u001b[33;43m\"\u001b[39;49m\u001b[33;43minAmount\u001b[39;49m\u001b[33;43m\"\u001b[39;49m\u001b[43m]\u001b[49m\u001b[43m,\u001b[49m\n\u001b[32m     69\u001b[39m \u001b[43m\u001b[49m\u001b[33;43m\"\u001b[39;49m\u001b[33;43mquotedOutAmount\u001b[39;49m\u001b[33;43m\"\u001b[39;49m\u001b[43m:\u001b[49m\u001b[43margs\u001b[49m\u001b[43m[\u001b[49m\u001b[33;43m\"\u001b[39;49m\u001b[33;43mquotedOutAmount\u001b[39;49m\u001b[33;43m\"\u001b[39;49m\u001b[43m]\u001b[49m\u001b[43m,\u001b[49m\n\u001b[32m     70\u001b[39m \u001b[43m\u001b[49m\u001b[33;43m\"\u001b[39;49m\u001b[33;43mslippageBps\u001b[39;49m\u001b[33;43m\"\u001b[39;49m\u001b[43m:\u001b[49m\u001b[43margs\u001b[49m\u001b[43m[\u001b[49m\u001b[33;43m\"\u001b[39;49m\u001b[33;43mslippageBps\u001b[39;49m\u001b[33;43m\"\u001b[39;49m\u001b[43m]\u001b[49m\u001b[43m,\u001b[49m\n\u001b[32m     71\u001b[39m \u001b[43m\u001b[49m\u001b[33;43m\"\u001b[39;49m\u001b[33;43mplatformFeeBps\u001b[39;49m\u001b[33;43m\"\u001b[39;49m\u001b[43m:\u001b[49m\u001b[43margs\u001b[49m\u001b[43m[\u001b[49m\u001b[33;43m\"\u001b[39;49m\u001b[33;43mplatformFeeBps\u001b[39;49m\u001b[33;43m\"\u001b[39;49m\u001b[43m]\u001b[49m\u001b[43m,\u001b[49m\n\u001b[32m     72\u001b[39m \u001b[43m   \u001b[49m\u001b[43m}\u001b[49m\u001b[43m)\u001b[49m\n\u001b[32m     74\u001b[39m data = identifier + encoded_args\n\u001b[32m     75\u001b[39m \u001b[38;5;28;01mreturn\u001b[39;00m Instruction(program_id,data,keys)\n",
      "\u001b[36mFile \u001b[39m\u001b[32m~/code/pysrc/PyGenIDL001/.venv/lib/python3.13/site-packages/construct/core.py:336\u001b[39m, in \u001b[36mConstruct.build\u001b[39m\u001b[34m(self, obj, **contextkw)\u001b[39m\n\u001b[32m    322\u001b[39m \u001b[38;5;250m\u001b[39m\u001b[33mr\u001b[39m\u001b[33;03m\"\"\"\u001b[39;00m\n\u001b[32m    323\u001b[39m \u001b[33;03mBuild an object in memory (a bytes object).\u001b[39;00m\n\u001b[32m    324\u001b[39m \n\u001b[32m   (...)\u001b[39m\u001b[32m    333\u001b[39m \u001b[33;03m:raises ConstructError: raised for any reason\u001b[39;00m\n\u001b[32m    334\u001b[39m \u001b[33;03m\"\"\"\u001b[39;00m\n\u001b[32m    335\u001b[39m stream = io.BytesIO()\n\u001b[32m--> \u001b[39m\u001b[32m336\u001b[39m \u001b[38;5;28;43mself\u001b[39;49m\u001b[43m.\u001b[49m\u001b[43mbuild_stream\u001b[49m\u001b[43m(\u001b[49m\u001b[43mobj\u001b[49m\u001b[43m,\u001b[49m\u001b[43m \u001b[49m\u001b[43mstream\u001b[49m\u001b[43m,\u001b[49m\u001b[43m \u001b[49m\u001b[43m*\u001b[49m\u001b[43m*\u001b[49m\u001b[43mcontextkw\u001b[49m\u001b[43m)\u001b[49m\n\u001b[32m    337\u001b[39m \u001b[38;5;28;01mreturn\u001b[39;00m stream.getvalue()\n",
      "\u001b[36mFile \u001b[39m\u001b[32m~/code/pysrc/PyGenIDL001/.venv/lib/python3.13/site-packages/construct/core.py:348\u001b[39m, in \u001b[36mConstruct.build_stream\u001b[39m\u001b[34m(self, obj, stream, **contextkw)\u001b[39m\n\u001b[32m    346\u001b[39m context._sizing = \u001b[38;5;28;01mFalse\u001b[39;00m\n\u001b[32m    347\u001b[39m context._params = context\n\u001b[32m--> \u001b[39m\u001b[32m348\u001b[39m \u001b[38;5;28;43mself\u001b[39;49m\u001b[43m.\u001b[49m\u001b[43m_build\u001b[49m\u001b[43m(\u001b[49m\u001b[43mobj\u001b[49m\u001b[43m,\u001b[49m\u001b[43m \u001b[49m\u001b[43mstream\u001b[49m\u001b[43m,\u001b[49m\u001b[43m \u001b[49m\u001b[43mcontext\u001b[49m\u001b[43m,\u001b[49m\u001b[43m \u001b[49m\u001b[33;43m\"\u001b[39;49m\u001b[33;43m(building)\u001b[39;49m\u001b[33;43m\"\u001b[39;49m\u001b[43m)\u001b[49m\n",
      "\u001b[36mFile \u001b[39m\u001b[32m~/code/pysrc/PyGenIDL001/.venv/lib/python3.13/site-packages/construct/core.py:2144\u001b[39m, in \u001b[36mStruct._build\u001b[39m\u001b[34m(self, obj, stream, context, path)\u001b[39m\n\u001b[32m   2141\u001b[39m \u001b[38;5;28;01mif\u001b[39;00m sc.name:\n\u001b[32m   2142\u001b[39m     context[sc.name] = subobj\n\u001b[32m-> \u001b[39m\u001b[32m2144\u001b[39m buildret = \u001b[43msc\u001b[49m\u001b[43m.\u001b[49m\u001b[43m_build\u001b[49m\u001b[43m(\u001b[49m\u001b[43msubobj\u001b[49m\u001b[43m,\u001b[49m\u001b[43m \u001b[49m\u001b[43mstream\u001b[49m\u001b[43m,\u001b[49m\u001b[43m \u001b[49m\u001b[43mcontext\u001b[49m\u001b[43m,\u001b[49m\u001b[43m \u001b[49m\u001b[43mpath\u001b[49m\u001b[43m)\u001b[49m\n\u001b[32m   2145\u001b[39m \u001b[38;5;28;01mif\u001b[39;00m sc.name:\n\u001b[32m   2146\u001b[39m     context[sc.name] = buildret\n",
      "\u001b[36mFile \u001b[39m\u001b[32m~/code/pysrc/PyGenIDL001/.venv/lib/python3.13/site-packages/construct/core.py:2657\u001b[39m, in \u001b[36mRenamed._build\u001b[39m\u001b[34m(self, obj, stream, context, path)\u001b[39m\n\u001b[32m   2655\u001b[39m \u001b[38;5;28;01mdef\u001b[39;00m\u001b[38;5;250m \u001b[39m\u001b[34m_build\u001b[39m(\u001b[38;5;28mself\u001b[39m, obj, stream, context, path):\n\u001b[32m   2656\u001b[39m     path += \u001b[33m\"\u001b[39m\u001b[33m -> \u001b[39m\u001b[38;5;132;01m%s\u001b[39;00m\u001b[33m\"\u001b[39m % (\u001b[38;5;28mself\u001b[39m.name,)\n\u001b[32m-> \u001b[39m\u001b[32m2657\u001b[39m     \u001b[38;5;28;01mreturn\u001b[39;00m \u001b[38;5;28;43mself\u001b[39;49m\u001b[43m.\u001b[49m\u001b[43msubcon\u001b[49m\u001b[43m.\u001b[49m\u001b[43m_build\u001b[49m\u001b[43m(\u001b[49m\u001b[43mobj\u001b[49m\u001b[43m,\u001b[49m\u001b[43m \u001b[49m\u001b[43mstream\u001b[49m\u001b[43m,\u001b[49m\u001b[43m \u001b[49m\u001b[43mcontext\u001b[49m\u001b[43m,\u001b[49m\u001b[43m \u001b[49m\u001b[43mpath\u001b[49m\u001b[43m)\u001b[49m\n",
      "\u001b[36mFile \u001b[39m\u001b[32m~/code/pysrc/PyGenIDL001/.venv/lib/python3.13/site-packages/construct/core.py:3129\u001b[39m, in \u001b[36mFocusedSeq._build\u001b[39m\u001b[34m(self, obj, stream, context, path)\u001b[39m\n\u001b[32m   3127\u001b[39m context[parsebuildfrom] = obj\n\u001b[32m   3128\u001b[39m \u001b[38;5;28;01mfor\u001b[39;00m i,sc \u001b[38;5;129;01min\u001b[39;00m \u001b[38;5;28menumerate\u001b[39m(\u001b[38;5;28mself\u001b[39m.subcons):\n\u001b[32m-> \u001b[39m\u001b[32m3129\u001b[39m     buildret = \u001b[43msc\u001b[49m\u001b[43m.\u001b[49m\u001b[43m_build\u001b[49m\u001b[43m(\u001b[49m\u001b[43mobj\u001b[49m\u001b[43m \u001b[49m\u001b[38;5;28;43;01mif\u001b[39;49;00m\u001b[43m \u001b[49m\u001b[43msc\u001b[49m\u001b[43m.\u001b[49m\u001b[43mname\u001b[49m\u001b[43m \u001b[49m\u001b[43m==\u001b[49m\u001b[43m \u001b[49m\u001b[43mparsebuildfrom\u001b[49m\u001b[43m \u001b[49m\u001b[38;5;28;43;01melse\u001b[39;49;00m\u001b[43m \u001b[49m\u001b[38;5;28;43;01mNone\u001b[39;49;00m\u001b[43m,\u001b[49m\u001b[43m \u001b[49m\u001b[43mstream\u001b[49m\u001b[43m,\u001b[49m\u001b[43m \u001b[49m\u001b[43mcontext\u001b[49m\u001b[43m,\u001b[49m\u001b[43m \u001b[49m\u001b[43mpath\u001b[49m\u001b[43m)\u001b[49m\n\u001b[32m   3130\u001b[39m     \u001b[38;5;28;01mif\u001b[39;00m sc.name:\n\u001b[32m   3131\u001b[39m         context[sc.name] = buildret\n",
      "\u001b[36mFile \u001b[39m\u001b[32m~/code/pysrc/PyGenIDL001/.venv/lib/python3.13/site-packages/construct/core.py:2657\u001b[39m, in \u001b[36mRenamed._build\u001b[39m\u001b[34m(self, obj, stream, context, path)\u001b[39m\n\u001b[32m   2655\u001b[39m \u001b[38;5;28;01mdef\u001b[39;00m\u001b[38;5;250m \u001b[39m\u001b[34m_build\u001b[39m(\u001b[38;5;28mself\u001b[39m, obj, stream, context, path):\n\u001b[32m   2656\u001b[39m     path += \u001b[33m\"\u001b[39m\u001b[33m -> \u001b[39m\u001b[38;5;132;01m%s\u001b[39;00m\u001b[33m\"\u001b[39m % (\u001b[38;5;28mself\u001b[39m.name,)\n\u001b[32m-> \u001b[39m\u001b[32m2657\u001b[39m     \u001b[38;5;28;01mreturn\u001b[39;00m \u001b[38;5;28;43mself\u001b[39;49m\u001b[43m.\u001b[49m\u001b[43msubcon\u001b[49m\u001b[43m.\u001b[49m\u001b[43m_build\u001b[49m\u001b[43m(\u001b[49m\u001b[43mobj\u001b[49m\u001b[43m,\u001b[49m\u001b[43m \u001b[49m\u001b[43mstream\u001b[49m\u001b[43m,\u001b[49m\u001b[43m \u001b[49m\u001b[43mcontext\u001b[49m\u001b[43m,\u001b[49m\u001b[43m \u001b[49m\u001b[43mpath\u001b[49m\u001b[43m)\u001b[49m\n",
      "\u001b[36mFile \u001b[39m\u001b[32m~/code/pysrc/PyGenIDL001/.venv/lib/python3.13/site-packages/construct/core.py:2428\u001b[39m, in \u001b[36mArray._build\u001b[39m\u001b[34m(self, obj, stream, context, path)\u001b[39m\n\u001b[32m   2426\u001b[39m \u001b[38;5;28;01mfor\u001b[39;00m i,e \u001b[38;5;129;01min\u001b[39;00m \u001b[38;5;28menumerate\u001b[39m(obj):\n\u001b[32m   2427\u001b[39m     context._index = i\n\u001b[32m-> \u001b[39m\u001b[32m2428\u001b[39m     buildret = \u001b[38;5;28;43mself\u001b[39;49m\u001b[43m.\u001b[49m\u001b[43msubcon\u001b[49m\u001b[43m.\u001b[49m\u001b[43m_build\u001b[49m\u001b[43m(\u001b[49m\u001b[43me\u001b[49m\u001b[43m,\u001b[49m\u001b[43m \u001b[49m\u001b[43mstream\u001b[49m\u001b[43m,\u001b[49m\u001b[43m \u001b[49m\u001b[43mcontext\u001b[49m\u001b[43m,\u001b[49m\u001b[43m \u001b[49m\u001b[43mpath\u001b[49m\u001b[43m)\u001b[49m\n\u001b[32m   2429\u001b[39m     \u001b[38;5;28;01mif\u001b[39;00m \u001b[38;5;129;01mnot\u001b[39;00m discard:\n\u001b[32m   2430\u001b[39m         retlist.append(buildret)\n",
      "\u001b[36mFile \u001b[39m\u001b[32m~/code/pysrc/PyGenIDL001/.venv/lib/python3.13/site-packages/construct/core.py:2133\u001b[39m, in \u001b[36mStruct._build\u001b[39m\u001b[34m(self, obj, stream, context, path)\u001b[39m\n\u001b[32m   2131\u001b[39m context = Container(_ = context, _params = context._params, _root = \u001b[38;5;28;01mNone\u001b[39;00m, _parsing = context._parsing, _building = context._building, _sizing = context._sizing, _subcons = \u001b[38;5;28mself\u001b[39m._subcons, _io = stream, _index = context.get(\u001b[33m\"\u001b[39m\u001b[33m_index\u001b[39m\u001b[33m\"\u001b[39m, \u001b[38;5;28;01mNone\u001b[39;00m))\n\u001b[32m   2132\u001b[39m context._root = context._.get(\u001b[33m\"\u001b[39m\u001b[33m_root\u001b[39m\u001b[33m\"\u001b[39m, context)\n\u001b[32m-> \u001b[39m\u001b[32m2133\u001b[39m \u001b[43mcontext\u001b[49m\u001b[43m.\u001b[49m\u001b[43mupdate\u001b[49m\u001b[43m(\u001b[49m\u001b[43mobj\u001b[49m\u001b[43m)\u001b[49m\n\u001b[32m   2134\u001b[39m \u001b[38;5;28;01mfor\u001b[39;00m sc \u001b[38;5;129;01min\u001b[39;00m \u001b[38;5;28mself\u001b[39m.subcons:\n\u001b[32m   2135\u001b[39m     \u001b[38;5;28;01mtry\u001b[39;00m:\n",
      "\u001b[36mFile \u001b[39m\u001b[32m~/code/pysrc/PyGenIDL001/.venv/lib/python3.13/site-packages/construct/lib/containers.py:119\u001b[39m, in \u001b[36mContainer.update\u001b[39m\u001b[34m(self, seqordict)\u001b[39m\n\u001b[32m    117\u001b[39m \u001b[38;5;28;01mif\u001b[39;00m \u001b[38;5;28misinstance\u001b[39m(seqordict, \u001b[38;5;28mdict\u001b[39m):\n\u001b[32m    118\u001b[39m     seqordict = seqordict.items()\n\u001b[32m--> \u001b[39m\u001b[32m119\u001b[39m \u001b[43m\u001b[49m\u001b[38;5;28;43;01mfor\u001b[39;49;00m\u001b[43m \u001b[49m\u001b[43mk\u001b[49m\u001b[43m,\u001b[49m\u001b[43mv\u001b[49m\u001b[43m \u001b[49m\u001b[38;5;129;43;01min\u001b[39;49;00m\u001b[43m \u001b[49m\u001b[43mseqordict\u001b[49m\u001b[43m:\u001b[49m\n\u001b[32m    120\u001b[39m \u001b[43m    \u001b[49m\u001b[38;5;28;43mself\u001b[39;49m\u001b[43m[\u001b[49m\u001b[43mk\u001b[49m\u001b[43m]\u001b[49m\u001b[43m \u001b[49m\u001b[43m=\u001b[49m\u001b[43m \u001b[49m\u001b[43mv\u001b[49m\n",
      "\u001b[31mTypeError\u001b[39m: 'RoutePlanStep' object is not iterable"
     ]
    }
   ],
   "source": [
    "from jup.instructions import route\n",
    "from jup.types.swap import RaydiumClmm\n",
    "from jup.types.routePlanStep import RoutePlanStep\n",
    "args :route.RouteArgs={\n",
    "    \"routePlan\": [\n",
    "            RoutePlanStep(RaydiumClmm(),100,0,1),\n",
    "    ],\n",
    "    \"inAmount\":68563877,\n",
    "    'quotedOutAmount':19960713,\n",
    "    \"slippageBps\":5,\n",
    "    \"platformFeeBps\":1,\n",
    "}\n",
    "accounts:route.RouteAccounts={\n",
    "    \"tokenProgram\":Pubkey.from_string(\"6EF8rrecthR5Dkzon8Nwu78hRvfCKubJ14M5uBEwF6P\"),\n",
    "    \"userTransferAuthority\":Pubkey.from_string(\"6EF8rrecthR5Dkzon8Nwu78hRvfCKubJ14M5uBEwF6P\"),\n",
    "    \"userSourceTokenAccount\":Pubkey.from_string(\"6EF8rrecthR5Dkzon8Nwu78hRvfCKubJ14M5uBEwF6P\"),\n",
    "    \"userDestinationTokenAccount\":Pubkey.from_string(\"6EF8rrecthR5Dkzon8Nwu78hRvfCKubJ14M5uBEwF6P\"),\n",
    "    \"destinationTokenAccount\":Pubkey.from_string(\"6EF8rrecthR5Dkzon8Nwu78hRvfCKubJ14M5uBEwF6P\"),\n",
    "    \"destinationMint\":Pubkey.from_string(\"6EF8rrecthR5Dkzon8Nwu78hRvfCKubJ14M5uBEwF6P\"),\n",
    "    \"platformFeeAccount\":Pubkey.from_string(\"6EF8rrecthR5Dkzon8Nwu78hRvfCKubJ14M5uBEwF6P\"),\n",
    "    \"eventAuthority\":Pubkey.from_string(\"6EF8rrecthR5Dkzon8Nwu78hRvfCKubJ14M5uBEwF6P\"),\n",
    "    \"program\":Pubkey.from_string(\"6EF8rrecthR5Dkzon8Nwu78hRvfCKubJ14M5uBEwF6P\")\n",
    "}\n",
    "inx = route.Route(args=args,accounts=accounts)\n",
    "print(f\"Instruction: {inx.data.hex()}\")\n",
    "print(f\"Instruction: {based58.b58encode(inx.data)}\")"
   ]
  }
 ],
 "metadata": {
  "kernelspec": {
   "display_name": ".venv",
   "language": "python",
   "name": "python3"
  },
  "language_info": {
   "codemirror_mode": {
    "name": "ipython",
    "version": 3
   },
   "file_extension": ".py",
   "mimetype": "text/x-python",
   "name": "python",
   "nbconvert_exporter": "python",
   "pygments_lexer": "ipython3",
   "version": "3.13.1"
  }
 },
 "nbformat": 4,
 "nbformat_minor": 5
}
