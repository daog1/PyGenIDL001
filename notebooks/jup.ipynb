{
 "cells": [
  {
   "cell_type": "code",
   "execution_count": 1,
   "id": "24440e34",
   "metadata": {},
   "outputs": [
    {
     "name": "stdout",
     "output_type": "stream",
     "text": [
      "{\"transaction\":{\"signatures\":[\"2vzpAeWwQSZoV216EHyQaA6dP1j2MKxBSR8KpErZT1jDhWHEZP1Hwp6syRwTMvuX2Lk5bMNXETPE3DfFBtmJdQXP\"],\"message\":{\"header\":{\"numRequiredSignatures\":1,\"numReadonlySignedAccounts\":0,\"numReadonlyUnsignedAccounts\":4},\"accountKeys\":[\"BoDh1EkD3xTTEP4Dasav4MoX1WrKVbKF8HSa1n2Jf9ix\",\"GGFkAa3fsSRcJiGgRYLwgj7GxcYS155ZBfPtPADdh4q\",\"2UVKTWscyoiFcS3i4APyiP8W4R1rGbxwkv2ZAm5q8CRg\",\"63PUeLjJjBCX1nvkruhPJygm7oSJyRgEdrtyhmvJ122H\",\"77Z3MdsM2qBpeuvgRXY8XRjjX1C3HFNULv57vR36b9tx\",\"AoJhhwTvjpvhAJpu3e5DsxBywuLy3Ag6a9LCmp7eV9Et\",\"BrSh7hTiyTG59eNuQiXR1WuDrVTJWJzPWC9o3kVqGxap\",\"ComputeBudget111111111111111111111111111111\",\"JUP6LkbZbjS1jKKwapdHNy74zcZ3tLUZoi5QNyVTaV4\",\"JUPyiwrYJFskUPiHa7hkeR8VUtAeFoSYbKedZNsDvCN\",\"D8cy77BBepLMngZx6ZukaTff5hCt1HrWyKk3Hnd9oitf\"],\"recentBlockhash\":\"4EtByBY6GQZrdjLFVgH171FNSG1TMnUV53qm2JqYBPgb\",\"instructions\":[{\"programIdIndex\":7,\"accounts\":[],\"data\":\"JT6L6j\",\"stackHeight\":null},{\"programIdIndex\":7,\"accounts\":[],\"data\":\"3TSyueSsPjtT\",\"stackHeight\":null},{\"programIdIndex\":8,\"accounts\":[16,0,1,4,8,9,2,10,8,17,0,18,15,1,4,13,12,14,16,3,11,6,5,8],\"data\":\"PrpFmsY4d26dKbdKMZJ1NLDGKuM1SmpFmiRMcH1UVtJTTLFS\",\"stackHeight\":null}],\"addressTableLookups\":[{\"accountKey\":\"BuWMX1xnRX6hQBLPJkEjTikNQbjqtoYQu2udEe2TTtLm\",\"writableIndexes\":[227,231,230,232,235],\"readonlyIndexes\":[1,234,225]}]}},\"meta\":{\"err\":null,\"status\":{\"Ok\":null},\"fee\":24000,\"preBalances\":[380315312,7231720253,2039280,72161280,2039280,72161280,72161280,1,1141440,71111633970,1017968,13641600,12039280,309242090965,32092560,22055652,934087680,1141440,1705200],\"postBalances\":[380291312,7163156376,2039280,72161280,2039280,72161280,72161280,1,1141440,71111633970,1017968,13641600,12039280,309310654842,32092560,22055652,934087680,1141440,1705200],\"innerInstructions\":[{\"index\":2,\"instructions\":[{\"programIdIndex\":17,\"accounts\":[0,18,15,1,4,13,12,14,16,3,11,6,5],\"data\":\"wZRp7wZ3cztKx9M2kLxSLbSeijkbZqg5tLcWNNcmVAFaKDoNW4E92pV6\",\"stackHeight\":2},{\"programIdIndex\":16,\"accounts\":[1,13,0],\"data\":\"3h6CsTPTACd5\",\"stackHeight\":3},{\"programIdIndex\":16,\"accounts\":[12,4,15],\"data\":\"3Tn3sFvj3AUF\",\"stackHeight\":3},{\"programIdIndex\":8,\"accounts\":[10],\"data\":\"QMqFu4fYGGeUEysFnenhAvi1xPm726vLbPnsuyPY5Jr6BfJygEDcWLKrWxu3qzgfNRAXU7RAbzNafJ4bdNR8s1YUrGsTWq5ebGCaGW31qDjnqGuuvs79rBX5Y5P6JEfg9Z6HMSifhC1GqD3JW5D222wQ4LFwtRJ6R5sxa8FFGxSedBu\",\"stackHeight\":2},{\"programIdIndex\":16,\"accounts\":[4,2,0],\"data\":\"3oatCtiHDT83\",\"stackHeight\":2},{\"programIdIndex\":8,\"accounts\":[10],\"data\":\"2qWhKzSZDTHhTkHUC1NYnTgFzcB7DPYTKTMVTJkMaC3t4cKSg3TQ5MpxJgADCwrpUBQcQgh5qgAkGgBDdaLiLuZp6uLRPJUtBXfgaobUafSqXd9Z6vn7AjnJs\",\"stackHeight\":2}]}],\"logMessages\":[\"Program ComputeBudget111111111111111111111111111111 invoke [1]\",\"Program ComputeBudget111111111111111111111111111111 success\",\"Program ComputeBudget111111111111111111111111111111 invoke [1]\",\"Program ComputeBudget111111111111111111111111111111 success\",\"Program JUP6LkbZbjS1jKKwapdHNy74zcZ3tLUZoi5QNyVTaV4 invoke [1]\",\"Program log: Instruction: Route\",\"Program CAMMCzo5YL8w4VFF8KVHrK22GGUsp5VTaW7grrKgrWqK invoke [2]\",\"Program log: Instruction: Swap\",\"Program TokenkegQfeZyiNwAJbNbGKPFXCWuBvf9Ss623VQ5DA invoke [3]\",\"Program log: Instruction: Transfer\",\"Program TokenkegQfeZyiNwAJbNbGKPFXCWuBvf9Ss623VQ5DA consumed 4736 of 49746 compute units\",\"Program TokenkegQfeZyiNwAJbNbGKPFXCWuBvf9Ss623VQ5DA success\",\"Program TokenkegQfeZyiNwAJbNbGKPFXCWuBvf9Ss623VQ5DA invoke [3]\",\"Program log: Instruction: Transfer\",\"Program TokenkegQfeZyiNwAJbNbGKPFXCWuBvf9Ss623VQ5DA consumed 4645 of 42350 compute units\",\"Program TokenkegQfeZyiNwAJbNbGKPFXCWuBvf9Ss623VQ5DA success\",\"Program data: QMbN6CYIceLJewbMINqhRrp6vEdRynPRjTk69IA099m17zfr1ZBnHKBr708Eum5+adtUcdxQfPrzT0NIDFlRnOIfh16d0qSBWtPVuPlPmR5UkD2bTQuTMgRmKE/+W3oQyxzGjZ19R0UD6PXK5b5cgfpaZIi6NQmFDvM0WfnPs1xuL8T09GsWflWbMAEAAAAAAAAAAAAAAAClMxYEAAAAAAAAAAAAAAAAAJsc0PynclLaAQAAAAAAAABh3SfC0AEAAAAAAAAAAAAALjAAAA==\",\"Program CAMMCzo5YL8w4VFF8KVHrK22GGUsp5VTaW7grrKgrWqK consumed 71009 of 103493 compute units\",\"Program CAMMCzo5YL8w4VFF8KVHrK22GGUsp5VTaW7grrKgrWqK success\",\"Program JUP6LkbZbjS1jKKwapdHNy74zcZ3tLUZoi5QNyVTaV4 invoke [2]\",\"Program JUP6LkbZbjS1jKKwapdHNy74zcZ3tLUZoi5QNyVTaV4 consumed 184 of 30752 compute units\",\"Program JUP6LkbZbjS1jKKwapdHNy74zcZ3tLUZoi5QNyVTaV4 success\",\"Program TokenkegQfeZyiNwAJbNbGKPFXCWuBvf9Ss623VQ5DA invoke [2]\",\"Program log: Instruction: Transfer\",\"Program TokenkegQfeZyiNwAJbNbGKPFXCWuBvf9Ss623VQ5DA consumed 4644 of 28275 compute units\",\"Program TokenkegQfeZyiNwAJbNbGKPFXCWuBvf9Ss623VQ5DA success\",\"Program JUP6LkbZbjS1jKKwapdHNy74zcZ3tLUZoi5QNyVTaV4 invoke [2]\",\"Program JUP6LkbZbjS1jKKwapdHNy74zcZ3tLUZoi5QNyVTaV4 consumed 184 of 22130 compute units\",\"Program JUP6LkbZbjS1jKKwapdHNy74zcZ3tLUZoi5QNyVTaV4 success\",\"Program JUP6LkbZbjS1jKKwapdHNy74zcZ3tLUZoi5QNyVTaV4 consumed 88289 of 109438 compute units\",\"Program return: JUP6LkbZbjS1jKKwapdHNy74zcZ3tLUZoi5QNyVTaV4 iZMwAQAAAAA=\",\"Program JUP6LkbZbjS1jKKwapdHNy74zcZ3tLUZoi5QNyVTaV4 success\"],\"preTokenBalances\":[{\"accountIndex\":1,\"mint\":\"So11111111111111111111111111111111111111112\",\"uiTokenAmount\":{\"uiAmount\":7.229679973,\"decimals\":9,\"amount\":\"7229679973\",\"uiAmountString\":\"7.229679973\"},\"owner\":\"BoDh1EkD3xTTEP4Dasav4MoX1WrKVbKF8HSa1n2Jf9ix\",\"programId\":\"TokenkegQfeZyiNwAJbNbGKPFXCWuBvf9Ss623VQ5DA\"},{\"accountIndex\":2,\"mint\":\"JUPyiwrYJFskUPiHa7hkeR8VUtAeFoSYbKedZNsDvCN\",\"uiTokenAmount\":{\"uiAmount\":13.263188,\"decimals\":6,\"amount\":\"13263188\",\"uiAmountString\":\"13.263188\"},\"owner\":\"45ruCyfdRkWpRNGEqWzjCiXRHkZs8WXCLQ67Pnpye7Hp\",\"programId\":\"TokenkegQfeZyiNwAJbNbGKPFXCWuBvf9Ss623VQ5DA\"},{\"accountIndex\":4,\"mint\":\"JUPyiwrYJFskUPiHa7hkeR8VUtAeFoSYbKedZNsDvCN\",\"uiTokenAmount\":{\"uiAmount\":1602.605328,\"decimals\":6,\"amount\":\"1602605328\",\"uiAmountString\":\"1602.605328\"},\"owner\":\"BoDh1EkD3xTTEP4Dasav4MoX1WrKVbKF8HSa1n2Jf9ix\",\"programId\":\"TokenkegQfeZyiNwAJbNbGKPFXCWuBvf9Ss623VQ5DA\"},{\"accountIndex\":12,\"mint\":\"JUPyiwrYJFskUPiHa7hkeR8VUtAeFoSYbKedZNsDvCN\",\"uiTokenAmount\":{\"uiAmount\":685107.322539,\"decimals\":6,\"amount\":\"685107322539\",\"uiAmountString\":\"685107.322539\"},\"owner\":\"EZVkeboWeXygtq8LMyENHyXdF5wpYrtExRNH9UwB1qYw\",\"programId\":\"TokenkegQfeZyiNwAJbNbGKPFXCWuBvf9Ss623VQ5DA\"},{\"accountIndex\":13,\"mint\":\"So11111111111111111111111111111111111111112\",\"uiTokenAmount\":{\"uiAmount\":309.239951684,\"decimals\":9,\"amount\":\"309239951684\",\"uiAmountString\":\"309.239951684\"},\"owner\":\"EZVkeboWeXygtq8LMyENHyXdF5wpYrtExRNH9UwB1qYw\",\"programId\":\"TokenkegQfeZyiNwAJbNbGKPFXCWuBvf9Ss623VQ5DA\"}],\"postTokenBalances\":[{\"accountIndex\":1,\"mint\":\"So11111111111111111111111111111111111111112\",\"uiTokenAmount\":{\"uiAmount\":7.161116096,\"decimals\":9,\"amount\":\"7161116096\",\"uiAmountString\":\"7.161116096\"},\"owner\":\"BoDh1EkD3xTTEP4Dasav4MoX1WrKVbKF8HSa1n2Jf9ix\",\"programId\":\"TokenkegQfeZyiNwAJbNbGKPFXCWuBvf9Ss623VQ5DA\"},{\"accountIndex\":2,\"mint\":\"JUPyiwrYJFskUPiHa7hkeR8VUtAeFoSYbKedZNsDvCN\",\"uiTokenAmount\":{\"uiAmount\":13.265184,\"decimals\":6,\"amount\":\"13265184\",\"uiAmountString\":\"13.265184\"},\"owner\":\"45ruCyfdRkWpRNGEqWzjCiXRHkZs8WXCLQ67Pnpye7Hp\",\"programId\":\"TokenkegQfeZyiNwAJbNbGKPFXCWuBvf9Ss623VQ5DA\"},{\"accountIndex\":4,\"mint\":\"JUPyiwrYJFskUPiHa7hkeR8VUtAeFoSYbKedZNsDvCN\",\"uiTokenAmount\":{\"uiAmount\":1622.566041,\"decimals\":6,\"amount\":\"1622566041\",\"uiAmountString\":\"1622.566041\"},\"owner\":\"BoDh1EkD3xTTEP4Dasav4MoX1WrKVbKF8HSa1n2Jf9ix\",\"programId\":\"TokenkegQfeZyiNwAJbNbGKPFXCWuBvf9Ss623VQ5DA\"},{\"accountIndex\":12,\"mint\":\"JUPyiwrYJFskUPiHa7hkeR8VUtAeFoSYbKedZNsDvCN\",\"uiTokenAmount\":{\"uiAmount\":685087.35983,\"decimals\":6,\"amount\":\"685087359830\",\"uiAmountString\":\"685087.35983\"},\"owner\":\"EZVkeboWeXygtq8LMyENHyXdF5wpYrtExRNH9UwB1qYw\",\"programId\":\"TokenkegQfeZyiNwAJbNbGKPFXCWuBvf9Ss623VQ5DA\"},{\"accountIndex\":13,\"mint\":\"So11111111111111111111111111111111111111112\",\"uiTokenAmount\":{\"uiAmount\":309.308515561,\"decimals\":9,\"amount\":\"309308515561\",\"uiAmountString\":\"309.308515561\"},\"owner\":\"EZVkeboWeXygtq8LMyENHyXdF5wpYrtExRNH9UwB1qYw\",\"programId\":\"TokenkegQfeZyiNwAJbNbGKPFXCWuBvf9Ss623VQ5DA\"}],\"rewards\":[],\"loadedAddresses\":{\"writable\":[\"39pntUnrCpTD1guELfACDR22NMTLDohV3Z3oePAqBDH2\",\"4wVRntu3HmKkRkRfYvLrovv41Tpm6yt66uNWB9TWgZjj\",\"6pkA4kTvKqgiWDrcTVVcJ3N6GszDdK6QC1fxT6GcmEvc\",\"72uc9nXozQS2SKXzdbT115mMxjNeWwUjMoJgwbkN7VMU\",\"EZVkeboWeXygtq8LMyENHyXdF5wpYrtExRNH9UwB1qYw\"],\"readonly\":[\"TokenkegQfeZyiNwAJbNbGKPFXCWuBvf9Ss623VQ5DA\",\"CAMMCzo5YL8w4VFF8KVHrK22GGUsp5VTaW7grrKgrWqK\",\"HfERMT5DRA6C1TAqecrJQFpmkf3wsWTMncqnj3RDg5aw\"]},\"returnData\":{\"programId\":\"JUP6LkbZbjS1jKKwapdHNy74zcZ3tLUZoi5QNyVTaV4\",\"data\":[\"iZMwAQAAAAA=\",\"base64\"]},\"computeUnitsConsumed\":88589},\"version\":0}\n"
     ]
    }
   ],
   "source": [
    "import anchorpy\n",
    "import solana\n",
    "from dotenv import load_dotenv\n",
    "import os\n",
    "from solders.pubkey import Pubkey\n",
    "from utils import find_program_index,getTx\n",
    "import based58\n",
    "import sys\n",
    "current_dir = os.getcwd()\n",
    "parent_dir = os.path.dirname(current_dir)\n",
    "sys.path.append(parent_dir)\n",
    "load_dotenv()\n",
    "tx= getTx(\"2vzpAeWwQSZoV216EHyQaA6dP1j2MKxBSR8KpErZT1jDhWHEZP1Hwp6syRwTMvuX2Lk5bMNXETPE3DfFBtmJdQXP\")\n",
    "print(tx.value.transaction.to_json())"
   ]
  },
  {
   "cell_type": "code",
   "execution_count": 2,
   "id": "07e77ef8",
   "metadata": {},
   "outputs": [
    {
     "name": "stdout",
     "output_type": "stream",
     "text": [
      "Program index: 8\n"
     ]
    }
   ],
   "source": [
    "\n",
    "index = find_program_index(tx,Pubkey.from_string(\"JUP6LkbZbjS1jKKwapdHNy74zcZ3tLUZoi5QNyVTaV4\"))\n",
    "print(f\"Program index: {index}\")"
   ]
  },
  {
   "cell_type": "code",
   "execution_count": 4,
   "id": "9e1783d7",
   "metadata": {},
   "outputs": [
    {
     "name": "stdout",
     "output_type": "stream",
     "text": [
      "Decoded data for instruction 2: e517cb977ae3ad2a010000001a640001a5331604000000008993300100000000050001\n",
      "Parsed instruction 2: Container: \n",
      "    routePlan = ListContainer: \n",
      "        Container: \n",
      "            swap = {'RaydiumClmm': Container()}\n",
      "            percent = 100\n",
      "            inputIndex = 0\n",
      "            outputIndex = 1\n",
      "    inAmount = 68563877\n",
      "    quotedOutAmount = 19960713\n",
      "    slippageBps = 5\n",
      "    platformFeeBps = 1\n",
      "  Step: (0, Container(swap={'RaydiumClmm': Container()}, percent=100, inputIndex=0, outputIndex=1))\n"
     ]
    }
   ],
   "source": [
    "import base64\n",
    "import sys\n",
    "\n",
    "from jup.instructions import route\n",
    "for i, instruction in enumerate(tx.value.transaction.transaction.message.instructions):\n",
    "    if instruction.program_id_index == index:\n",
    "        bindata = based58.b58decode(instruction.data.encode('utf-8')) #//[:8]\n",
    "        print(f\"Decoded data for instruction {i}: {bindata.hex()}\")\n",
    "        o = route.layout.parse(bindata[8:])\n",
    "        print(f\"Parsed instruction {i}: {o}\")\n",
    "        for step in enumerate(o.routePlan):\n",
    "            print(f\"  Step: {step}\")\n",
    "        #evObj = route.layout.from_decoded(ev)\n",
    "\n",
    "        #route_instruction = route.RouteInstruction.from_bytes(decoded_data)\n",
    "        #print(f\"Route instruction: {route_instruction}\")\n",
    "        #print(f\"Route instruction as JSON: {route_instruction.to_json()}\")\n",
    "        #print(f\"Route instruction as base58: {based58.b58encode(route_instruction.to_bytes()).decode('utf-8')}\")"
   ]
  },
  {
   "cell_type": "code",
   "execution_count": 5,
   "id": "4de6d898",
   "metadata": {},
   "outputs": [
    {
     "name": "stdout",
     "output_type": "stream",
     "text": [
      "Decoded data for instruction 2: e517cb977ae3ad2a010000001a640001a5331604000000008993300100000000050001\n",
      "Parsed instruction 2: Container: \n",
      "    routePlan = ListContainer: \n",
      "        Container: \n",
      "            swap = {'RaydiumClmm': Container()}\n",
      "            percent = 100\n",
      "            inputIndex = 0\n",
      "            outputIndex = 1\n",
      "    inAmount = 68563877\n",
      "    quotedOutAmount = 19960713\n",
      "    slippageBps = 5\n",
      "    platformFeeBps = 1\n",
      "  Step: (0, Container(swap={'RaydiumClmm': Container()}, percent=100, inputIndex=0, outputIndex=1))\n"
     ]
    }
   ],
   "source": [
    "bindata = based58.b58decode(\"PrpFmsY4d26dKbdKMZJ1NLDGKuM1SmpFmiRMcH1UVtJTTLFS\".encode('utf-8'))\n",
    "print(f\"Decoded data for instruction {i}: {bindata.hex()}\")\n",
    "o = route.layout.parse(bindata[8:])\n",
    "print(f\"Parsed instruction {i}: {o}\")\n",
    "for step in enumerate(o.routePlan):\n",
    "    print(f\"  Step: {step}\")"
   ]
  },
  {
   "cell_type": "code",
   "execution_count": 6,
   "id": "53b1473d",
   "metadata": {},
   "outputs": [
    {
     "name": "stdout",
     "output_type": "stream",
     "text": [
      "Instruction: e517cb977ae3ad2a010000001a640001a5331604000000008993300100000000050001\n",
      "Instruction: b'PrpFmsY4d26dKbdKMZJ1NLDGKuM1SmpFmiRMcH1UVtJTTLFS'\n"
     ]
    }
   ],
   "source": [
    "from jup.instructions import route\n",
    "from jup.types.swap import RaydiumClmm\n",
    "from jup.types.routePlanStep import RoutePlanStep\n",
    "args :route.RouteArgs={\n",
    "    \"routePlan\": [\n",
    "            RoutePlanStep(RaydiumClmm(),100,0,1),\n",
    "    ],\n",
    "    \"inAmount\":68563877,\n",
    "    'quotedOutAmount':19960713,\n",
    "    \"slippageBps\":5,\n",
    "    \"platformFeeBps\":1,\n",
    "}\n",
    "accounts:route.RouteAccounts={\n",
    "    \"tokenProgram\":Pubkey.from_string(\"6EF8rrecthR5Dkzon8Nwu78hRvfCKubJ14M5uBEwF6P\"),\n",
    "    \"userTransferAuthority\":Pubkey.from_string(\"6EF8rrecthR5Dkzon8Nwu78hRvfCKubJ14M5uBEwF6P\"),\n",
    "    \"userSourceTokenAccount\":Pubkey.from_string(\"6EF8rrecthR5Dkzon8Nwu78hRvfCKubJ14M5uBEwF6P\"),\n",
    "    \"userDestinationTokenAccount\":Pubkey.from_string(\"6EF8rrecthR5Dkzon8Nwu78hRvfCKubJ14M5uBEwF6P\"),\n",
    "    \"destinationTokenAccount\":Pubkey.from_string(\"6EF8rrecthR5Dkzon8Nwu78hRvfCKubJ14M5uBEwF6P\"),\n",
    "    \"destinationMint\":Pubkey.from_string(\"6EF8rrecthR5Dkzon8Nwu78hRvfCKubJ14M5uBEwF6P\"),\n",
    "    \"platformFeeAccount\":Pubkey.from_string(\"6EF8rrecthR5Dkzon8Nwu78hRvfCKubJ14M5uBEwF6P\"),\n",
    "    \"eventAuthority\":Pubkey.from_string(\"6EF8rrecthR5Dkzon8Nwu78hRvfCKubJ14M5uBEwF6P\"),\n",
    "    \"program\":Pubkey.from_string(\"6EF8rrecthR5Dkzon8Nwu78hRvfCKubJ14M5uBEwF6P\")\n",
    "}\n",
    "inx = route.Route(args=args,accounts=accounts)\n",
    "print(f\"Instruction: {inx.data.hex()}\")\n",
    "print(f\"Instruction: {based58.b58encode(inx.data)}\")"
   ]
  }
 ],
 "metadata": {
  "kernelspec": {
   "display_name": ".venv",
   "language": "python",
   "name": "python3"
  },
  "language_info": {
   "codemirror_mode": {
    "name": "ipython",
    "version": 3
   },
   "file_extension": ".py",
   "mimetype": "text/x-python",
   "name": "python",
   "nbconvert_exporter": "python",
   "pygments_lexer": "ipython3",
   "version": "3.13.1"
  }
 },
 "nbformat": 4,
 "nbformat_minor": 5
}
