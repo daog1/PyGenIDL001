{
 "cells": [
  {
   "cell_type": "code",
   "execution_count": 1,
   "id": "6f32c6e5",
   "metadata": {},
   "outputs": [
    {
     "name": "stdout",
     "output_type": "stream",
     "text": [
      "{\"transaction\":{\"signatures\":[\"59WfPAbQDQAWeX2qAfNcvyaLgD87Q8No8tQNkH1QqeyT1Ho3Xny8JETTP9xYzqHYXAdEnzvjXW1KKAbZGxdcNYGJ\"],\"message\":{\"header\":{\"numRequiredSignatures\":1,\"numReadonlySignedAccounts\":0,\"numReadonlyUnsignedAccounts\":11},\"accountKeys\":[\"59ysRSPLMH23Nr9jWFu9GjCkh67gHvguKohxwJH5RhE9\",\"8rYwCz6La7SbLpq5ixkruE3SPGixuKQnJKdzUbRmRhZJ\",\"6uqjjpc2X33Hwyv6Zpnh5rPofPuLxaREMuaVVpcKmHPG\",\"BWezqUGWQdMsh1pgxfHZQwry2PmnzzMjMyNVcLRNcpnJ\",\"6XZg8bZFZWqCWVJiNdpmtBh37gNKeBFTK6mfyMLdEpHv\",\"2UYydg4k3xzjeL7QZpwHv8tsgD8qdQt1VRStq25yW2th\",\"HsVbkf6QmtUjbNN9n3hNA2KCuVwcQXhfvJkz9sYNvwwD\",\"ATokenGPvbdGVxr1b2hvZbsiqW5xWH25efTNsLJA8knL\",\"So11111111111111111111111111111111111111112\",\"11111111111111111111111111111111\",\"TokenkegQfeZyiNwAJbNbGKPFXCWuBvf9Ss623VQ5DA\",\"pAMMBay6oceH9fJKBRHGP5D4bD4sWpmSwMn52FMfXEA\",\"ByiSScDZ9qUMqqy2v1bjbkM66zDJwicZPfFypZHtXbH8\",\"ADyA8hdefvWN2dbGGWFotbzWxrAvLW83WG6QCVXvJKqw\",\"7As9CNcVW8n1iYQxqqdZveUUWZ667WBcWeQuw51NWpP5\",\"JCRGumoE9Qi5BBgULTgdgTLjSgkCMSbF62ZZfGs84JeU\",\"GS4CU59F31iL7aR2Q8zVS8DRrcRnXX1yjQ66TqNVQnaR\",\"8N3GDaZ2iwN65oxVatKTLPNooAVUJTbfiVJ1ahyqwjSk\"],\"recentBlockhash\":\"EXqyyp6EvY53TRBofLKqXB15Xzptth3EgtrGDExVviim\",\"instructions\":[{\"programIdIndex\":7,\"accounts\":[0,1,0,8,9,10],\"data\":\"2\",\"stackHeight\":null},{\"programIdIndex\":9,\"accounts\":[0,1],\"data\":\"3Bxs42ZEArXn9Yh5\",\"stackHeight\":null},{\"programIdIndex\":10,\"accounts\":[1],\"data\":\"J\",\"stackHeight\":null},{\"programIdIndex\":11,\"accounts\":[12,0,13,8,14,1,2,3,4,15,5,10,10,9,7,16,11,6,17],\"data\":\"5jRcjdixRUDFKjY9ywLHBwofveN7ASFA7\",\"stackHeight\":null},{\"programIdIndex\":10,\"accounts\":[1,0,0],\"data\":\"A\",\"stackHeight\":null}],\"addressTableLookups\":[]}},\"meta\":{\"err\":null,\"status\":{\"Ok\":null},\"fee\":5000,\"preBalances\":[769610701,0,2039280,362288213778,2039280,2039280,2039280,731913600,1055200996787,1,934087680,1141440,2978880,4454454,1461600,1000350,0,0],\"postBalances\":[282466107,0,2039280,362775353372,2039280,2039280,2039280,731913600,1055200996787,1,934087680,1141440,2978880,4454454,1461600,1000350,0,0],\"innerInstructions\":[{\"index\":0,\"instructions\":[{\"programIdIndex\":10,\"accounts\":[8],\"data\":\"84eT\",\"stackHeight\":2},{\"programIdIndex\":9,\"accounts\":[0,1],\"data\":\"11119os1e9qSs2u7TsThXqkBSRVFxhmYaFKFZ1waB2X7armDmvK3p5GmLdUxYdg3h7QSrL\",\"stackHeight\":2},{\"programIdIndex\":10,\"accounts\":[1],\"data\":\"P\",\"stackHeight\":2},{\"programIdIndex\":10,\"accounts\":[1,8],\"data\":\"6RHgYMdv8e8HseLFFbR6Ukhe9ByhVhfxc2ispRsxtiqf7\",\"stackHeight\":2}]},{\"index\":3,\"instructions\":[{\"programIdIndex\":10,\"accounts\":[1,8,3,0],\"data\":\"gET1q3DrFEiWk\",\"stackHeight\":2},{\"programIdIndex\":10,\"accounts\":[4,14,2,12],\"data\":\"jM3c9ko8JQSa1\",\"stackHeight\":2},{\"programIdIndex\":10,\"accounts\":[4,14,5,12],\"data\":\"hciXe6f4e9vEq\",\"stackHeight\":2},{\"programIdIndex\":11,\"accounts\":[16],\"data\":\"9k6unfwB8yYie7YGjfXzMug8y9Eeu5odJG3VunekyD9ZzuRXCuaGsfsSn4vKyueQXA6ia2aEbgNridEJ1Bmhstuf4rLSNedm2nJNu3Z23uXfhmhGoQxyaTFZ78owfBAxyqsW4XwxSEdYqiVpyvYe97EGar1KEco8ymwz6iEyMwxZamna3673vCGbJ9adn7PM9iZ5G32G81iHxZcguqrxaU3RJXHZuwuqZfws8qbD3CFWcoVDk2YPaWDeFeSp96nuhJzMKpfJaJGZcHNzv1YnqA69Y1xson3ASKJAe1TmCYn92aJchPGi6fmKHRLqdz57igJsyeVtc6rxwDu6PhZfybsqYFZo6r2r5ESvSA1msRmLdzSrLKXovAxpihoE3om6dFPWGbqUTXsLxik3H8iB6KFwttpjsBodrNKLeurGJTuqekH2oQgvRKXNwhojjCdE2ezSHMM7F7rmDcVZodGL1dcaMngHFN3mab2cJhVoVJzfWucHY6JSkmd\",\"stackHeight\":2}]}],\"logMessages\":[\"Program ATokenGPvbdGVxr1b2hvZbsiqW5xWH25efTNsLJA8knL invoke [1]\",\"Program log: CreateIdempotent\",\"Program TokenkegQfeZyiNwAJbNbGKPFXCWuBvf9Ss623VQ5DA invoke [2]\",\"Program log: Instruction: GetAccountDataSize\",\"Program TokenkegQfeZyiNwAJbNbGKPFXCWuBvf9Ss623VQ5DA consumed 1569 of 797595 compute units\",\"Program return: TokenkegQfeZyiNwAJbNbGKPFXCWuBvf9Ss623VQ5DA pQAAAAAAAAA=\",\"Program TokenkegQfeZyiNwAJbNbGKPFXCWuBvf9Ss623VQ5DA success\",\"Program 11111111111111111111111111111111 invoke [2]\",\"Program 11111111111111111111111111111111 success\",\"Program log: Initialize the associated token account\",\"Program TokenkegQfeZyiNwAJbNbGKPFXCWuBvf9Ss623VQ5DA invoke [2]\",\"Program log: Instruction: InitializeImmutableOwner\",\"Program log: Please upgrade to SPL Token 2022 for immutable owner support\",\"Program TokenkegQfeZyiNwAJbNbGKPFXCWuBvf9Ss623VQ5DA consumed 1405 of 791008 compute units\",\"Program TokenkegQfeZyiNwAJbNbGKPFXCWuBvf9Ss623VQ5DA success\",\"Program TokenkegQfeZyiNwAJbNbGKPFXCWuBvf9Ss623VQ5DA invoke [2]\",\"Program log: Instruction: InitializeAccount3\",\"Program TokenkegQfeZyiNwAJbNbGKPFXCWuBvf9Ss623VQ5DA consumed 3158 of 787126 compute units\",\"Program TokenkegQfeZyiNwAJbNbGKPFXCWuBvf9Ss623VQ5DA success\",\"Program ATokenGPvbdGVxr1b2hvZbsiqW5xWH25efTNsLJA8knL consumed 19315 of 803000 compute units\",\"Program ATokenGPvbdGVxr1b2hvZbsiqW5xWH25efTNsLJA8knL success\",\"Program 11111111111111111111111111111111 invoke [1]\",\"Program 11111111111111111111111111111111 success\",\"Program TokenkegQfeZyiNwAJbNbGKPFXCWuBvf9Ss623VQ5DA invoke [1]\",\"Program log: Instruction: SyncNative\",\"Program TokenkegQfeZyiNwAJbNbGKPFXCWuBvf9Ss623VQ5DA consumed 3045 of 783535 compute units\",\"Program TokenkegQfeZyiNwAJbNbGKPFXCWuBvf9Ss623VQ5DA success\",\"Program pAMMBay6oceH9fJKBRHGP5D4bD4sWpmSwMn52FMfXEA invoke [1]\",\"Program log: Instruction: Sell\",\"Program TokenkegQfeZyiNwAJbNbGKPFXCWuBvf9Ss623VQ5DA invoke [2]\",\"Program log: Instruction: TransferChecked\",\"Program TokenkegQfeZyiNwAJbNbGKPFXCWuBvf9Ss623VQ5DA consumed 6238 of 747948 compute units\",\"Program TokenkegQfeZyiNwAJbNbGKPFXCWuBvf9Ss623VQ5DA success\",\"Program TokenkegQfeZyiNwAJbNbGKPFXCWuBvf9Ss623VQ5DA invoke [2]\",\"Program log: Instruction: TransferChecked\",\"Program TokenkegQfeZyiNwAJbNbGKPFXCWuBvf9Ss623VQ5DA consumed 6147 of 738836 compute units\",\"Program TokenkegQfeZyiNwAJbNbGKPFXCWuBvf9Ss623VQ5DA success\",\"Program TokenkegQfeZyiNwAJbNbGKPFXCWuBvf9Ss623VQ5DA invoke [2]\",\"Program log: Instruction: TransferChecked\",\"Program TokenkegQfeZyiNwAJbNbGKPFXCWuBvf9Ss623VQ5DA consumed 6147 of 729800 compute units\",\"Program TokenkegQfeZyiNwAJbNbGKPFXCWuBvf9Ss623VQ5DA success\",\"Program data: Pi83CqUD3CrWOj5oAAAAAAopCR0AAAAAe570GQIAAAAKKQkdAAAAAL1NyRNjCAAAIlHwWVQAAAB+2VShPQwAAEo1OTUEAAAAFAAAAAAAAADWiScCAAAAAAUAAAAAAAAAduKJAAAAAAB0qxEzBAAAAP7IhzIEAAAAoxw/2JnYSGn9rdmi4gZX3FD5GUDojML6mNmeZ/o9yM89u7JQVeeZQ/1dUoNWCJlfivaHL2J8bzGq/ZXZWgDi2nSzYG71gVNfNso9gYQiPnL/C++UXfvVkR2aU2GumD9xV9O+YCs/ZvnOIPQamlm1/2En6XbwzIp5BrHDVc13V+v/g4OBi6j6KMPNO21ek/n6uPCXm8NyFazFskaHe6jDyRXqhk27qBqRF7KonNz6NuNLzEQQijGdhT4qIx6h+5yiAAAAAAAAAAAAAAAAAAAAAAAAAAAAAAAAAAAAAAAAAAAFAAAAAAAAAAAAAAAAAAAA\",\"Program pAMMBay6oceH9fJKBRHGP5D4bD4sWpmSwMn52FMfXEA invoke [2]\",\"Program pAMMBay6oceH9fJKBRHGP5D4bD4sWpmSwMn52FMfXEA consumed 2009 of 717166 compute units\",\"Program pAMMBay6oceH9fJKBRHGP5D4bD4sWpmSwMn52FMfXEA success\",\"Program pAMMBay6oceH9fJKBRHGP5D4bD4sWpmSwMn52FMfXEA consumed 65869 of 780490 compute units\",\"Program pAMMBay6oceH9fJKBRHGP5D4bD4sWpmSwMn52FMfXEA success\",\"Program TokenkegQfeZyiNwAJbNbGKPFXCWuBvf9Ss623VQ5DA invoke [1]\",\"Program log: Instruction: CloseAccount\",\"Program TokenkegQfeZyiNwAJbNbGKPFXCWuBvf9Ss623VQ5DA consumed 2915 of 714621 compute units\",\"Program TokenkegQfeZyiNwAJbNbGKPFXCWuBvf9Ss623VQ5DA success\"],\"preTokenBalances\":[{\"accountIndex\":2,\"mint\":\"7As9CNcVW8n1iYQxqqdZveUUWZ667WBcWeQuw51NWpP5\",\"uiTokenAmount\":{\"uiAmount\":9221626.744253,\"decimals\":6,\"amount\":\"9221626744253\",\"uiAmountString\":\"9221626.744253\"},\"owner\":\"59ysRSPLMH23Nr9jWFu9GjCkh67gHvguKohxwJH5RhE9\",\"programId\":\"TokenkegQfeZyiNwAJbNbGKPFXCWuBvf9Ss623VQ5DA\"},{\"accountIndex\":3,\"mint\":\"So11111111111111111111111111111111111111112\",\"uiTokenAmount\":{\"uiAmount\":362.286174498,\"decimals\":9,\"amount\":\"362286174498\",\"uiAmountString\":\"362.286174498\"},\"owner\":\"ByiSScDZ9qUMqqy2v1bjbkM66zDJwicZPfFypZHtXbH8\",\"programId\":\"TokenkegQfeZyiNwAJbNbGKPFXCWuBvf9Ss623VQ5DA\"},{\"accountIndex\":4,\"mint\":\"7As9CNcVW8n1iYQxqqdZveUUWZ667WBcWeQuw51NWpP5\",\"uiTokenAmount\":{\"uiAmount\":13458839.230846,\"decimals\":6,\"amount\":\"13458839230846\",\"uiAmountString\":\"13458839.230846\"},\"owner\":\"ByiSScDZ9qUMqqy2v1bjbkM66zDJwicZPfFypZHtXbH8\",\"programId\":\"TokenkegQfeZyiNwAJbNbGKPFXCWuBvf9Ss623VQ5DA\"},{\"accountIndex\":5,\"mint\":\"7As9CNcVW8n1iYQxqqdZveUUWZ667WBcWeQuw51NWpP5\",\"uiTokenAmount\":{\"uiAmount\":788621.121645,\"decimals\":6,\"amount\":\"788621121645\",\"uiAmountString\":\"788621.121645\"},\"owner\":\"JCRGumoE9Qi5BBgULTgdgTLjSgkCMSbF62ZZfGs84JeU\",\"programId\":\"TokenkegQfeZyiNwAJbNbGKPFXCWuBvf9Ss623VQ5DA\"},{\"accountIndex\":6,\"mint\":\"7As9CNcVW8n1iYQxqqdZveUUWZ667WBcWeQuw51NWpP5\",\"uiTokenAmount\":{\"uiAmount\":null,\"decimals\":6,\"amount\":\"0\",\"uiAmountString\":\"0\"},\"owner\":\"8N3GDaZ2iwN65oxVatKTLPNooAVUJTbfiVJ1ahyqwjSk\",\"programId\":\"TokenkegQfeZyiNwAJbNbGKPFXCWuBvf9Ss623VQ5DA\"}],\"postTokenBalances\":[{\"accountIndex\":2,\"mint\":\"7As9CNcVW8n1iYQxqqdZveUUWZ667WBcWeQuw51NWpP5\",\"uiTokenAmount\":{\"uiAmount\":9239654.373051,\"decimals\":6,\"amount\":\"9239654373051\",\"uiAmountString\":\"9239654.373051\"},\"owner\":\"59ysRSPLMH23Nr9jWFu9GjCkh67gHvguKohxwJH5RhE9\",\"programId\":\"TokenkegQfeZyiNwAJbNbGKPFXCWuBvf9Ss623VQ5DA\"},{\"accountIndex\":3,\"mint\":\"So11111111111111111111111111111111111111112\",\"uiTokenAmount\":{\"uiAmount\":362.773314092,\"decimals\":9,\"amount\":\"362773314092\",\"uiAmountString\":\"362.773314092\"},\"owner\":\"ByiSScDZ9qUMqqy2v1bjbkM66zDJwicZPfFypZHtXbH8\",\"programId\":\"TokenkegQfeZyiNwAJbNbGKPFXCWuBvf9Ss623VQ5DA\"},{\"accountIndex\":4,\"mint\":\"7As9CNcVW8n1iYQxqqdZveUUWZ667WBcWeQuw51NWpP5\",\"uiTokenAmount\":{\"uiAmount\":13440802.565642,\"decimals\":6,\"amount\":\"13440802565642\",\"uiAmountString\":\"13440802.565642\"},\"owner\":\"ByiSScDZ9qUMqqy2v1bjbkM66zDJwicZPfFypZHtXbH8\",\"programId\":\"TokenkegQfeZyiNwAJbNbGKPFXCWuBvf9Ss623VQ5DA\"},{\"accountIndex\":5,\"mint\":\"7As9CNcVW8n1iYQxqqdZveUUWZ667WBcWeQuw51NWpP5\",\"uiTokenAmount\":{\"uiAmount\":788630.158051,\"decimals\":6,\"amount\":\"788630158051\",\"uiAmountString\":\"788630.158051\"},\"owner\":\"JCRGumoE9Qi5BBgULTgdgTLjSgkCMSbF62ZZfGs84JeU\",\"programId\":\"TokenkegQfeZyiNwAJbNbGKPFXCWuBvf9Ss623VQ5DA\"},{\"accountIndex\":6,\"mint\":\"7As9CNcVW8n1iYQxqqdZveUUWZ667WBcWeQuw51NWpP5\",\"uiTokenAmount\":{\"uiAmount\":null,\"decimals\":6,\"amount\":\"0\",\"uiAmountString\":\"0\"},\"owner\":\"8N3GDaZ2iwN65oxVatKTLPNooAVUJTbfiVJ1ahyqwjSk\",\"programId\":\"TokenkegQfeZyiNwAJbNbGKPFXCWuBvf9Ss623VQ5DA\"}],\"rewards\":[],\"loadedAddresses\":{\"writable\":[],\"readonly\":[]},\"computeUnitsConsumed\":91294},\"version\":0}\n"
     ]
    }
   ],
   "source": [
    "from utils import find_program_index,getTx\n",
    "from dotenv import load_dotenv\n",
    "import sys\n",
    "import os\n",
    "import based58\n",
    "current_dir = os.getcwd()\n",
    "parent_dir = os.path.dirname(current_dir)\n",
    "sys.path.append(parent_dir)\n",
    "load_dotenv()\n",
    "tx= getTx(\"rpc_url\",\"59WfPAbQDQAWeX2qAfNcvyaLgD87Q8No8tQNkH1QqeyT1Ho3Xny8JETTP9xYzqHYXAdEnzvjXW1KKAbZGxdcNYGJ\")\n",
    "print(tx.value.transaction.to_json())"
   ]
  },
  {
   "cell_type": "code",
   "execution_count": 2,
   "id": "39a4f7ef",
   "metadata": {},
   "outputs": [
    {
     "name": "stdout",
     "output_type": "stream",
     "text": [
      "  Data (Base58 decoded): 020000000a29091d00000000\n",
      "  Data (Base58 decoded): 0a29091d00000000\n"
     ]
    },
    {
     "data": {
      "text/plain": [
       "Container(amount=487139594)"
      ]
     },
     "execution_count": 2,
     "metadata": {},
     "output_type": "execute_result"
    }
   ],
   "source": [
    "\n",
    "import based58\n",
    "\n",
    "from system.instructions import transferSol \n",
    "decoded_data = based58.b58decode(\"3Bxs42ZEArXn9Yh5\".encode('utf-8'))\n",
    "print(f\"  Data (Base58 decoded): {decoded_data.hex()}\")\n",
    "print(f\"  Data (Base58 decoded): {decoded_data[4:].hex()}\")\n",
    "transferSol.layout.parse(decoded_data[4:])"
   ]
  },
  {
   "cell_type": "code",
   "execution_count": 2,
   "id": "e84a9cb1",
   "metadata": {},
   "outputs": [
    {
     "name": "stdout",
     "output_type": "stream",
     "text": [
      "nonce Account: Nonce(version=Current(), state=Initialized(), authority=Pubkey(\n",
      "    DXrp2XBZk2otaa2BaNSUizYjncj3esB2JZknztEdPXGW,\n",
      "), blockhash=Pubkey(\n",
      "    BeWTiW2tgA3SM2Xeb7tB5WzzHcpuZt5yBEyeWBpqVkwF,\n",
      "), lamportsPerSignature=5000) DXrp2XBZk2otaa2BaNSUizYjncj3esB2JZknztEdPXGW\n"
     ]
    }
   ],
   "source": [
    "from system.accounts import nonce\n",
    "from solders.pubkey import Pubkey\n",
    "from solana.rpc.async_api import AsyncClient\n",
    "from solana.rpc.commitment import Commitment;\n",
    "client = AsyncClient(os.getenv(\"rpc_url\"))\n",
    "nonce_account = await nonce.Nonce.fetch(client, Pubkey.from_string(\"4xfyG4HpJU9xTTEUWKozWdvf9bLQtPJqVbQPwENoDbhf\"))\n",
    "print(f\"nonce Account: {nonce_account} {nonce_account.authority}\")\n",
    "\n"
   ]
  },
  {
   "cell_type": "code",
   "execution_count": 4,
   "id": "f84c11d4",
   "metadata": {},
   "outputs": [
    {
     "name": "stdout",
     "output_type": "stream",
     "text": [
      "Nonce Account Info: 0100000001000000ba33fd173f0603450de8f5272c274cb54eee41eb20697dbb2a90bf86fc1ff4cb2dd29a28fa3508c0ff2d80f47a35948ed97086a6c8450a9ec4bbf7e28fcd21f78813000000000000\n"
     ]
    }
   ],
   "source": [
    "req= await client.get_account_info(Pubkey.from_string(\"4xfyG4HpJU9xTTEUWKozWdvf9bLQtPJqVbQPwENoDbhf\"))\n",
    "print(f\"Nonce Account Info: {req.value.data.hex()}\")"
   ]
  },
  {
   "cell_type": "code",
   "execution_count": 4,
   "id": "73ac9999",
   "metadata": {},
   "outputs": [
    {
     "name": "stdout",
     "output_type": "stream",
     "text": [
      "Version: (1,)\n",
      "state: (1,)\n",
      "auth: (b\"\\xba3\\xfd\\x17?\\x06\\x03E\\r\\xe8\\xf5','L\\xb5N\\xeeA\\xeb i}\\xbb*\\x90\\xbf\\x86\\xfc\\x1f\\xf4\\xcb\",) DXrp2XBZk2otaa2BaNSUizYjncj3esB2JZknztEdPXGW\n",
      "auth: 2dd29a28fa3508c0ff2d80f47a35948ed97086a6c8450a9ec4bbf7e28fcd21f7 45sc2znuxBaPJBKo5xA5H32sufvN35FzPSDSDAkjAodp\n",
      "Nonce Account Decoded: Container: \n",
      "    version = {'Current': Container()}\n",
      "    state = {'Initialized': Container()}\n",
      "    authority = DXrp2XBZk2otaa2BaNSUizYjncj3esB2JZknztEdPXGW\n",
      "    blockhash = 45sc2znuxBaPJBKo5xA5H32sufvN35FzPSDSDAkjAodp\n",
      "    lamportsPerSignature = 5000,DXrp2XBZk2otaa2BaNSUizYjncj3esB2JZknztEdPXGW\n"
     ]
    }
   ],
   "source": [
    "import struct\n",
    "bs = bytes.fromhex('0100000001000000ba33fd173f0603450de8f5272c274cb54eee41eb20697dbb2a90bf86fc1ff4cb2dd29a28fa3508c0ff2d80f47a35948ed97086a6c8450a9ec4bbf7e28fcd21f78813000000000000')\n",
    "version = struct.unpack_from(\"<i\", bs, 0)\n",
    "print(f\"Version: {version}\")\n",
    "state = struct.unpack_from(\"<i\", bs[4:], 0)\n",
    "print(f\"state: {state}\")\n",
    "\n",
    "auth = struct.unpack_from(\"32s\", bs[8:], 0)\n",
    "authkey = Pubkey.from_bytes(auth[0])\n",
    "print(f\"auth: {auth} {authkey}\")\n",
    "blockhash = struct.unpack_from(\"32s\", bs[40:], 0)\n",
    "blockhashkey = Pubkey.from_bytes(blockhash[0])\n",
    "print(f\"auth: {blockhash[0].hex()} {blockhashkey}\")\n",
    "dec = nonce.Nonce.layout.parse(bs)\n",
    "print(f\"Nonce Account Decoded: {dec},{dec.authority}\")"
   ]
  },
  {
   "cell_type": "code",
   "execution_count": null,
   "id": "69f35bc4",
   "metadata": {},
   "outputs": [
    {
     "name": "stdout",
     "output_type": "stream",
     "text": [
      "{\"transaction\":{\"signatures\":[\"adGyS3sYADXJSJ4CznCWbUGHPjgnV4vaZETytDuM9bHFE2WShreumyJpa91kikxND22i4Jiqgekv2KW8v5Ws9gj\"],\"message\":{\"header\":{\"numRequiredSignatures\":1,\"numReadonlySignedAccounts\":0,\"numReadonlyUnsignedAccounts\":9},\"accountKeys\":[\"DXrp2XBZk2otaa2BaNSUizYjncj3esB2JZknztEdPXGW\",\"4xfyG4HpJU9xTTEUWKozWdvf9bLQtPJqVbQPwENoDbhf\",\"9rPYyANsfQZw3DnDmKE3YCQF5E8oD89UXoHn9JFEhJUz\",\"CP9A2HhoHqwgLwwnBVNJm8GU73kdWYJrXZsJRcchqWGJ\",\"Gz7e73qKdKKNAivY5ut9j65xsHRnYt75aGQJSGdf5qw5\",\"2gSenic7WHWcyrhiLxyzcFahP1xQ5wD8rPazoTftCX2p\",\"297mAiVAswKTZSgPBTh9EyJRR4r38QNZVT3ihsumzAt3\",\"4FobGn5ZWYquoJkxMzh2VUAWvV36xMgxQ3M7uG1pGGhd\",\"ADaUMid9yfUytqMBgopwjb2DTLSokTSzL1zt6iGPaS49\",\"11111111111111111111111111111111\",\"SysvarRecentB1ockHashes11111111111111111111\",\"jitodontfront91111111TradeWithAxiomDotTrade\",\"ComputeBudget111111111111111111111111111111\",\"6EF8rrecthR5Dkzon8Nwu78hRvfCKubJ14M5uBEwF6P\",\"4wTV1YmiEkRvAtNtsSGPtUrqRYQMe5SKy2uB4Jjaxnjf\",\"8djBhGvMtQDkZu4ohWjkH13fPd1PXqXPYj9K2mYv84dd\",\"TokenkegQfeZyiNwAJbNbGKPFXCWuBvf9Ss623VQ5DA\",\"Ce6TQqeHC9p8KetsN6JsjHK7UTZk7nasjjnr7XxXp9F1\"],\"recentBlockhash\":\"9Dwyq2gb7F1YrhM9x9MUcgkqTS1z3gp7QCcKvwpsdxC3\",\"instructions\":[{\"programIdIndex\":9,\"accounts\":[1,10,0,11],\"data\":\"6vx8P\",\"stackHeight\":null},{\"programIdIndex\":12,\"accounts\":[],\"data\":\"JC3gyu\",\"stackHeight\":null},{\"programIdIndex\":12,\"accounts\":[],\"data\":\"3ay2hEw4e3yH\",\"stackHeight\":null},{\"programIdIndex\":13,\"accounts\":[14,2,15,3,4,5,0,9,6,16,17,13],\"data\":\"5jRcjdixRUDjKD6DFta3J1mg39DE3Yp6j\",\"stackHeight\":null},{\"programIdIndex\":9,\"accounts\":[0,7],\"data\":\"3Bxs4ADEpjWaiHUB\",\"stackHeight\":null},{\"programIdIndex\":9,\"accounts\":[0,8],\"data\":\"3Bxs4ThwQbE4vyj5\",\"stackHeight\":null}]}},\"meta\":{\"err\":null,\"status\":{\"Ok\":null},\"fee\":1005000,\"preBalances\":[4374305808,1447680,16350901423263,24167830024,2039280,2039280,541671579,248084011581,1849007,1,42706560,0,1,1141440,290898467,1461600,934087680,137104464],\"postBalances\":[7402570469,1447680,16350930776551,21078010238,2039280,2039280,543216489,248113563508,1949007,1,42706560,0,1,1141440,290898467,1461600,934087680,137104464],\"innerInstructions\":[{\"index\":3,\"instructions\":[{\"programIdIndex\":16,\"accounts\":[5,4,0],\"data\":\"3u5B3UJ5Z6S3\",\"stackHeight\":2},{\"programIdIndex\":13,\"accounts\":[17],\"data\":\"2zjR1PvPvgqdhPdZLxuWCL7z3p9HafJmokoutsmTA6CC8vXKw3CAyJLrntYakmkStaLJqWNuGYmKLkPieR1QEaZUSUC2MxK1CDwdRwDu6ZwPDzi97FCtUpwfG3cG6UJLaBaFs3YrZgLraPyAdc45NCFxyPDuvQkynakDsvHPCGGwZQ3Mhsf9b1SgQzceaMKqH6UPowkVbpT8SAADmiZFssPMXrPc1MUgzK7rQw2GpHYrmBSbtUnMpUaqsukfM9YgQRwHw3QsUe39qteCJbAqH6FDtFXL3tQDPmh7sBQcb1eXKgc1zG1Ww4ovkKfZV1q\",\"stackHeight\":2}]}],\"logMessages\":[\"Program 11111111111111111111111111111111 invoke [1]\",\"Program 11111111111111111111111111111111 success\",\"Program ComputeBudget111111111111111111111111111111 invoke [1]\",\"Program ComputeBudget111111111111111111111111111111 success\",\"Program ComputeBudget111111111111111111111111111111 invoke [1]\",\"Program ComputeBudget111111111111111111111111111111 success\",\"Program 6EF8rrecthR5Dkzon8Nwu78hRvfCKubJ14M5uBEwF6P invoke [1]\",\"Program log: Instruction: Sell\",\"Program TokenkegQfeZyiNwAJbNbGKPFXCWuBvf9Ss623VQ5DA invoke [2]\",\"Program log: Instruction: Transfer\",\"Program TokenkegQfeZyiNwAJbNbGKPFXCWuBvf9Ss623VQ5DA consumed 4645 of 77003 compute units\",\"Program TokenkegQfeZyiNwAJbNbGKPFXCWuBvf9Ss623VQ5DA success\",\"Program data: vdt/007mYe5xampn8D7LqwM2htb/aBF6mOfZCFNlu7L38UtB8SaZAIroKrgAAAAA7NYnfbIgAAAAujP9Fz8GA0UN6PUnLCdMtU7uQesgaX27KpC/hvwf9Mu8pz1oAAAAAF4PX+QLAAAA7TDMVjI9AgBeYzvoBAAAAO2YuQqhPgEAg4R0KS5nWpS0NuywqZiJQjKKg93GIzgClhJnxc1hF8tfAAAAAAAAAEjlvwEAAAAA0mkTImhpqwvNeEPKeyyF9FjsVfk+cljKjheQG87coNMFAAAAAAAAAM6SFwAAAAAA\",\"Program 6EF8rrecthR5Dkzon8Nwu78hRvfCKubJ14M5uBEwF6P invoke [2]\",\"Program 6EF8rrecthR5Dkzon8Nwu78hRvfCKubJ14M5uBEwF6P consumed 2006 of 66908 compute units\",\"Program 6EF8rrecthR5Dkzon8Nwu78hRvfCKubJ14M5uBEwF6P success\",\"Program 6EF8rrecthR5Dkzon8Nwu78hRvfCKubJ14M5uBEwF6P consumed 35482 of 99550 compute units\",\"Program 6EF8rrecthR5Dkzon8Nwu78hRvfCKubJ14M5uBEwF6P success\",\"Program 11111111111111111111111111111111 invoke [1]\",\"Program 11111111111111111111111111111111 success\",\"Program 11111111111111111111111111111111 invoke [1]\",\"Program 11111111111111111111111111111111 success\"],\"preTokenBalances\":[{\"accountIndex\":4,\"mint\":\"8djBhGvMtQDkZu4ohWjkH13fPd1PXqXPYj9K2mYv84dd\",\"uiTokenAmount\":{\"uiAmount\":521285391.272449,\"decimals\":6,\"amount\":\"521285391272449\",\"uiAmountString\":\"521285391.272449\"},\"owner\":\"CP9A2HhoHqwgLwwnBVNJm8GU73kdWYJrXZsJRcchqWGJ\",\"programId\":\"TokenkegQfeZyiNwAJbNbGKPFXCWuBvf9Ss623VQ5DA\"},{\"accountIndex\":5,\"mint\":\"8djBhGvMtQDkZu4ohWjkH13fPd1PXqXPYj9K2mYv84dd\",\"uiTokenAmount\":{\"uiAmount\":35950976.030444,\"decimals\":6,\"amount\":\"35950976030444\",\"uiAmountString\":\"35950976.030444\"},\"owner\":\"DXrp2XBZk2otaa2BaNSUizYjncj3esB2JZknztEdPXGW\",\"programId\":\"TokenkegQfeZyiNwAJbNbGKPFXCWuBvf9Ss623VQ5DA\"}],\"postTokenBalances\":[{\"accountIndex\":4,\"mint\":\"8djBhGvMtQDkZu4ohWjkH13fPd1PXqXPYj9K2mYv84dd\",\"uiTokenAmount\":{\"uiAmount\":557236367.302893,\"decimals\":6,\"amount\":\"557236367302893\",\"uiAmountString\":\"557236367.302893\"},\"owner\":\"CP9A2HhoHqwgLwwnBVNJm8GU73kdWYJrXZsJRcchqWGJ\",\"programId\":\"TokenkegQfeZyiNwAJbNbGKPFXCWuBvf9Ss623VQ5DA\"},{\"accountIndex\":5,\"mint\":\"8djBhGvMtQDkZu4ohWjkH13fPd1PXqXPYj9K2mYv84dd\",\"uiTokenAmount\":{\"uiAmount\":null,\"decimals\":6,\"amount\":\"0\",\"uiAmountString\":\"0\"},\"owner\":\"DXrp2XBZk2otaa2BaNSUizYjncj3esB2JZknztEdPXGW\",\"programId\":\"TokenkegQfeZyiNwAJbNbGKPFXCWuBvf9Ss623VQ5DA\"}],\"rewards\":[],\"loadedAddresses\":{\"writable\":[],\"readonly\":[]},\"computeUnitsConsumed\":36232},\"version\":\"legacy\"}\n",
      "  Data (Base58 decoded): 04000000\n"
     ]
    }
   ],
   "source": [
    "tx= getTx(\"rpc_url\",\"adGyS3sYADXJSJ4CznCWbUGHPjgnV4vaZETytDuM9bHFE2WShreumyJpa91kikxND22i4Jiqgekv2KW8v5Ws9gj\")\n",
    "print(tx.value.transaction.to_json())\n",
    "decoded_data = based58.b58decode(\"6vx8P\".encode('utf-8'))\n",
    "print(f\"  Data (Base58 decoded): {decoded_data.hex()}\")\n",
    "from system.instructions import advanceNonceAccount"
   ]
  },
  {
   "cell_type": "code",
   "execution_count": 3,
   "id": "dc8d8e9a",
   "metadata": {},
   "outputs": [
    {
     "name": "stdout",
     "output_type": "stream",
     "text": [
      "{\"transaction\":{\"signatures\":[\"3TG5NbmPrrGU19nNqjaRdYE72kTWgqobikpfNWpBA4TmTYRHr2unjkr64Bz6PwN8gE5xSkKu18NVtsCSXvQthtbT\"],\"message\":{\"header\":{\"numRequiredSignatures\":1,\"numReadonlySignedAccounts\":0,\"numReadonlyUnsignedAccounts\":9},\"accountKeys\":[\"29dRLS2FLWunZzfTcKy2gM5ZeCSfsFZuEoxbWBkTNXjJ\",\"2LUW32bwc8PdKnqbXaxt145EtcbRNBu6AA5P7USLX1mp\",\"CYwWm65MSjGuAxQTdXpjdTu3ZEuhAckZoHS1FL9Wsa26\",\"9qFuWYCUshzMF81nm3MxF7xEQUiyPs6rBaHcuZ3Nnn7R\",\"BrcXtRpBRpQttYBdcAMuP5sQeRebHmmuFrGuuYqZAJkg\",\"3iXArZREPhdocXkspCnAVffMLVXqFDXMUXd3LAzZG6Sp\",\"WJNxrPaabeJnfwy67SehgbaQ12bnGoZSMvTRqaKnP6a\",\"AnvujfwVpDaa1rQYmsFuFUo9VyyD7LuBQKH1F63zxaFy\",\"26yRnbUCTvBezehjvPtR499wQ44hVRRm69EMmiJ8qRo8\",\"AxDWJ5seXrjWYbURtSBFVLq8s3NSKXHie1oxPa3vyYNA\",\"CfgzahXq5h3EnvAeGB9ncezCw9ykMfANXUxZpXpdTNyB\",\"G6LAjnqUXxLKvw5nUWMZq4f7F7vd7LsZCB8zkBKSyXPV\",\"BPnefjc6iHN66uHyraX8PG8HHrkWEBA7f6miTehwaYzk\",\"FpuYJRpCN74B9FpgMHaDU5n66B74HkB49bwjVdQpYiaN\",\"Fq4qnr9riTNjcFUYXtQtgi8NEwKNDjjYgf28wKADdeLi\",\"Cw8CFyM9FkoMi7K7Crf6HNQqf4uEMzpKw6QNghXLvLkY\",\"ATokenGPvbdGVxr1b2hvZbsiqW5xWH25efTNsLJA8knL\",\"So11111111111111111111111111111111111111112\",\"11111111111111111111111111111111\",\"TokenkegQfeZyiNwAJbNbGKPFXCWuBvf9Ss623VQ5DA\",\"SysvarRent111111111111111111111111111111111\",\"HWy1jotHpo6UqeQxx49dpYYdQB8wj9Qk9MdxwjLvDHB8\",\"DbQqP6ehDYmeYjcBaMRuA8tAJY1EjDUz9DpwSLjaQqfC\",\"EoTcMgcDRTJVZDMZWBoU6rhYHZfkNTVEAfz3uUJRcYGj\",\"AooYZKK8MSLLWEuhLMPqFDTdYHmRzYRQFVQG7N3c5vkh\"],\"recentBlockhash\":\"Ck6D1cHvSoXoNovfMJmSgjbsz7s6sJ4g4oHEjUfkTVfG\",\"instructions\":[{\"programIdIndex\":16,\"accounts\":[0,1,0,17,18,19],\"data\":\"\",\"stackHeight\":null},{\"programIdIndex\":18,\"accounts\":[0,2],\"data\":\"3ipZWasGaR3XJSYcjzcKzTV1zLEgu9ixvD57gR3MrbTN4fVMd8q81Z9jza1ARcVH65aTV6bAb8M9aisDD7zhfuXvxRacfu2GjeVeVbUJqWHNo7UcnKPFVisxgmWrPAQeFWrD3ifm2E7PTpTk1EVaoZyfjzUmD46fXuGy1wVsv\",\"stackHeight\":null},{\"programIdIndex\":19,\"accounts\":[2,17,0,20],\"data\":\"2\",\"stackHeight\":null},{\"programIdIndex\":19,\"accounts\":[2,1,0],\"data\":\"3pveRR4crSWs\",\"stackHeight\":null},{\"programIdIndex\":21,\"accounts\":[19,3,22,4,5,6,7,23,8,9,10,11,12,13,24,1,14,0],\"data\":\"6Mh7xCWDskJtYtXSwVC5Ypo\",\"stackHeight\":null},{\"programIdIndex\":19,\"accounts\":[2,0,0],\"data\":\"A\",\"stackHeight\":null},{\"programIdIndex\":19,\"accounts\":[1,0,0],\"data\":\"A\",\"stackHeight\":null},{\"programIdIndex\":18,\"accounts\":[0,15],\"data\":\"3Bxs4BaiSGCsQiiT\",\"stackHeight\":null}],\"addressTableLookups\":[]}},\"meta\":{\"err\":null,\"status\":{\"Ok\":null},\"fee\":5000,\"preBalances\":[13008559,0,0,6124800,23357760,16258560,2039280,952612420,3591360,101977920,101977920,79594560,2039280,2039280,2039280,47029215646,731913600,1274111617628,1,934087680,1009200,1141440,2000000000,1141440,0],\"postBalances\":[12664851,0,0,6124800,23357760,16258560,2039280,952943128,3591360,101977920,101977920,79594560,2039280,2039280,2039280,47029223646,731913600,1274111617628,1,934087680,1009200,1141440,2000000000,1141440,0],\"innerInstructions\":[{\"index\":0,\"instructions\":[{\"programIdIndex\":19,\"accounts\":[17],\"data\":\"84eT\",\"stackHeight\":2},{\"programIdIndex\":18,\"accounts\":[0,1],\"data\":\"11119os1e9qSs2u7TsThXqkBSRVFxhmYaFKFZ1waB2X7armDmvK3p5GmLdUxYdg3h7QSrL\",\"stackHeight\":2},{\"programIdIndex\":19,\"accounts\":[1],\"data\":\"P\",\"stackHeight\":2},{\"programIdIndex\":19,\"accounts\":[1,17],\"data\":\"6NHL6GdZ3dNBcqUkyhVANAKWx962VGzqbwj8SzmSGfgAG\",\"stackHeight\":2}]},{\"index\":4,\"instructions\":[{\"programIdIndex\":19,\"accounts\":[1,7,0],\"data\":\"3pveRR4crSWs\",\"stackHeight\":2},{\"programIdIndex\":19,\"accounts\":[6,14,22],\"data\":\"3jas3frNEUyD\",\"stackHeight\":2}]}],\"logMessages\":[\"Program ATokenGPvbdGVxr1b2hvZbsiqW5xWH25efTNsLJA8knL invoke [1]\",\"Program log: Create\",\"Program TokenkegQfeZyiNwAJbNbGKPFXCWuBvf9Ss623VQ5DA invoke [2]\",\"Program log: Instruction: GetAccountDataSize\",\"Program TokenkegQfeZyiNwAJbNbGKPFXCWuBvf9Ss623VQ5DA consumed 1569 of 1200633 compute units\",\"Program return: TokenkegQfeZyiNwAJbNbGKPFXCWuBvf9Ss623VQ5DA pQAAAAAAAAA=\",\"Program TokenkegQfeZyiNwAJbNbGKPFXCWuBvf9Ss623VQ5DA success\",\"Program 11111111111111111111111111111111 invoke [2]\",\"Program 11111111111111111111111111111111 success\",\"Program log: Initialize the associated token account\",\"Program TokenkegQfeZyiNwAJbNbGKPFXCWuBvf9Ss623VQ5DA invoke [2]\",\"Program log: Instruction: InitializeImmutableOwner\",\"Program log: Please upgrade to SPL Token 2022 for immutable owner support\",\"Program TokenkegQfeZyiNwAJbNbGKPFXCWuBvf9Ss623VQ5DA consumed 1405 of 1194046 compute units\",\"Program TokenkegQfeZyiNwAJbNbGKPFXCWuBvf9Ss623VQ5DA success\",\"Program TokenkegQfeZyiNwAJbNbGKPFXCWuBvf9Ss623VQ5DA invoke [2]\",\"Program log: Instruction: InitializeAccount3\",\"Program TokenkegQfeZyiNwAJbNbGKPFXCWuBvf9Ss623VQ5DA consumed 3158 of 1190164 compute units\",\"Program TokenkegQfeZyiNwAJbNbGKPFXCWuBvf9Ss623VQ5DA success\",\"Program ATokenGPvbdGVxr1b2hvZbsiqW5xWH25efTNsLJA8knL consumed 19277 of 1206000 compute units\",\"Program ATokenGPvbdGVxr1b2hvZbsiqW5xWH25efTNsLJA8knL success\",\"Program 11111111111111111111111111111111 invoke [1]\",\"Program 11111111111111111111111111111111 success\",\"Program TokenkegQfeZyiNwAJbNbGKPFXCWuBvf9Ss623VQ5DA invoke [1]\",\"Program log: Instruction: InitializeAccount\",\"Program TokenkegQfeZyiNwAJbNbGKPFXCWuBvf9Ss623VQ5DA consumed 3443 of 1186573 compute units\",\"Program TokenkegQfeZyiNwAJbNbGKPFXCWuBvf9Ss623VQ5DA success\",\"Program TokenkegQfeZyiNwAJbNbGKPFXCWuBvf9Ss623VQ5DA invoke [1]\",\"Program log: Instruction: Transfer\",\"Program TokenkegQfeZyiNwAJbNbGKPFXCWuBvf9Ss623VQ5DA consumed 4735 of 1183130 compute units\",\"Program TokenkegQfeZyiNwAJbNbGKPFXCWuBvf9Ss623VQ5DA success\",\"Program HWy1jotHpo6UqeQxx49dpYYdQB8wj9Qk9MdxwjLvDHB8 invoke [1]\",\"Program log: ray_log: A9QLBQAAAAAAAQAAAAAAAAABAAAAAAAAANQLBQAAAAAArnGYgvZgDABUmKg4AAAAALQcYG8ZAQAA\",\"Program TokenkegQfeZyiNwAJbNbGKPFXCWuBvf9Ss623VQ5DA invoke [2]\",\"Program log: Instruction: Transfer\",\"Program TokenkegQfeZyiNwAJbNbGKPFXCWuBvf9Ss623VQ5DA consumed 4736 of 1161981 compute units\",\"Program TokenkegQfeZyiNwAJbNbGKPFXCWuBvf9Ss623VQ5DA success\",\"Program TokenkegQfeZyiNwAJbNbGKPFXCWuBvf9Ss623VQ5DA invoke [2]\",\"Program log: Instruction: Transfer\",\"Program TokenkegQfeZyiNwAJbNbGKPFXCWuBvf9Ss623VQ5DA consumed 4645 of 1154776 compute units\",\"Program TokenkegQfeZyiNwAJbNbGKPFXCWuBvf9Ss623VQ5DA success\",\"Program HWy1jotHpo6UqeQxx49dpYYdQB8wj9Qk9MdxwjLvDHB8 consumed 29041 of 1178395 compute units\",\"Program HWy1jotHpo6UqeQxx49dpYYdQB8wj9Qk9MdxwjLvDHB8 success\",\"Program TokenkegQfeZyiNwAJbNbGKPFXCWuBvf9Ss623VQ5DA invoke [1]\",\"Program log: Instruction: CloseAccount\",\"Program TokenkegQfeZyiNwAJbNbGKPFXCWuBvf9Ss623VQ5DA consumed 2915 of 1149354 compute units\",\"Program TokenkegQfeZyiNwAJbNbGKPFXCWuBvf9Ss623VQ5DA success\",\"Program TokenkegQfeZyiNwAJbNbGKPFXCWuBvf9Ss623VQ5DA invoke [1]\",\"Program log: Instruction: CloseAccount\",\"Program TokenkegQfeZyiNwAJbNbGKPFXCWuBvf9Ss623VQ5DA consumed 2915 of 1146439 compute units\",\"Program TokenkegQfeZyiNwAJbNbGKPFXCWuBvf9Ss623VQ5DA success\",\"Program 11111111111111111111111111111111 invoke [1]\",\"Program 11111111111111111111111111111111 success\"],\"preTokenBalances\":[{\"accountIndex\":6,\"mint\":\"abmNjSkQAE6BNGJzXPuHPUtDLWZ1EPi13X47tCrkBx9\",\"uiTokenAmount\":{\"uiAmount\":3484311589.777838,\"decimals\":6,\"amount\":\"3484311589777838\",\"uiAmountString\":\"3484311589.777838\"},\"owner\":\"DbQqP6ehDYmeYjcBaMRuA8tAJY1EjDUz9DpwSLjaQqfC\",\"programId\":\"TokenkegQfeZyiNwAJbNbGKPFXCWuBvf9Ss623VQ5DA\"},{\"accountIndex\":7,\"mint\":\"So11111111111111111111111111111111111111112\",\"uiTokenAmount\":{\"uiAmount\":0.95057314,\"decimals\":9,\"amount\":\"950573140\",\"uiAmountString\":\"0.95057314\"},\"owner\":\"DbQqP6ehDYmeYjcBaMRuA8tAJY1EjDUz9DpwSLjaQqfC\",\"programId\":\"TokenkegQfeZyiNwAJbNbGKPFXCWuBvf9Ss623VQ5DA\"},{\"accountIndex\":12,\"mint\":\"abmNjSkQAE6BNGJzXPuHPUtDLWZ1EPi13X47tCrkBx9\",\"uiTokenAmount\":{\"uiAmount\":null,\"decimals\":6,\"amount\":\"0\",\"uiAmountString\":\"0\"},\"owner\":\"42E9wcrk58Jw89FkDrEdGpoink47tv1FbPhnx5ZVDFzu\",\"programId\":\"TokenkegQfeZyiNwAJbNbGKPFXCWuBvf9Ss623VQ5DA\"},{\"accountIndex\":13,\"mint\":\"So11111111111111111111111111111111111111112\",\"uiTokenAmount\":{\"uiAmount\":null,\"decimals\":9,\"amount\":\"0\",\"uiAmountString\":\"0\"},\"owner\":\"42E9wcrk58Jw89FkDrEdGpoink47tv1FbPhnx5ZVDFzu\",\"programId\":\"TokenkegQfeZyiNwAJbNbGKPFXCWuBvf9Ss623VQ5DA\"},{\"accountIndex\":14,\"mint\":\"abmNjSkQAE6BNGJzXPuHPUtDLWZ1EPi13X47tCrkBx9\",\"uiTokenAmount\":{\"uiAmount\":31188333.341209,\"decimals\":6,\"amount\":\"31188333341209\",\"uiAmountString\":\"31188333.341209\"},\"owner\":\"29dRLS2FLWunZzfTcKy2gM5ZeCSfsFZuEoxbWBkTNXjJ\",\"programId\":\"TokenkegQfeZyiNwAJbNbGKPFXCWuBvf9Ss623VQ5DA\"}],\"postTokenBalances\":[{\"accountIndex\":6,\"mint\":\"abmNjSkQAE6BNGJzXPuHPUtDLWZ1EPi13X47tCrkBx9\",\"uiTokenAmount\":{\"uiAmount\":3483102835.397882,\"decimals\":6,\"amount\":\"3483102835397882\",\"uiAmountString\":\"3483102835.397882\"},\"owner\":\"DbQqP6ehDYmeYjcBaMRuA8tAJY1EjDUz9DpwSLjaQqfC\",\"programId\":\"TokenkegQfeZyiNwAJbNbGKPFXCWuBvf9Ss623VQ5DA\"},{\"accountIndex\":7,\"mint\":\"So11111111111111111111111111111111111111112\",\"uiTokenAmount\":{\"uiAmount\":0.950903848,\"decimals\":9,\"amount\":\"950903848\",\"uiAmountString\":\"0.950903848\"},\"owner\":\"DbQqP6ehDYmeYjcBaMRuA8tAJY1EjDUz9DpwSLjaQqfC\",\"programId\":\"TokenkegQfeZyiNwAJbNbGKPFXCWuBvf9Ss623VQ5DA\"},{\"accountIndex\":12,\"mint\":\"abmNjSkQAE6BNGJzXPuHPUtDLWZ1EPi13X47tCrkBx9\",\"uiTokenAmount\":{\"uiAmount\":null,\"decimals\":6,\"amount\":\"0\",\"uiAmountString\":\"0\"},\"owner\":\"42E9wcrk58Jw89FkDrEdGpoink47tv1FbPhnx5ZVDFzu\",\"programId\":\"TokenkegQfeZyiNwAJbNbGKPFXCWuBvf9Ss623VQ5DA\"},{\"accountIndex\":13,\"mint\":\"So11111111111111111111111111111111111111112\",\"uiTokenAmount\":{\"uiAmount\":null,\"decimals\":9,\"amount\":\"0\",\"uiAmountString\":\"0\"},\"owner\":\"42E9wcrk58Jw89FkDrEdGpoink47tv1FbPhnx5ZVDFzu\",\"programId\":\"TokenkegQfeZyiNwAJbNbGKPFXCWuBvf9Ss623VQ5DA\"},{\"accountIndex\":14,\"mint\":\"abmNjSkQAE6BNGJzXPuHPUtDLWZ1EPi13X47tCrkBx9\",\"uiTokenAmount\":{\"uiAmount\":32397087.721165,\"decimals\":6,\"amount\":\"32397087721165\",\"uiAmountString\":\"32397087.721165\"},\"owner\":\"29dRLS2FLWunZzfTcKy2gM5ZeCSfsFZuEoxbWBkTNXjJ\",\"programId\":\"TokenkegQfeZyiNwAJbNbGKPFXCWuBvf9Ss623VQ5DA\"}],\"rewards\":[],\"loadedAddresses\":{\"writable\":[],\"readonly\":[]},\"computeUnitsConsumed\":62626},\"version\":0}\n"
     ]
    }
   ],
   "source": [
    "tx= getTx(\"dev_rpc\",\"3TG5NbmPrrGU19nNqjaRdYE72kTWgqobikpfNWpBA4TmTYRHr2unjkr64Bz6PwN8gE5xSkKu18NVtsCSXvQthtbT\")\n",
    "print(tx.value.transaction.to_json())"
   ]
  },
  {
   "cell_type": "code",
   "execution_count": 3,
   "id": "68014198",
   "metadata": {},
   "outputs": [
    {
     "name": "stdout",
     "output_type": "stream",
     "text": [
      "  Data (Base58 decoded): 030000001111835cf7f2e0254933d706ca6fe35203438bf800ddbb38bb31e86ea9d455952000000000000000337558507742667135713454414533723852487168354d4b6673554a504d6364c429240000000000a50000000000000006ddf6e1d765a193d9cbe146ceeb79ac1cb485ed5f5b37913a8cf5857eff00a9\n",
      "  Data (Base58 decoded): 1111835cf7f2e0254933d706ca6fe35203438bf800ddbb38bb31e86ea9d455952000000000000000337558507742667135713454414533723852487168354d4b6673554a504d6364c429240000000000a50000000000000006ddf6e1d765a193d9cbe146ceeb79ac1cb485ed5f5b37913a8cf5857eff00a9\n",
      "Decoding (parsing) -> seed as String 337558507742667135713454414533723852487168354d4b6673554a504d6364\n"
     ]
    },
    {
     "data": {
      "text/plain": [
       "Container(base=Pubkey(\n",
       "    29dRLS2FLWunZzfTcKy2gM5ZeCSfsFZuEoxbWBkTNXjJ,\n",
       "), seed=u'3uXPwBfq5q4TAE3r8RHqh5MKfsUJPMcd', amount=2369988, space=165, programAddress=Pubkey(\n",
       "    TokenkegQfeZyiNwAJbNbGKPFXCWuBvf9Ss623VQ5DA,\n",
       "))"
      ]
     },
     "execution_count": 3,
     "metadata": {},
     "output_type": "execute_result"
    }
   ],
   "source": [
    "decoded_data = based58.b58decode(\"3ipZWasGaR3XJSYcjzcKzTV1zLEgu9ixvD57gR3MrbTN4fVMd8q81Z9jza1ARcVH65aTV6bAb8M9aisDD7zhfuXvxRacfu2GjeVeVbUJqWHNo7UcnKPFVisxgmWrPAQeFWrD3ifm2E7PTpTk1EVaoZyfjzUmD46fXuGy1wVsv\".encode('utf-8'))\n",
    "print(f\"  Data (Base58 decoded): {decoded_data.hex()}\")\n",
    "print(f\"  Data (Base58 decoded): {decoded_data[4:].hex()}\")\n",
    "from system.instructions import createAccountWithSeed\n",
    "createAccountWithSeed.layout.parse(decoded_data[4:])"
   ]
  },
  {
   "cell_type": "code",
   "execution_count": 6,
   "id": "970806b0",
   "metadata": {},
   "outputs": [
    {
     "name": "stdout",
     "output_type": "stream",
     "text": [
      "Instruction: 030000001111835cf7f2e0254933d706ca6fe35203438bf800ddbb38bb31e86ea9d455952000000000000000337558507742667135713454414533723852487168354d4b6673554a504d6364c429240000000000a50000000000000006ddf6e1d765a193d9cbe146ceeb79ac1cb485ed5f5b37913a8cf5857eff00a9\n",
      "Decoding (parsing) -> seed as String 337558507742667135713454414533723852487168354d4b6673554a504d6364\n"
     ]
    },
    {
     "data": {
      "text/plain": [
       "Container(base=Pubkey(\n",
       "    29dRLS2FLWunZzfTcKy2gM5ZeCSfsFZuEoxbWBkTNXjJ,\n",
       "), seed=u'3uXPwBfq5q4TAE3r8RHqh5MKfsUJPMcd', amount=2369988, space=165, programAddress=Pubkey(\n",
       "    TokenkegQfeZyiNwAJbNbGKPFXCWuBvf9Ss623VQ5DA,\n",
       "))"
      ]
     },
     "execution_count": 6,
     "metadata": {},
     "output_type": "execute_result"
    }
   ],
   "source": [
    "from system.instructions import createAccountWithSeed\n",
    "from solders.pubkey import Pubkey\n",
    "args :createAccountWithSeed.CreateAccountWithSeedArgs={\"base\":Pubkey.from_string(\"29dRLS2FLWunZzfTcKy2gM5ZeCSfsFZuEoxbWBkTNXjJ\"),\n",
    "                                                       \"seed\":\"3uXPwBfq5q4TAE3r8RHqh5MKfsUJPMcd\",\n",
    "                                                       \"amount\":2369988,\n",
    "                                                       \"space\":165,\n",
    "                                                       \"programAddress\":Pubkey.from_string(\"TokenkegQfeZyiNwAJbNbGKPFXCWuBvf9Ss623VQ5DA\")}\n",
    "accounts:createAccountWithSeed.CreateAccountWithSeedAccounts={\n",
    "    \"payer\":Pubkey.from_string(\"29dRLS2FLWunZzfTcKy2gM5ZeCSfsFZuEoxbWBkTNXjJ\"),\n",
    "    \"newAccount\":Pubkey.from_string(\"TokenkegQfeZyiNwAJbNbGKPFXCWuBvf9Ss623VQ5DA\"),\n",
    "    \"baseAccount\":Pubkey.from_string(\"11111111111111111111111111111111\"),\n",
    "\n",
    "}\n",
    "ix = createAccountWithSeed.CreateAccountWithSeed(args,accounts)\n",
    "print(f\"Instruction: {ix.data.hex()}\")\n",
    "createAccountWithSeed.layout.parse(ix.data[4:])"
   ]
  },
  {
   "cell_type": "code",
   "execution_count": 3,
   "id": "4ed53be3",
   "metadata": {},
   "outputs": [
    {
     "name": "stdout",
     "output_type": "stream",
     "text": [
      "ixn: (3,)\n",
      "base:  29dRLS2FLWunZzfTcKy2gM5ZeCSfsFZuEoxbWBkTNXjJ\n",
      "base:  2000000000000000337558507742667135713454414533723852487168354d4b6673554a504d6364c429240000000000a50000000000000006ddf6e1d765a193d9cbe146ceeb79ac1cb485ed5f5b37913a8cf5857eff00a9\n",
      "base:  00000000337558507742667135713454414533723852487168354d4b6673554a504d6364c429240000000000a50000000000000006ddf6e1d765a193d9cbe146ceeb79ac1cb485ed5f5b37913a8cf5857eff00a9\n",
      "seed: 00000000337558507742667135713454414533723852487168354d4b6673554a\n",
      "\u0000\u0000\u0000\u00003uXPwBfq5q4TAE3r8RHqh5MKfsUJ\n"
     ]
    }
   ],
   "source": [
    "import struct\n",
    "from solders.pubkey import Pubkey\n",
    "bytes.fromhex(\"00000000337558507742667135713454414533723852487168354d4b6673554a\") #decode('utf-32')\n",
    "bs = bytes.fromhex(\"030000001111835cf7f2e0254933d706ca6fe35203438bf800ddbb38bb31e86ea9d455952000000000000000337558507742667135713454414533723852487168354d4b6673554a504d6364c429240000000000a50000000000000006ddf6e1d765a193d9cbe146ceeb79ac1cb485ed5f5b37913a8cf5857eff00a9\")\n",
    "ixn = struct.unpack_from(\"<i\", bs, 0)\n",
    "print(f\"ixn: {ixn}\")\n",
    "base = struct.unpack_from(\"32s\", bs[4:], 0)\n",
    "basekey = Pubkey.from_bytes(base[0])\n",
    "print(f\"base:  {basekey}\")\n",
    "print(f\"base:  {bs[36:].hex()}\")\n",
    "print(f\"base:  {bs[40:].hex()}\")\n",
    "seed = struct.unpack_from(\"32s\", bs[40:], 0)\n",
    "print(f\"seed: {seed[0].hex()}\\n{seed[0].decode('utf-8')}\")"
   ]
  }
 ],
 "metadata": {
  "kernelspec": {
   "display_name": ".venv",
   "language": "python",
   "name": "python3"
  },
  "language_info": {
   "codemirror_mode": {
    "name": "ipython",
    "version": 3
   },
   "file_extension": ".py",
   "mimetype": "text/x-python",
   "name": "python",
   "nbconvert_exporter": "python",
   "pygments_lexer": "ipython3",
   "version": "3.13.1"
  }
 },
 "nbformat": 4,
 "nbformat_minor": 5
}
