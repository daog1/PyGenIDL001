{
 "cells": [
  {
   "cell_type": "code",
   "execution_count": 1,
   "id": "6edd457a",
   "metadata": {},
   "outputs": [],
   "source": [
    "import anchorpy\n",
    "import solana\n",
    "from dotenv import load_dotenv\n",
    "import os\n",
    "import sys\n",
    "from solders.pubkey import Pubkey\n",
    "from solana.rpc.api import Client\n",
    "from solders.hash import Hash\n",
    "from solders.keypair import Keypair\n",
    "from solders.message import MessageV0\n",
    "from solders.system_program import TransferParams, transfer\n",
    "from solders.transaction import VersionedTransaction\n",
    "from solders.instruction import AccountMeta, Instruction;\n",
    "import borsh_construct as borsh;\n",
    "from solders.address_lookup_table_account import AddressLookupTableAccount, AddressLookupTable\n",
    "import typing\n",
    "from construct import Construct\n",
    "current_dir = os.getcwd()\n",
    "parent_dir = os.path.dirname(current_dir)\n",
    "sys.path.append(parent_dir)"
   ]
  },
  {
   "cell_type": "code",
   "execution_count": 2,
   "id": "6a5650b8",
   "metadata": {},
   "outputs": [
    {
     "name": "stdout",
     "output_type": "stream",
     "text": [
      "True\n"
     ]
    }
   ],
   "source": [
    "load_dotenv()\n",
    "client = Client(\"http://127.0.0.1:8899\")\n",
    "print(client.is_connected())\n",
    "sender = Keypair.from_base58_string(str(os.getenv(\"alice\")))"
   ]
  },
  {
   "cell_type": "code",
   "execution_count": 3,
   "id": "62220b62",
   "metadata": {},
   "outputs": [
    {
     "name": "stdout",
     "output_type": "stream",
     "text": [
      "['Program HFn8GnPADiny6XqUoWE8uRPPxb29ikn4yTuPa9MF2fWJ invoke [1]', 'Program log: Instruction: RefreshPriceList', 'Program log: tk 22, PythPull: 100046206 to 100046206 | prev_slot: 343780388, new_slot: 343780355, crt_slot: 343780690', 'Program log: tk 0, PythPull: 15764440440 to 15765390000 | prev_slot: 343780390, new_slot: 343780400, crt_slot: 343780690', 'Program HFn8GnPADiny6XqUoWE8uRPPxb29ikn4yTuPa9MF2fWJ consumed 15591 of 200000 compute units', 'Program HFn8GnPADiny6XqUoWE8uRPPxb29ikn4yTuPa9MF2fWJ success']\n"
     ]
    }
   ],
   "source": [
    "from scope.instructions import refreshPriceList\n",
    "ix = refreshPriceList.RefreshPriceList(refreshPriceList.RefreshPriceListArgs(tokens=[22,0]),\n",
    "                                  refreshPriceList.RefreshPriceListAccounts({\n",
    "                                    \"oraclePrices\":Pubkey.from_string(\"3NJYftD5sjVfxSnUdZ1wVML8f3aC6mp1CXCL6L7TnU8C\"),\n",
    "                                    \"oracleMappings\":Pubkey.from_string(\"Chpu5ZgfWX5ZzVpUx9Xvv4WPM75Xd7zPJNDPsFnCpLpk\"),\n",
    "                                    \"oracleTwaps\":Pubkey.from_string(\"GbpsVomudPRRwmqfTmo3MYQVTikPG6QXxqpzJexA1JRb\"),\n",
    "                                    \"instructionSysvarAccountInfo\":Pubkey.from_string(\"Sysvar1nstructions1111111111111111111111111\"),}),\n",
    "                                    remaining_accounts=[\n",
    "                                        AccountMeta(pubkey=Pubkey.from_string(\"HT2PLQBcG5EiCcNSaMHAjSgd9F98ecpATbk4Sk5oYuM\"), is_signer=False, is_writable=True),\n",
    "                                        AccountMeta(pubkey=Pubkey.from_string(\"7UVimffxr9ow1uXYxsr4LHAcV58mLzhmwaeKvJ1pjLiE\"), is_signer=False, is_writable=True),\n",
    "                                    ])\n",
    "alts = [Pubkey.from_string(\"284iwGtA9X9aLy3KsyV8uT2pXLARhYbiSi5SiM2g47M2\")]\n",
    "account_info =  client.get_multiple_accounts(alts).value    \n",
    "address_table_list = [\n",
    "                AddressLookupTableAccount(\n",
    "                    key=k,\n",
    "                    addresses=AddressLookupTable.deserialize(\n",
    "                        account_info[i].data\n",
    "                    ).addresses\n",
    "                )\n",
    "                for i, k in enumerate(alts)\n",
    "            ]\n",
    "blockhash = client.get_latest_blockhash().value.blockhash #Hash.default()  # replace with a real blockhash using get_latest_blockhash\n",
    "msg = MessageV0.try_compile(\n",
    "        payer=sender.pubkey(),\n",
    "        instructions=[ix],\n",
    "        address_lookup_table_accounts=address_table_list,\n",
    "        recent_blockhash=blockhash,\n",
    "    )\n",
    "tx = VersionedTransaction(msg, [sender])\n",
    "result = client.simulate_transaction(tx) \n",
    "print(result.value.logs)\n"
   ]
  },
  {
   "cell_type": "markdown",
   "id": "d17114a7",
   "metadata": {},
   "source": []
  }
 ],
 "metadata": {
  "kernelspec": {
   "display_name": ".venv",
   "language": "python",
   "name": "python3"
  },
  "language_info": {
   "codemirror_mode": {
    "name": "ipython",
    "version": 3
   },
   "file_extension": ".py",
   "mimetype": "text/x-python",
   "name": "python",
   "nbconvert_exporter": "python",
   "pygments_lexer": "ipython3",
   "version": "3.13.1"
  }
 },
 "nbformat": 4,
 "nbformat_minor": 5
}
